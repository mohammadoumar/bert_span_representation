{
 "cells": [
  {
   "cell_type": "markdown",
   "metadata": {
    "gradient": {
     "editing": false,
     "id": "bb0e5f83-d32d-4d5e-bb28-cf61e6a4fd47",
     "kernelId": ""
    }
   },
   "source": [
    "# Prepare dataset"
   ]
  },
  {
   "cell_type": "markdown",
   "metadata": {
    "gradient": {
     "editing": false,
     "id": "c41f6822-5637-4efa-9850-ff1b8e2a109a",
     "kernelId": ""
    }
   },
   "source": [
    "- Create dataset from the new dataframe"
   ]
  },
  {
   "cell_type": "markdown",
   "metadata": {
    "gradient": {
     "editing": false,
     "id": "190922a4-3897-4417-b2e3-ad2e51dd6b1a",
     "kernelId": ""
    }
   },
   "source": [
    "## Librairies"
   ]
  },
  {
   "cell_type": "code",
   "execution_count": 1,
   "metadata": {
    "gradient": {
     "editing": false,
     "id": "7008b3a2-1f1f-432b-a232-71b4d9af1246",
     "kernelId": ""
    },
    "scrolled": true
   },
   "outputs": [
    {
     "name": "stdout",
     "output_type": "stream",
     "text": [
      "Looking in indexes: https://pypi.org/simple, https://pypi.ngc.nvidia.com\n",
      "Collecting pandas==1.3.4\n",
      "  Downloading pandas-1.3.4-cp38-cp38-manylinux_2_17_x86_64.manylinux2014_x86_64.whl (11.5 MB)\n",
      "\u001b[K     |████████████████████████████████| 11.5 MB 26.2 MB/s eta 0:00:01\n",
      "\u001b[?25hRequirement already satisfied: numpy>=1.17.3 in /opt/conda/lib/python3.8/site-packages (from pandas==1.3.4) (1.21.2)\n",
      "Requirement already satisfied: python-dateutil>=2.7.3 in /opt/conda/lib/python3.8/site-packages (from pandas==1.3.4) (2.8.2)\n",
      "Requirement already satisfied: pytz>=2017.3 in /opt/conda/lib/python3.8/site-packages (from pandas==1.3.4) (2021.3)\n",
      "Requirement already satisfied: six>=1.5 in /opt/conda/lib/python3.8/site-packages (from python-dateutil>=2.7.3->pandas==1.3.4) (1.16.0)\n",
      "Installing collected packages: pandas\n",
      "Successfully installed pandas-1.3.4\n",
      "\u001b[33mWARNING: Running pip as the 'root' user can result in broken permissions and conflicting behaviour with the system package manager. It is recommended to use a virtual environment instead: https://pip.pypa.io/warnings/venv\u001b[0m\n",
      "Looking in indexes: https://pypi.org/simple, https://pypi.ngc.nvidia.com\n",
      "Collecting transformers==4.12.5\n",
      "  Downloading transformers-4.12.5-py3-none-any.whl (3.1 MB)\n",
      "\u001b[K     |████████████████████████████████| 3.1 MB 25.9 MB/s eta 0:00:01\n",
      "\u001b[?25hRequirement already satisfied: filelock in /opt/conda/lib/python3.8/site-packages (from transformers==4.12.5) (3.3.0)\n",
      "Requirement already satisfied: tqdm>=4.27 in /opt/conda/lib/python3.8/site-packages (from transformers==4.12.5) (4.62.3)\n",
      "Collecting huggingface-hub<1.0,>=0.1.0\n",
      "  Downloading huggingface_hub-0.10.1-py3-none-any.whl (163 kB)\n",
      "\u001b[K     |████████████████████████████████| 163 kB 84.5 MB/s eta 0:00:01\n",
      "\u001b[?25hRequirement already satisfied: sacremoses in /opt/conda/lib/python3.8/site-packages (from transformers==4.12.5) (0.0.46)\n",
      "Requirement already satisfied: requests in /opt/conda/lib/python3.8/site-packages (from transformers==4.12.5) (2.26.0)\n",
      "Requirement already satisfied: regex!=2019.12.17 in /opt/conda/lib/python3.8/site-packages (from transformers==4.12.5) (2021.10.8)\n",
      "Requirement already satisfied: numpy>=1.17 in /opt/conda/lib/python3.8/site-packages (from transformers==4.12.5) (1.21.2)\n",
      "Requirement already satisfied: packaging>=20.0 in /opt/conda/lib/python3.8/site-packages (from transformers==4.12.5) (21.0)\n",
      "Collecting tokenizers<0.11,>=0.10.1\n",
      "  Downloading tokenizers-0.10.3-cp38-cp38-manylinux_2_5_x86_64.manylinux1_x86_64.manylinux_2_12_x86_64.manylinux2010_x86_64.whl (3.3 MB)\n",
      "\u001b[K     |████████████████████████████████| 3.3 MB 73.8 MB/s eta 0:00:01\n",
      "\u001b[?25hRequirement already satisfied: pyyaml>=5.1 in /opt/conda/lib/python3.8/site-packages (from transformers==4.12.5) (5.4.1)\n",
      "Requirement already satisfied: typing-extensions>=3.7.4.3 in /opt/conda/lib/python3.8/site-packages (from huggingface-hub<1.0,>=0.1.0->transformers==4.12.5) (3.10.0.2)\n",
      "Requirement already satisfied: pyparsing>=2.0.2 in /opt/conda/lib/python3.8/site-packages (from packaging>=20.0->transformers==4.12.5) (2.4.7)\n",
      "Requirement already satisfied: urllib3<1.27,>=1.21.1 in /opt/conda/lib/python3.8/site-packages (from requests->transformers==4.12.5) (1.26.7)\n",
      "Requirement already satisfied: certifi>=2017.4.17 in /opt/conda/lib/python3.8/site-packages (from requests->transformers==4.12.5) (2021.5.30)\n",
      "Requirement already satisfied: idna<4,>=2.5 in /opt/conda/lib/python3.8/site-packages (from requests->transformers==4.12.5) (3.1)\n",
      "Requirement already satisfied: charset-normalizer~=2.0.0 in /opt/conda/lib/python3.8/site-packages (from requests->transformers==4.12.5) (2.0.0)\n",
      "Requirement already satisfied: joblib in /opt/conda/lib/python3.8/site-packages (from sacremoses->transformers==4.12.5) (1.1.0)\n",
      "Requirement already satisfied: click in /opt/conda/lib/python3.8/site-packages (from sacremoses->transformers==4.12.5) (8.0.1)\n",
      "Requirement already satisfied: six in /opt/conda/lib/python3.8/site-packages (from sacremoses->transformers==4.12.5) (1.16.0)\n",
      "Installing collected packages: tokenizers, huggingface-hub, transformers\n",
      "Successfully installed huggingface-hub-0.10.1 tokenizers-0.10.3 transformers-4.12.5\n",
      "\u001b[33mWARNING: Running pip as the 'root' user can result in broken permissions and conflicting behaviour with the system package manager. It is recommended to use a virtual environment instead: https://pip.pypa.io/warnings/venv\u001b[0m\n",
      "Looking in indexes: https://pypi.org/simple, https://pypi.ngc.nvidia.com\n",
      "Collecting datasets==1.15.1\n",
      "  Downloading datasets-1.15.1-py3-none-any.whl (290 kB)\n",
      "\u001b[K     |████████████████████████████████| 290 kB 28.5 MB/s eta 0:00:01\n",
      "\u001b[?25hCollecting xxhash\n",
      "  Downloading xxhash-3.0.0-cp38-cp38-manylinux_2_17_x86_64.manylinux2014_x86_64.whl (212 kB)\n",
      "\u001b[K     |████████████████████████████████| 212 kB 99.8 MB/s eta 0:00:01\n",
      "\u001b[?25hRequirement already satisfied: tqdm>=4.62.1 in /opt/conda/lib/python3.8/site-packages (from datasets==1.15.1) (4.62.3)\n",
      "Collecting aiohttp\n",
      "  Downloading aiohttp-3.8.3-cp38-cp38-manylinux_2_17_x86_64.manylinux2014_x86_64.whl (1.0 MB)\n",
      "\u001b[K     |████████████████████████████████| 1.0 MB 60.5 MB/s eta 0:00:01\n",
      "\u001b[?25hRequirement already satisfied: huggingface-hub<1.0.0,>=0.1.0 in /opt/conda/lib/python3.8/site-packages (from datasets==1.15.1) (0.10.1)\n",
      "Collecting pyarrow!=4.0.0,>=1.0.0\n",
      "  Downloading pyarrow-9.0.0-cp38-cp38-manylinux_2_17_x86_64.manylinux2014_x86_64.whl (35.3 MB)\n",
      "\u001b[K     |████████████████████████████████| 35.3 MB 74.1 MB/s eta 0:00:01\n",
      "\u001b[?25hRequirement already satisfied: numpy>=1.17 in /opt/conda/lib/python3.8/site-packages (from datasets==1.15.1) (1.21.2)\n",
      "Requirement already satisfied: requests>=2.19.0 in /opt/conda/lib/python3.8/site-packages (from datasets==1.15.1) (2.26.0)\n",
      "Requirement already satisfied: packaging in /opt/conda/lib/python3.8/site-packages (from datasets==1.15.1) (21.0)\n",
      "Collecting fsspec[http]>=2021.05.0\n",
      "  Downloading fsspec-2022.8.2-py3-none-any.whl (140 kB)\n",
      "\u001b[K     |████████████████████████████████| 140 kB 93.5 MB/s eta 0:00:01\n",
      "\u001b[?25hCollecting multiprocess\n",
      "  Downloading multiprocess-0.70.13-py38-none-any.whl (131 kB)\n",
      "\u001b[K     |████████████████████████████████| 131 kB 92.6 MB/s eta 0:00:01\n",
      "\u001b[?25hRequirement already satisfied: pandas in /opt/conda/lib/python3.8/site-packages (from datasets==1.15.1) (1.3.4)\n",
      "Collecting dill\n",
      "  Downloading dill-0.3.5.1-py2.py3-none-any.whl (95 kB)\n",
      "\u001b[K     |████████████████████████████████| 95 kB 81.4 MB/s eta 0:00:01\n",
      "\u001b[?25hCollecting aiosignal>=1.1.2\n",
      "  Downloading aiosignal-1.2.0-py3-none-any.whl (8.2 kB)\n",
      "Collecting multidict<7.0,>=4.5\n",
      "  Downloading multidict-6.0.2-cp38-cp38-manylinux_2_17_x86_64.manylinux2014_x86_64.whl (121 kB)\n",
      "\u001b[K     |████████████████████████████████| 121 kB 98.2 MB/s eta 0:00:01\n",
      "\u001b[?25hCollecting frozenlist>=1.1.1\n",
      "  Downloading frozenlist-1.3.1-cp38-cp38-manylinux_2_5_x86_64.manylinux1_x86_64.manylinux_2_17_x86_64.manylinux2014_x86_64.whl (161 kB)\n",
      "\u001b[K     |████████████████████████████████| 161 kB 99.3 MB/s eta 0:00:01\n",
      "\u001b[?25hRequirement already satisfied: charset-normalizer<3.0,>=2.0 in /opt/conda/lib/python3.8/site-packages (from aiohttp->datasets==1.15.1) (2.0.0)\n",
      "Requirement already satisfied: attrs>=17.3.0 in /opt/conda/lib/python3.8/site-packages (from aiohttp->datasets==1.15.1) (21.2.0)\n",
      "Collecting yarl<2.0,>=1.0\n",
      "  Downloading yarl-1.8.1-cp38-cp38-manylinux_2_17_x86_64.manylinux2014_x86_64.whl (262 kB)\n",
      "\u001b[K     |████████████████████████████████| 262 kB 94.8 MB/s eta 0:00:01\n",
      "\u001b[?25hCollecting async-timeout<5.0,>=4.0.0a3\n",
      "  Downloading async_timeout-4.0.2-py3-none-any.whl (5.8 kB)\n",
      "Requirement already satisfied: filelock in /opt/conda/lib/python3.8/site-packages (from huggingface-hub<1.0.0,>=0.1.0->datasets==1.15.1) (3.3.0)\n",
      "Requirement already satisfied: typing-extensions>=3.7.4.3 in /opt/conda/lib/python3.8/site-packages (from huggingface-hub<1.0.0,>=0.1.0->datasets==1.15.1) (3.10.0.2)\n",
      "Requirement already satisfied: pyyaml>=5.1 in /opt/conda/lib/python3.8/site-packages (from huggingface-hub<1.0.0,>=0.1.0->datasets==1.15.1) (5.4.1)\n",
      "Requirement already satisfied: pyparsing>=2.0.2 in /opt/conda/lib/python3.8/site-packages (from packaging->datasets==1.15.1) (2.4.7)\n",
      "Requirement already satisfied: urllib3<1.27,>=1.21.1 in /opt/conda/lib/python3.8/site-packages (from requests>=2.19.0->datasets==1.15.1) (1.26.7)\n",
      "Requirement already satisfied: idna<4,>=2.5 in /opt/conda/lib/python3.8/site-packages (from requests>=2.19.0->datasets==1.15.1) (3.1)\n",
      "Requirement already satisfied: certifi>=2017.4.17 in /opt/conda/lib/python3.8/site-packages (from requests>=2.19.0->datasets==1.15.1) (2021.5.30)\n",
      "Requirement already satisfied: pytz>=2017.3 in /opt/conda/lib/python3.8/site-packages (from pandas->datasets==1.15.1) (2021.3)\n",
      "Requirement already satisfied: python-dateutil>=2.7.3 in /opt/conda/lib/python3.8/site-packages (from pandas->datasets==1.15.1) (2.8.2)\n",
      "Requirement already satisfied: six>=1.5 in /opt/conda/lib/python3.8/site-packages (from python-dateutil>=2.7.3->pandas->datasets==1.15.1) (1.16.0)\n",
      "Installing collected packages: multidict, frozenlist, yarl, async-timeout, aiosignal, fsspec, dill, aiohttp, xxhash, pyarrow, multiprocess, datasets\n",
      "Successfully installed aiohttp-3.8.3 aiosignal-1.2.0 async-timeout-4.0.2 datasets-1.15.1 dill-0.3.5.1 frozenlist-1.3.1 fsspec-2022.8.2 multidict-6.0.2 multiprocess-0.70.13 pyarrow-9.0.0 xxhash-3.0.0 yarl-1.8.1\n",
      "\u001b[33mWARNING: Running pip as the 'root' user can result in broken permissions and conflicting behaviour with the system package manager. It is recommended to use a virtual environment instead: https://pip.pypa.io/warnings/venv\u001b[0m\n"
     ]
    }
   ],
   "source": [
    "!pip install pandas==1.3.4\n",
    "!pip install transformers==4.12.5\n",
    "!pip install datasets==1.15.1"
   ]
  },
  {
   "cell_type": "code",
   "execution_count": 2,
   "metadata": {
    "gradient": {
     "editing": false,
     "id": "a705b996-66aa-4aa6-9ce0-1edd956b8866",
     "kernelId": ""
    }
   },
   "outputs": [],
   "source": [
    "import os\n",
    "import pickle\n",
    "\n",
    "import pandas as pd\n",
    "\n",
    "import numpy as np\n",
    "import torch\n",
    "\n",
    "import transformers\n",
    "from transformers import BertTokenizer\n",
    "\n",
    "import datasets\n",
    "from datasets import concatenate_datasets\n",
    "from datasets import Dataset\n",
    "from datasets import ClassLabel\n",
    "from datasets import DatasetDict"
   ]
  },
  {
   "cell_type": "code",
   "execution_count": 3,
   "metadata": {
    "gradient": {
     "editing": false,
     "id": "a8a8872d-0a98-4bd7-b38a-37810f8cdab3",
     "kernelId": ""
    }
   },
   "outputs": [
    {
     "name": "stdout",
     "output_type": "stream",
     "text": [
      "pandas:\t\t 1.3.4\n",
      "transformers:\t 4.12.5\n",
      "datasets:\t 1.15.1\n"
     ]
    }
   ],
   "source": [
    "print('pandas:\\t\\t', pd.__version__)\n",
    "print('transformers:\\t', transformers.__version__)\n",
    "print('datasets:\\t', datasets.__version__)"
   ]
  },
  {
   "cell_type": "markdown",
   "metadata": {
    "gradient": {
     "editing": false,
     "id": "5bf6295b-ee0c-47fa-8aa7-4aa06f0bab27",
     "kernelId": ""
    }
   },
   "source": [
    "## Load Data"
   ]
  },
  {
   "cell_type": "code",
   "execution_count": 4,
   "metadata": {},
   "outputs": [],
   "source": [
    "dataset_df = pd.read_pickle(\"/notebooks/KURI-BERT/data/pe_dataset_w_essay_position_pos_tags_pickle\")"
   ]
  },
  {
   "cell_type": "code",
   "execution_count": 5,
   "metadata": {},
   "outputs": [
    {
     "data": {
      "text/html": [
       "<div>\n",
       "<style scoped>\n",
       "    .dataframe tbody tr th:only-of-type {\n",
       "        vertical-align: middle;\n",
       "    }\n",
       "\n",
       "    .dataframe tbody tr th {\n",
       "        vertical-align: top;\n",
       "    }\n",
       "\n",
       "    .dataframe thead th {\n",
       "        text-align: right;\n",
       "    }\n",
       "</style>\n",
       "<table border=\"1\" class=\"dataframe\">\n",
       "  <thead>\n",
       "    <tr style=\"text-align: right;\">\n",
       "      <th></th>\n",
       "      <th>essay_nr</th>\n",
       "      <th>component_id</th>\n",
       "      <th>label_and_comp_idxs</th>\n",
       "      <th>text</th>\n",
       "      <th>label_x</th>\n",
       "      <th>label_ComponentType</th>\n",
       "      <th>relation_SupportAttack</th>\n",
       "      <th>label_RelationType</th>\n",
       "      <th>label_LinkedNotLinked</th>\n",
       "      <th>split_y</th>\n",
       "      <th>...</th>\n",
       "      <th>is_last_in_para</th>\n",
       "      <th>nr_preceeding_comps_in_para</th>\n",
       "      <th>nr_following_comps_in_para</th>\n",
       "      <th>structural_fts_as_text</th>\n",
       "      <th>structural_fts_as_text_combined</th>\n",
       "      <th>para_ratio</th>\n",
       "      <th>first_or_last</th>\n",
       "      <th>strct_fts_w_position_in_essay</th>\n",
       "      <th>component_pos_tags</th>\n",
       "      <th>strct_fts_essay_position_pos_tags</th>\n",
       "    </tr>\n",
       "  </thead>\n",
       "  <tbody>\n",
       "    <tr>\n",
       "      <th>0</th>\n",
       "      <td>essay001</td>\n",
       "      <td>T1</td>\n",
       "      <td>MajorClaim 503 575</td>\n",
       "      <td>we should attach more importance to cooperatio...</td>\n",
       "      <td>MajorClaim</td>\n",
       "      <td>MajorClaim</td>\n",
       "      <td>[]</td>\n",
       "      <td></td>\n",
       "      <td>Linked</td>\n",
       "      <td>TRAIN</td>\n",
       "      <td>...</td>\n",
       "      <td>1</td>\n",
       "      <td>0</td>\n",
       "      <td>0</td>\n",
       "      <td>Topic: Should students be taught to compete or...</td>\n",
       "      <td>Topic: Should students be taught to compete or...</td>\n",
       "      <td>0.25</td>\n",
       "      <td>1</td>\n",
       "      <td>Topic: Should students be taught to compete or...</td>\n",
       "      <td>Part Of Speech tags: PRON, VERB, VERB, ADJ, NO...</td>\n",
       "      <td>Topic: Should students be taught to compete or...</td>\n",
       "    </tr>\n",
       "    <tr>\n",
       "      <th>1</th>\n",
       "      <td>essay001</td>\n",
       "      <td>T2</td>\n",
       "      <td>MajorClaim 2154 2231</td>\n",
       "      <td>a more cooperative attitudes towards life is m...</td>\n",
       "      <td>MajorClaim</td>\n",
       "      <td>MajorClaim</td>\n",
       "      <td>[]</td>\n",
       "      <td></td>\n",
       "      <td>Linked</td>\n",
       "      <td>TRAIN</td>\n",
       "      <td>...</td>\n",
       "      <td>1</td>\n",
       "      <td>0</td>\n",
       "      <td>0</td>\n",
       "      <td>Topic: Should students be taught to compete or...</td>\n",
       "      <td>Topic: Should students be taught to compete or...</td>\n",
       "      <td>1.00</td>\n",
       "      <td>1</td>\n",
       "      <td>Topic: Should students be taught to compete or...</td>\n",
       "      <td>Part Of Speech tags: DET, ADV, ADJ, NOUN, ADP,...</td>\n",
       "      <td>Topic: Should students be taught to compete or...</td>\n",
       "    </tr>\n",
       "    <tr>\n",
       "      <th>2</th>\n",
       "      <td>essay001</td>\n",
       "      <td>T3</td>\n",
       "      <td>Claim 591 714</td>\n",
       "      <td>through cooperation, children can learn about ...</td>\n",
       "      <td>Claim</td>\n",
       "      <td>Claim</td>\n",
       "      <td>[]</td>\n",
       "      <td>Support</td>\n",
       "      <td>Linked</td>\n",
       "      <td>TRAIN</td>\n",
       "      <td>...</td>\n",
       "      <td>0</td>\n",
       "      <td>0</td>\n",
       "      <td>3</td>\n",
       "      <td>Topic: Should students be taught to compete or...</td>\n",
       "      <td>Topic: Should students be taught to compete or...</td>\n",
       "      <td>0.50</td>\n",
       "      <td>0</td>\n",
       "      <td>Topic: Should students be taught to compete or...</td>\n",
       "      <td>Part Of Speech tags: ADP, NOUN, PUNCT, NOUN, V...</td>\n",
       "      <td>Topic: Should students be taught to compete or...</td>\n",
       "    </tr>\n",
       "    <tr>\n",
       "      <th>3</th>\n",
       "      <td>essay001</td>\n",
       "      <td>T4</td>\n",
       "      <td>Premise 716 851</td>\n",
       "      <td>What we acquired from team work is not only ho...</td>\n",
       "      <td>Premise</td>\n",
       "      <td>Premise</td>\n",
       "      <td>[]</td>\n",
       "      <td>Support</td>\n",
       "      <td>NotLinked</td>\n",
       "      <td>TRAIN</td>\n",
       "      <td>...</td>\n",
       "      <td>0</td>\n",
       "      <td>1</td>\n",
       "      <td>2</td>\n",
       "      <td>Topic: Should students be taught to compete or...</td>\n",
       "      <td>Topic: Should students be taught to compete or...</td>\n",
       "      <td>0.50</td>\n",
       "      <td>0</td>\n",
       "      <td>Topic: Should students be taught to compete or...</td>\n",
       "      <td>Part Of Speech tags: PRON, PRON, VERB, ADP, NO...</td>\n",
       "      <td>Topic: Should students be taught to compete or...</td>\n",
       "    </tr>\n",
       "    <tr>\n",
       "      <th>4</th>\n",
       "      <td>essay001</td>\n",
       "      <td>T5</td>\n",
       "      <td>Premise 853 1086</td>\n",
       "      <td>During the process of cooperation, children ca...</td>\n",
       "      <td>Premise</td>\n",
       "      <td>Premise</td>\n",
       "      <td>[]</td>\n",
       "      <td>Support</td>\n",
       "      <td>NotLinked</td>\n",
       "      <td>TRAIN</td>\n",
       "      <td>...</td>\n",
       "      <td>0</td>\n",
       "      <td>2</td>\n",
       "      <td>1</td>\n",
       "      <td>Topic: Should students be taught to compete or...</td>\n",
       "      <td>Topic: Should students be taught to compete or...</td>\n",
       "      <td>0.50</td>\n",
       "      <td>0</td>\n",
       "      <td>Topic: Should students be taught to compete or...</td>\n",
       "      <td>Part Of Speech tags: ADP, DET, NOUN, ADP, NOUN...</td>\n",
       "      <td>Topic: Should students be taught to compete or...</td>\n",
       "    </tr>\n",
       "    <tr>\n",
       "      <th>...</th>\n",
       "      <td>...</td>\n",
       "      <td>...</td>\n",
       "      <td>...</td>\n",
       "      <td>...</td>\n",
       "      <td>...</td>\n",
       "      <td>...</td>\n",
       "      <td>...</td>\n",
       "      <td>...</td>\n",
       "      <td>...</td>\n",
       "      <td>...</td>\n",
       "      <td>...</td>\n",
       "      <td>...</td>\n",
       "      <td>...</td>\n",
       "      <td>...</td>\n",
       "      <td>...</td>\n",
       "      <td>...</td>\n",
       "      <td>...</td>\n",
       "      <td>...</td>\n",
       "      <td>...</td>\n",
       "      <td>...</td>\n",
       "      <td>...</td>\n",
       "    </tr>\n",
       "    <tr>\n",
       "      <th>5968</th>\n",
       "      <td>essay402</td>\n",
       "      <td>T11</td>\n",
       "      <td>Premise 1275 1339</td>\n",
       "      <td>indirectly they will learn how to socialize ea...</td>\n",
       "      <td>Premise</td>\n",
       "      <td>Premise</td>\n",
       "      <td>[]</td>\n",
       "      <td>Support</td>\n",
       "      <td>NotLinked</td>\n",
       "      <td>TRAIN</td>\n",
       "      <td>...</td>\n",
       "      <td>0</td>\n",
       "      <td>4</td>\n",
       "      <td>3</td>\n",
       "      <td>Topic: Children should studying hard or playin...</td>\n",
       "      <td>Topic: Children should studying hard or playin...</td>\n",
       "      <td>0.75</td>\n",
       "      <td>0</td>\n",
       "      <td>Topic: Children should studying hard or playin...</td>\n",
       "      <td>Part Of Speech tags: ADV, PRON, VERB, VERB, AD...</td>\n",
       "      <td>Topic: Children should studying hard or playin...</td>\n",
       "    </tr>\n",
       "    <tr>\n",
       "      <th>5969</th>\n",
       "      <td>essay402</td>\n",
       "      <td>T12</td>\n",
       "      <td>Premise 1341 1388</td>\n",
       "      <td>That will make children getting lots of friends</td>\n",
       "      <td>Premise</td>\n",
       "      <td>Premise</td>\n",
       "      <td>[]</td>\n",
       "      <td>Support</td>\n",
       "      <td>NotLinked</td>\n",
       "      <td>TRAIN</td>\n",
       "      <td>...</td>\n",
       "      <td>0</td>\n",
       "      <td>5</td>\n",
       "      <td>2</td>\n",
       "      <td>Topic: Children should studying hard or playin...</td>\n",
       "      <td>Topic: Children should studying hard or playin...</td>\n",
       "      <td>0.75</td>\n",
       "      <td>0</td>\n",
       "      <td>Topic: Children should studying hard or playin...</td>\n",
       "      <td>Part Of Speech tags: DET, VERB, VERB, NOUN, VE...</td>\n",
       "      <td>Topic: Children should studying hard or playin...</td>\n",
       "    </tr>\n",
       "    <tr>\n",
       "      <th>5970</th>\n",
       "      <td>essay402</td>\n",
       "      <td>T13</td>\n",
       "      <td>Premise 1393 1436</td>\n",
       "      <td>they can contribute positively to community</td>\n",
       "      <td>Premise</td>\n",
       "      <td>Premise</td>\n",
       "      <td>[]</td>\n",
       "      <td>Support</td>\n",
       "      <td>Linked</td>\n",
       "      <td>TRAIN</td>\n",
       "      <td>...</td>\n",
       "      <td>0</td>\n",
       "      <td>6</td>\n",
       "      <td>1</td>\n",
       "      <td>Topic: Children should studying hard or playin...</td>\n",
       "      <td>Topic: Children should studying hard or playin...</td>\n",
       "      <td>0.75</td>\n",
       "      <td>0</td>\n",
       "      <td>Topic: Children should studying hard or playin...</td>\n",
       "      <td>Part Of Speech tags: PRON, VERB, VERB, ADV, AD...</td>\n",
       "      <td>Topic: Children should studying hard or playin...</td>\n",
       "    </tr>\n",
       "    <tr>\n",
       "      <th>5971</th>\n",
       "      <td>essay402</td>\n",
       "      <td>T14</td>\n",
       "      <td>Premise 1448 1525</td>\n",
       "      <td>playing sport makes children getting healthy a...</td>\n",
       "      <td>Premise</td>\n",
       "      <td>Premise</td>\n",
       "      <td>[]</td>\n",
       "      <td>Support</td>\n",
       "      <td>NotLinked</td>\n",
       "      <td>TRAIN</td>\n",
       "      <td>...</td>\n",
       "      <td>1</td>\n",
       "      <td>7</td>\n",
       "      <td>0</td>\n",
       "      <td>Topic: Children should studying hard or playin...</td>\n",
       "      <td>Topic: Children should studying hard or playin...</td>\n",
       "      <td>0.75</td>\n",
       "      <td>0</td>\n",
       "      <td>Topic: Children should studying hard or playin...</td>\n",
       "      <td>Part Of Speech tags: VERB, NOUN, VERB, NOUN, V...</td>\n",
       "      <td>Topic: Children should studying hard or playin...</td>\n",
       "    </tr>\n",
       "    <tr>\n",
       "      <th>5972</th>\n",
       "      <td>essay402</td>\n",
       "      <td>T15</td>\n",
       "      <td>Claim 916 965</td>\n",
       "      <td>playing sports will give good effects on children</td>\n",
       "      <td>Claim</td>\n",
       "      <td>Claim</td>\n",
       "      <td>[]</td>\n",
       "      <td>Support</td>\n",
       "      <td>Linked</td>\n",
       "      <td>TRAIN</td>\n",
       "      <td>...</td>\n",
       "      <td>0</td>\n",
       "      <td>0</td>\n",
       "      <td>7</td>\n",
       "      <td>Topic: Children should studying hard or playin...</td>\n",
       "      <td>Topic: Children should studying hard or playin...</td>\n",
       "      <td>0.75</td>\n",
       "      <td>0</td>\n",
       "      <td>Topic: Children should studying hard or playin...</td>\n",
       "      <td>Part Of Speech tags: VERB, NOUN, VERB, VERB, A...</td>\n",
       "      <td>Topic: Children should studying hard or playin...</td>\n",
       "    </tr>\n",
       "  </tbody>\n",
       "</table>\n",
       "<p>5973 rows × 39 columns</p>\n",
       "</div>"
      ],
      "text/plain": [
       "      essay_nr component_id   label_and_comp_idxs  \\\n",
       "0     essay001           T1    MajorClaim 503 575   \n",
       "1     essay001           T2  MajorClaim 2154 2231   \n",
       "2     essay001           T3         Claim 591 714   \n",
       "3     essay001           T4       Premise 716 851   \n",
       "4     essay001           T5      Premise 853 1086   \n",
       "...        ...          ...                   ...   \n",
       "5968  essay402          T11     Premise 1275 1339   \n",
       "5969  essay402          T12     Premise 1341 1388   \n",
       "5970  essay402          T13     Premise 1393 1436   \n",
       "5971  essay402          T14     Premise 1448 1525   \n",
       "5972  essay402          T15         Claim 916 965   \n",
       "\n",
       "                                                   text     label_x  \\\n",
       "0     we should attach more importance to cooperatio...  MajorClaim   \n",
       "1     a more cooperative attitudes towards life is m...  MajorClaim   \n",
       "2     through cooperation, children can learn about ...       Claim   \n",
       "3     What we acquired from team work is not only ho...     Premise   \n",
       "4     During the process of cooperation, children ca...     Premise   \n",
       "...                                                 ...         ...   \n",
       "5968  indirectly they will learn how to socialize ea...     Premise   \n",
       "5969    That will make children getting lots of friends     Premise   \n",
       "5970        they can contribute positively to community     Premise   \n",
       "5971  playing sport makes children getting healthy a...     Premise   \n",
       "5972  playing sports will give good effects on children       Claim   \n",
       "\n",
       "     label_ComponentType relation_SupportAttack label_RelationType  \\\n",
       "0             MajorClaim                     []                      \n",
       "1             MajorClaim                     []                      \n",
       "2                  Claim                     []            Support   \n",
       "3                Premise                     []            Support   \n",
       "4                Premise                     []            Support   \n",
       "...                  ...                    ...                ...   \n",
       "5968             Premise                     []            Support   \n",
       "5969             Premise                     []            Support   \n",
       "5970             Premise                     []            Support   \n",
       "5971             Premise                     []            Support   \n",
       "5972               Claim                     []            Support   \n",
       "\n",
       "     label_LinkedNotLinked split_y  ... is_last_in_para  \\\n",
       "0                   Linked   TRAIN  ...               1   \n",
       "1                   Linked   TRAIN  ...               1   \n",
       "2                   Linked   TRAIN  ...               0   \n",
       "3                NotLinked   TRAIN  ...               0   \n",
       "4                NotLinked   TRAIN  ...               0   \n",
       "...                    ...     ...  ...             ...   \n",
       "5968             NotLinked   TRAIN  ...               0   \n",
       "5969             NotLinked   TRAIN  ...               0   \n",
       "5970                Linked   TRAIN  ...               0   \n",
       "5971             NotLinked   TRAIN  ...               1   \n",
       "5972                Linked   TRAIN  ...               0   \n",
       "\n",
       "      nr_preceeding_comps_in_para  nr_following_comps_in_para  \\\n",
       "0                               0                           0   \n",
       "1                               0                           0   \n",
       "2                               0                           3   \n",
       "3                               1                           2   \n",
       "4                               2                           1   \n",
       "...                           ...                         ...   \n",
       "5968                            4                           3   \n",
       "5969                            5                           2   \n",
       "5970                            6                           1   \n",
       "5971                            7                           0   \n",
       "5972                            0                           7   \n",
       "\n",
       "                                 structural_fts_as_text  \\\n",
       "0     Topic: Should students be taught to compete or...   \n",
       "1     Topic: Should students be taught to compete or...   \n",
       "2     Topic: Should students be taught to compete or...   \n",
       "3     Topic: Should students be taught to compete or...   \n",
       "4     Topic: Should students be taught to compete or...   \n",
       "...                                                 ...   \n",
       "5968  Topic: Children should studying hard or playin...   \n",
       "5969  Topic: Children should studying hard or playin...   \n",
       "5970  Topic: Children should studying hard or playin...   \n",
       "5971  Topic: Children should studying hard or playin...   \n",
       "5972  Topic: Children should studying hard or playin...   \n",
       "\n",
       "                        structural_fts_as_text_combined para_ratio  \\\n",
       "0     Topic: Should students be taught to compete or...       0.25   \n",
       "1     Topic: Should students be taught to compete or...       1.00   \n",
       "2     Topic: Should students be taught to compete or...       0.50   \n",
       "3     Topic: Should students be taught to compete or...       0.50   \n",
       "4     Topic: Should students be taught to compete or...       0.50   \n",
       "...                                                 ...        ...   \n",
       "5968  Topic: Children should studying hard or playin...       0.75   \n",
       "5969  Topic: Children should studying hard or playin...       0.75   \n",
       "5970  Topic: Children should studying hard or playin...       0.75   \n",
       "5971  Topic: Children should studying hard or playin...       0.75   \n",
       "5972  Topic: Children should studying hard or playin...       0.75   \n",
       "\n",
       "      first_or_last                      strct_fts_w_position_in_essay  \\\n",
       "0                 1  Topic: Should students be taught to compete or...   \n",
       "1                 1  Topic: Should students be taught to compete or...   \n",
       "2                 0  Topic: Should students be taught to compete or...   \n",
       "3                 0  Topic: Should students be taught to compete or...   \n",
       "4                 0  Topic: Should students be taught to compete or...   \n",
       "...             ...                                                ...   \n",
       "5968              0  Topic: Children should studying hard or playin...   \n",
       "5969              0  Topic: Children should studying hard or playin...   \n",
       "5970              0  Topic: Children should studying hard or playin...   \n",
       "5971              0  Topic: Children should studying hard or playin...   \n",
       "5972              0  Topic: Children should studying hard or playin...   \n",
       "\n",
       "                                     component_pos_tags  \\\n",
       "0     Part Of Speech tags: PRON, VERB, VERB, ADJ, NO...   \n",
       "1     Part Of Speech tags: DET, ADV, ADJ, NOUN, ADP,...   \n",
       "2     Part Of Speech tags: ADP, NOUN, PUNCT, NOUN, V...   \n",
       "3     Part Of Speech tags: PRON, PRON, VERB, ADP, NO...   \n",
       "4     Part Of Speech tags: ADP, DET, NOUN, ADP, NOUN...   \n",
       "...                                                 ...   \n",
       "5968  Part Of Speech tags: ADV, PRON, VERB, VERB, AD...   \n",
       "5969  Part Of Speech tags: DET, VERB, VERB, NOUN, VE...   \n",
       "5970  Part Of Speech tags: PRON, VERB, VERB, ADV, AD...   \n",
       "5971  Part Of Speech tags: VERB, NOUN, VERB, NOUN, V...   \n",
       "5972  Part Of Speech tags: VERB, NOUN, VERB, VERB, A...   \n",
       "\n",
       "                      strct_fts_essay_position_pos_tags  \n",
       "0     Topic: Should students be taught to compete or...  \n",
       "1     Topic: Should students be taught to compete or...  \n",
       "2     Topic: Should students be taught to compete or...  \n",
       "3     Topic: Should students be taught to compete or...  \n",
       "4     Topic: Should students be taught to compete or...  \n",
       "...                                                 ...  \n",
       "5968  Topic: Children should studying hard or playin...  \n",
       "5969  Topic: Children should studying hard or playin...  \n",
       "5970  Topic: Children should studying hard or playin...  \n",
       "5971  Topic: Children should studying hard or playin...  \n",
       "5972  Topic: Children should studying hard or playin...  \n",
       "\n",
       "[5973 rows x 39 columns]"
      ]
     },
     "execution_count": 5,
     "metadata": {},
     "output_type": "execute_result"
    }
   ],
   "source": [
    "dataset_df"
   ]
  },
  {
   "cell_type": "markdown",
   "metadata": {
    "gradient": {
     "editing": false,
     "id": "9009728e-f05b-4af4-80cc-f11b22cf89f7",
     "kernelId": ""
    }
   },
   "source": [
    "## Prepare dataframe"
   ]
  },
  {
   "cell_type": "code",
   "execution_count": 6,
   "metadata": {
    "gradient": {
     "editing": false,
     "id": "ffc230ee-60bc-44d8-9d5f-7379b373e3c5",
     "kernelId": ""
    }
   },
   "outputs": [
    {
     "data": {
      "text/plain": [
       "Index(['essay_nr', 'component_id', 'label_and_comp_idxs', 'text', 'label_x',\n",
       "       'label_ComponentType', 'relation_SupportAttack', 'label_RelationType',\n",
       "       'label_LinkedNotLinked', 'split_y', 'essay', 'argument_bound_1',\n",
       "       'argument_bound_2', 'argument_id', 'sentence', 'paragraph', 'para_nr',\n",
       "       'total_paras', 'token_count', 'token_count_covering_para',\n",
       "       'tokens_count_covering_sentence', 'preceeding_tokens_in_sentence_count',\n",
       "       'succeeding_tokens_in_sentence_count', 'token_ratio',\n",
       "       'relative_position_in_para_char', 'is_in_intro',\n",
       "       'relative_position_in_para_token', 'is_in_conclusion',\n",
       "       'is_first_in_para', 'is_last_in_para', 'nr_preceeding_comps_in_para',\n",
       "       'nr_following_comps_in_para', 'structural_fts_as_text',\n",
       "       'structural_fts_as_text_combined', 'para_ratio', 'first_or_last',\n",
       "       'strct_fts_w_position_in_essay', 'component_pos_tags',\n",
       "       'strct_fts_essay_position_pos_tags'],\n",
       "      dtype='object')"
      ]
     },
     "execution_count": 6,
     "metadata": {},
     "output_type": "execute_result"
    }
   ],
   "source": [
    "dataset_df.columns"
   ]
  },
  {
   "cell_type": "code",
   "execution_count": 7,
   "metadata": {
    "gradient": {
     "editing": false,
     "id": "8e9ad078-69f2-41d4-9c08-68e30463d19f",
     "kernelId": ""
    }
   },
   "outputs": [
    {
     "name": "stdout",
     "output_type": "stream",
     "text": [
      "5973\n",
      "5973\n"
     ]
    }
   ],
   "source": [
    "# sanity check\n",
    "print(len(dataset_df))\n",
    "dataset_df = dataset_df.dropna()\n",
    "print(len(dataset_df))"
   ]
  },
  {
   "cell_type": "code",
   "execution_count": 8,
   "metadata": {},
   "outputs": [],
   "source": [
    "# we need dataset by paragraph"
   ]
  },
  {
   "cell_type": "code",
   "execution_count": 9,
   "metadata": {},
   "outputs": [
    {
     "data": {
      "text/plain": [
       "0       It is always said that competition can effecti...\n",
       "1       Consequently, no matter from the view of indiv...\n",
       "2       First of all, through cooperation, children ca...\n",
       "3       First of all, through cooperation, children ca...\n",
       "4       First of all, through cooperation, children ca...\n",
       "                              ...                        \n",
       "5968    At the same time, playing sports will give goo...\n",
       "5969    At the same time, playing sports will give goo...\n",
       "5970    At the same time, playing sports will give goo...\n",
       "5971    At the same time, playing sports will give goo...\n",
       "5972    At the same time, playing sports will give goo...\n",
       "Name: paragraph, Length: 5973, dtype: object"
      ]
     },
     "execution_count": 9,
     "metadata": {},
     "output_type": "execute_result"
    }
   ],
   "source": [
    "dataset_df.paragraph"
   ]
  },
  {
   "cell_type": "code",
   "execution_count": 10,
   "metadata": {},
   "outputs": [
    {
     "data": {
      "text/plain": [
       "array([\"It is always said that competition can effectively promote the development of economy. In order to survive in the competition, companies continue to improve their products and service, and as a result, the whole society prospers. However, when we discuss the issue of competition or cooperation, what we are concerned about is not the whole society, but the development of an individual's whole life. From this point of view, I firmly believe that we should attach more importance to cooperation during primary education.\",\n",
       "       \"Consequently, no matter from the view of individual development or the relationship between competition and cooperation we can receive the same conclusion that a more cooperative attitudes towards life is more profitable in one's success.\",\n",
       "       'First of all, through cooperation, children can learn about interpersonal skills which are significant in the future life of all students. What we acquired from team work is not only how to achieve the same goal with others but more importantly, how to get along with others. During the process of cooperation, children can learn about how to listen to opinions of others, how to communicate with others, how to think comprehensively, and even how to compromise with other team members when conflicts occurred. All of these skills help them to get on well with other people and will benefit them for the whole life.',\n",
       "       ...,\n",
       "       \"In conclusion, both studying hard at school and playing sports can improve children's future.\",\n",
       "       'On the other hand, studying hard will give children a better future. Studying hard gives children with a plenty of knowledge and skills for their future. Naturally, children will be growing up and looking for their job. For instance, children who always studying hard and getting high achievement, it will be easy to pass qualification for work and they are more likely to find great work at multinational company. If they working at multinational company as the result is they can earn higher salary. The message is when you always studying harder than others you will get best results.',\n",
       "       \"At the same time, playing sports will give good effects on children. There are many popular sports among children such as football, basketball, and volleyball. Also, there are many benefit when children doing sport. Firstly, children who always playing sport like football, they will be active as a person and learn to become team-player. It will be good for children, because indirectly they will learn how to socialize each other as a team. That will make children getting lots of friends, so they can contribute positively to community. Secondly, playing sport makes children getting healthy and become children's well-being. \"],\n",
       "      dtype=object)"
      ]
     },
     "execution_count": 10,
     "metadata": {},
     "output_type": "execute_result"
    }
   ],
   "source": [
    "dataset_df.paragraph.unique()"
   ]
  },
  {
   "cell_type": "code",
   "execution_count": 11,
   "metadata": {},
   "outputs": [
    {
     "data": {
      "text/plain": [
       "1719"
      ]
     },
     "execution_count": 11,
     "metadata": {},
     "output_type": "execute_result"
    }
   ],
   "source": [
    "len(dataset_df.paragraph.unique())"
   ]
  },
  {
   "cell_type": "code",
   "execution_count": 12,
   "metadata": {},
   "outputs": [],
   "source": [
    "paras_df = dataset_df.groupby(\"paragraph\", sort=False)"
   ]
  },
  {
   "cell_type": "code",
   "execution_count": 13,
   "metadata": {},
   "outputs": [
    {
     "data": {
      "text/plain": [
       "<pandas.core.groupby.generic.DataFrameGroupBy object at 0x7fd4298676a0>"
      ]
     },
     "execution_count": 13,
     "metadata": {},
     "output_type": "execute_result"
    }
   ],
   "source": [
    "paras_df"
   ]
  },
  {
   "cell_type": "code",
   "execution_count": 14,
   "metadata": {},
   "outputs": [],
   "source": [
    "grouped_lists = paras_df[\"text\"].apply(list)"
   ]
  },
  {
   "cell_type": "code",
   "execution_count": 15,
   "metadata": {
    "scrolled": true
   },
   "outputs": [
    {
     "data": {
      "text/plain": [
       "paragraph\n",
       "It is always said that competition can effectively promote the development of economy. In order to survive in the competition, companies continue to improve their products and service, and as a result, the whole society prospers. However, when we discuss the issue of competition or cooperation, what we are concerned about is not the whole society, but the development of an individual's whole life. From this point of view, I firmly believe that we should attach more importance to cooperation during primary education.                                                                                                                                                                                                                                                                                           [we should attach more importance to cooperati...\n",
       "Consequently, no matter from the view of individual development or the relationship between competition and cooperation we can receive the same conclusion that a more cooperative attitudes towards life is more profitable in one's success.                                                                                                                                                                                                                                                                                                                                                                                                                                                                                                                                                                                      [a more cooperative attitudes towards life is ...\n",
       "First of all, through cooperation, children can learn about interpersonal skills which are significant in the future life of all students. What we acquired from team work is not only how to achieve the same goal with others but more importantly, how to get along with others. During the process of cooperation, children can learn about how to listen to opinions of others, how to communicate with others, how to think comprehensively, and even how to compromise with other team members when conflicts occurred. All of these skills help them to get on well with other people and will benefit them for the whole life.                                                                                                                                                                                             [through cooperation, children can learn about...\n",
       "On the other hand, the significance of competition is that how to become more excellence to gain the victory. Hence it is always said that competition makes the society more effective. However, when we consider about the question that how to win the game, we always find that we need the cooperation. The greater our goal is, the more competition we need. Take Olympic games which is a form of competition for instance, it is hard to imagine how an athlete could win the game without the training of his or her coach, and the help of other professional staffs such as the people who take care of his diet, and those who are in charge of the medical care. The winner is the athlete but the success belongs to the whole team. Therefore without the cooperation, there would be no victory of competition.    [competition makes the society more effective,...\n",
       "The last 50 years have seen an increasing number of immigrants to other countries. People moved due to a number of reasons, namely better educations or higher salary jobs. Some people thought that they should follow the local customs in order to integrate into their adopted countries’ cultures. However I strongly believe that they are able to sustain their cultural identities and doing so help they keep their origin values.                                                                                                                                                                                                                                                                                                                                                                                         [they are able to sustain their cultural ident...\n",
       "                                                                                                                                                                                                                                                                                                                                                                                                                                                                                                                                                                                                                                                                                                                                                                                                                                                          ...                        \n",
       "The second reason why I believe that fatherood is as important as motherhood is the dynamics of the relationships today. In my opinion, we are living in a society that puts a significant importance to gender equality in every aspect of the life, including relationships. For instance, a family formed by a woman with a housewife role who looks after the home and takes care of children and a man who brings money home can not be seen anymore in today's society. Instead, all of the couple duties are performed equally and interchangeably by individuals. Therefore, I believe that having and raising children should not be different than any other daily activity.                                                                                                                                              [we are living in a society that puts a signif...\n",
       "Some people believe that studying hard is essential part for children, otherwise others people think that playing sport is waste of time. In my point of view, both of studying hard and playing sports are part of life to children.                                                                                                                                                                                                                                                                                                                                                                                                                                                                                                                                                                                               [both of studying hard and playing sports are ...\n",
       "In conclusion, both studying hard at school and playing sports can improve children's future.                                                                                                                                                                                                                                                                                                                                                                                                                                                                                                                                                                                                                                                                                                                                       [both studying hard at school and playing spor...\n",
       "On the other hand, studying hard will give children a better future. Studying hard gives children with a plenty of knowledge and skills for their future. Naturally, children will be growing up and looking for their job. For instance, children who always studying hard and getting high achievement, it will be easy to pass qualification for work and they are more likely to find great work at multinational company. If they working at multinational company as the result is they can earn higher salary. The message is when you always studying harder than others you will get best results.                                                                                                                                                                                                                         [Studying hard gives children with a plenty of...\n",
       "At the same time, playing sports will give good effects on children. There are many popular sports among children such as football, basketball, and volleyball. Also, there are many benefit when children doing sport. Firstly, children who always playing sport like football, they will be active as a person and learn to become team-player. It will be good for children, because indirectly they will learn how to socialize each other as a team. That will make children getting lots of friends, so they can contribute positively to community. Secondly, playing sport makes children getting healthy and become children's well-being.                                                                                                                                                                                [there are many benefit when children doing sp...\n",
       "Name: text, Length: 1719, dtype: object"
      ]
     },
     "execution_count": 15,
     "metadata": {},
     "output_type": "execute_result"
    }
   ],
   "source": [
    "grouped_lists"
   ]
  },
  {
   "cell_type": "code",
   "execution_count": 16,
   "metadata": {},
   "outputs": [],
   "source": [
    "grouped_lists = grouped_lists.reset_index()"
   ]
  },
  {
   "cell_type": "code",
   "execution_count": 40,
   "metadata": {},
   "outputs": [
    {
     "data": {
      "text/plain": [
       "4"
      ]
     },
     "execution_count": 40,
     "metadata": {},
     "output_type": "execute_result"
    }
   ],
   "source": [
    "len(grouped_lists['text'][2])"
   ]
  },
  {
   "cell_type": "code",
   "execution_count": 18,
   "metadata": {},
   "outputs": [],
   "source": [
    "grouped_lists_labels = paras_df[\"label_ComponentType\"].apply(list)"
   ]
  },
  {
   "cell_type": "code",
   "execution_count": 19,
   "metadata": {
    "scrolled": true
   },
   "outputs": [
    {
     "data": {
      "text/plain": [
       "paragraph\n",
       "It is always said that competition can effectively promote the development of economy. In order to survive in the competition, companies continue to improve their products and service, and as a result, the whole society prospers. However, when we discuss the issue of competition or cooperation, what we are concerned about is not the whole society, but the development of an individual's whole life. From this point of view, I firmly believe that we should attach more importance to cooperation during primary education.                                                                                                                                                                                                                                                                                                                                [MajorClaim]\n",
       "Consequently, no matter from the view of individual development or the relationship between competition and cooperation we can receive the same conclusion that a more cooperative attitudes towards life is more profitable in one's success.                                                                                                                                                                                                                                                                                                                                                                                                                                                                                                                                                                                                                           [MajorClaim]\n",
       "First of all, through cooperation, children can learn about interpersonal skills which are significant in the future life of all students. What we acquired from team work is not only how to achieve the same goal with others but more importantly, how to get along with others. During the process of cooperation, children can learn about how to listen to opinions of others, how to communicate with others, how to think comprehensively, and even how to compromise with other team members when conflicts occurred. All of these skills help them to get on well with other people and will benefit them for the whole life.                                                                                                                                                                                                            [Claim, Premise, Premise, Premise]\n",
       "On the other hand, the significance of competition is that how to become more excellence to gain the victory. Hence it is always said that competition makes the society more effective. However, when we consider about the question that how to win the game, we always find that we need the cooperation. The greater our goal is, the more competition we need. Take Olympic games which is a form of competition for instance, it is hard to imagine how an athlete could win the game without the training of his or her coach, and the help of other professional staffs such as the people who take care of his diet, and those who are in charge of the medical care. The winner is the athlete but the success belongs to the whole team. Therefore without the cooperation, there would be no victory of competition.            [Claim, Premise, Premise, Premise, Claim]\n",
       "The last 50 years have seen an increasing number of immigrants to other countries. People moved due to a number of reasons, namely better educations or higher salary jobs. Some people thought that they should follow the local customs in order to integrate into their adopted countries’ cultures. However I strongly believe that they are able to sustain their cultural identities and doing so help they keep their origin values.                                                                                                                                                                                                                                                                                                                                                                                                                              [MajorClaim]\n",
       "                                                                                                                                                                                                                                                                                                                                                                                                                                                                                                                                                                                                                                                                                                                                                                                                                                                          ...                        \n",
       "The second reason why I believe that fatherood is as important as motherhood is the dynamics of the relationships today. In my opinion, we are living in a society that puts a significant importance to gender equality in every aspect of the life, including relationships. For instance, a family formed by a woman with a housewife role who looks after the home and takes care of children and a man who brings money home can not be seen anymore in today's society. Instead, all of the couple duties are performed equally and interchangeably by individuals. Therefore, I believe that having and raising children should not be different than any other daily activity.                                                                                                                                                    [Premise, Premise, Claim, Premise, Premise]\n",
       "Some people believe that studying hard is essential part for children, otherwise others people think that playing sport is waste of time. In my point of view, both of studying hard and playing sports are part of life to children.                                                                                                                                                                                                                                                                                                                                                                                                                                                                                                                                                                                                                                    [MajorClaim]\n",
       "In conclusion, both studying hard at school and playing sports can improve children's future.                                                                                                                                                                                                                                                                                                                                                                                                                                                                                                                                                                                                                                                                                                                                                                            [MajorClaim]\n",
       "On the other hand, studying hard will give children a better future. Studying hard gives children with a plenty of knowledge and skills for their future. Naturally, children will be growing up and looking for their job. For instance, children who always studying hard and getting high achievement, it will be easy to pass qualification for work and they are more likely to find great work at multinational company. If they working at multinational company as the result is they can earn higher salary. The message is when you always studying harder than others you will get best results.                                                                                                                                                                                                                               [Premise, Premise, Premise, Premise, Claim]\n",
       "At the same time, playing sports will give good effects on children. There are many popular sports among children such as football, basketball, and volleyball. Also, there are many benefit when children doing sport. Firstly, children who always playing sport like football, they will be active as a person and learn to become team-player. It will be good for children, because indirectly they will learn how to socialize each other as a team. That will make children getting lots of friends, so they can contribute positively to community. Secondly, playing sport makes children getting healthy and become children's well-being.                                                                                                                                                                                [Premise, Premise, Premise, Premise, Premise, ...\n",
       "Name: label_ComponentType, Length: 1719, dtype: object"
      ]
     },
     "execution_count": 19,
     "metadata": {},
     "output_type": "execute_result"
    }
   ],
   "source": [
    "grouped_lists_labels"
   ]
  },
  {
   "cell_type": "code",
   "execution_count": 20,
   "metadata": {},
   "outputs": [],
   "source": [
    "grouped_lists_labels = grouped_lists_labels.reset_index()"
   ]
  },
  {
   "cell_type": "code",
   "execution_count": 21,
   "metadata": {},
   "outputs": [],
   "source": [
    "grouped_lists_labels = grouped_lists_labels.reset_index()"
   ]
  },
  {
   "cell_type": "code",
   "execution_count": 22,
   "metadata": {},
   "outputs": [
    {
     "data": {
      "text/html": [
       "<div>\n",
       "<style scoped>\n",
       "    .dataframe tbody tr th:only-of-type {\n",
       "        vertical-align: middle;\n",
       "    }\n",
       "\n",
       "    .dataframe tbody tr th {\n",
       "        vertical-align: top;\n",
       "    }\n",
       "\n",
       "    .dataframe thead th {\n",
       "        text-align: right;\n",
       "    }\n",
       "</style>\n",
       "<table border=\"1\" class=\"dataframe\">\n",
       "  <thead>\n",
       "    <tr style=\"text-align: right;\">\n",
       "      <th></th>\n",
       "      <th>index</th>\n",
       "      <th>paragraph</th>\n",
       "      <th>label_ComponentType</th>\n",
       "    </tr>\n",
       "  </thead>\n",
       "  <tbody>\n",
       "    <tr>\n",
       "      <th>0</th>\n",
       "      <td>0</td>\n",
       "      <td>It is always said that competition can effecti...</td>\n",
       "      <td>[MajorClaim]</td>\n",
       "    </tr>\n",
       "    <tr>\n",
       "      <th>1</th>\n",
       "      <td>1</td>\n",
       "      <td>Consequently, no matter from the view of indiv...</td>\n",
       "      <td>[MajorClaim]</td>\n",
       "    </tr>\n",
       "    <tr>\n",
       "      <th>2</th>\n",
       "      <td>2</td>\n",
       "      <td>First of all, through cooperation, children ca...</td>\n",
       "      <td>[Claim, Premise, Premise, Premise]</td>\n",
       "    </tr>\n",
       "    <tr>\n",
       "      <th>3</th>\n",
       "      <td>3</td>\n",
       "      <td>On the other hand, the significance of competi...</td>\n",
       "      <td>[Claim, Premise, Premise, Premise, Claim]</td>\n",
       "    </tr>\n",
       "    <tr>\n",
       "      <th>4</th>\n",
       "      <td>4</td>\n",
       "      <td>The last 50 years have seen an increasing numb...</td>\n",
       "      <td>[MajorClaim]</td>\n",
       "    </tr>\n",
       "    <tr>\n",
       "      <th>...</th>\n",
       "      <td>...</td>\n",
       "      <td>...</td>\n",
       "      <td>...</td>\n",
       "    </tr>\n",
       "    <tr>\n",
       "      <th>1714</th>\n",
       "      <td>1714</td>\n",
       "      <td>The second reason why I believe that fatherood...</td>\n",
       "      <td>[Premise, Premise, Claim, Premise, Premise]</td>\n",
       "    </tr>\n",
       "    <tr>\n",
       "      <th>1715</th>\n",
       "      <td>1715</td>\n",
       "      <td>Some people believe that studying hard is esse...</td>\n",
       "      <td>[MajorClaim]</td>\n",
       "    </tr>\n",
       "    <tr>\n",
       "      <th>1716</th>\n",
       "      <td>1716</td>\n",
       "      <td>In conclusion, both studying hard at school an...</td>\n",
       "      <td>[MajorClaim]</td>\n",
       "    </tr>\n",
       "    <tr>\n",
       "      <th>1717</th>\n",
       "      <td>1717</td>\n",
       "      <td>On the other hand, studying hard will give chi...</td>\n",
       "      <td>[Premise, Premise, Premise, Premise, Claim]</td>\n",
       "    </tr>\n",
       "    <tr>\n",
       "      <th>1718</th>\n",
       "      <td>1718</td>\n",
       "      <td>At the same time, playing sports will give goo...</td>\n",
       "      <td>[Premise, Premise, Premise, Premise, Premise, ...</td>\n",
       "    </tr>\n",
       "  </tbody>\n",
       "</table>\n",
       "<p>1719 rows × 3 columns</p>\n",
       "</div>"
      ],
      "text/plain": [
       "      index                                          paragraph  \\\n",
       "0         0  It is always said that competition can effecti...   \n",
       "1         1  Consequently, no matter from the view of indiv...   \n",
       "2         2  First of all, through cooperation, children ca...   \n",
       "3         3  On the other hand, the significance of competi...   \n",
       "4         4  The last 50 years have seen an increasing numb...   \n",
       "...     ...                                                ...   \n",
       "1714   1714  The second reason why I believe that fatherood...   \n",
       "1715   1715  Some people believe that studying hard is esse...   \n",
       "1716   1716  In conclusion, both studying hard at school an...   \n",
       "1717   1717  On the other hand, studying hard will give chi...   \n",
       "1718   1718  At the same time, playing sports will give goo...   \n",
       "\n",
       "                                    label_ComponentType  \n",
       "0                                          [MajorClaim]  \n",
       "1                                          [MajorClaim]  \n",
       "2                    [Claim, Premise, Premise, Premise]  \n",
       "3             [Claim, Premise, Premise, Premise, Claim]  \n",
       "4                                          [MajorClaim]  \n",
       "...                                                 ...  \n",
       "1714        [Premise, Premise, Claim, Premise, Premise]  \n",
       "1715                                       [MajorClaim]  \n",
       "1716                                       [MajorClaim]  \n",
       "1717        [Premise, Premise, Premise, Premise, Claim]  \n",
       "1718  [Premise, Premise, Premise, Premise, Premise, ...  \n",
       "\n",
       "[1719 rows x 3 columns]"
      ]
     },
     "execution_count": 22,
     "metadata": {},
     "output_type": "execute_result"
    }
   ],
   "source": [
    "grouped_lists_labels"
   ]
  },
  {
   "cell_type": "code",
   "execution_count": 23,
   "metadata": {},
   "outputs": [],
   "source": [
    "# Nice."
   ]
  },
  {
   "cell_type": "code",
   "execution_count": 24,
   "metadata": {},
   "outputs": [],
   "source": [
    "with open(\"am_list.txt\") as file_am:\n",
    "    am_list = []\n",
    "    for line in file_am:\n",
    "        am_list.append(line.rstrip('\\n'))"
   ]
  },
  {
   "cell_type": "code",
   "execution_count": 25,
   "metadata": {},
   "outputs": [],
   "source": [
    "def am_exists_check(x, am_list):\n",
    "    \n",
    "    am = []\n",
    "    \n",
    "    sentence = x.sentence\n",
    "    component = x.text\n",
    "    \n",
    "    prefix = sentence[:sentence.find(component)]\n",
    "    \n",
    "    am_list = [word.casefold() for word in am_list]\n",
    "    am_list = list(set(am_list))\n",
    "    \n",
    "    for am_word in am_list:\n",
    "        \n",
    "        if am_word.casefold() in prefix.casefold() and len(am) == 0:\n",
    "            am.append(am_word)\n",
    "    \n",
    "    return am         "
   ]
  },
  {
   "cell_type": "code",
   "execution_count": 26,
   "metadata": {},
   "outputs": [],
   "source": [
    "dataset_df['am'] = dataset_df.apply(lambda x: am_exists_check(x, am_list), axis=1)"
   ]
  },
  {
   "cell_type": "code",
   "execution_count": 27,
   "metadata": {},
   "outputs": [
    {
     "data": {
      "text/plain": [
       "0       [from this point of view]\n",
       "1                  [consequently]\n",
       "2                  [first of all]\n",
       "3                              []\n",
       "4                              []\n",
       "                  ...            \n",
       "5968                    [because]\n",
       "5969                           []\n",
       "5970                         [so]\n",
       "5971                   [secondly]\n",
       "5972                           []\n",
       "Name: am, Length: 5973, dtype: object"
      ]
     },
     "execution_count": 27,
     "metadata": {},
     "output_type": "execute_result"
    }
   ],
   "source": [
    "dataset_df['am']"
   ]
  },
  {
   "cell_type": "code",
   "execution_count": 28,
   "metadata": {},
   "outputs": [],
   "source": [
    "# this is correct."
   ]
  },
  {
   "cell_type": "code",
   "execution_count": 29,
   "metadata": {},
   "outputs": [
    {
     "ename": "TypeError",
     "evalue": "unhashable type: 'list'",
     "output_type": "error",
     "traceback": [
      "\u001b[0;31m---------------------------------------------------------------------------\u001b[0m",
      "\u001b[0;31mTypeError\u001b[0m                                 Traceback (most recent call last)",
      "\u001b[0;32mpandas/_libs/hashtable_class_helper.pxi\u001b[0m in \u001b[0;36mpandas._libs.hashtable.PyObjectHashTable.map_locations\u001b[0;34m()\u001b[0m\n",
      "\u001b[0;31mTypeError\u001b[0m: unhashable type: 'list'"
     ]
    },
    {
     "name": "stderr",
     "output_type": "stream",
     "text": [
      "Exception ignored in: 'pandas._libs.index.IndexEngine._call_map_locations'\n",
      "Traceback (most recent call last):\n",
      "  File \"pandas/_libs/hashtable_class_helper.pxi\", line 5231, in pandas._libs.hashtable.PyObjectHashTable.map_locations\n",
      "TypeError: unhashable type: 'list'\n"
     ]
    },
    {
     "data": {
      "text/plain": [
       "[]                           3130\n",
       "[so]                          251\n",
       "[because]                     223\n",
       "[however]                     201\n",
       "[for example]                 183\n",
       "                             ... \n",
       "[the reason is that]            2\n",
       "[from this point of view]       1\n",
       "[similarly]                     1\n",
       "[all things considered]         1\n",
       "[i totally agree]               1\n",
       "Name: am, Length: 63, dtype: int64"
      ]
     },
     "execution_count": 29,
     "metadata": {},
     "output_type": "execute_result"
    }
   ],
   "source": [
    "dataset_df['am'].value_counts()"
   ]
  },
  {
   "cell_type": "code",
   "execution_count": 30,
   "metadata": {},
   "outputs": [],
   "source": [
    "def get_length(x):\n",
    "    \n",
    "    am = x.am\n",
    "    \n",
    "    return len(am)"
   ]
  },
  {
   "cell_type": "code",
   "execution_count": 31,
   "metadata": {},
   "outputs": [],
   "source": [
    "dataset_df['am_len'] = dataset_df.apply(lambda x: get_length(x), axis=1)"
   ]
  },
  {
   "cell_type": "code",
   "execution_count": 32,
   "metadata": {},
   "outputs": [
    {
     "data": {
      "text/plain": [
       "0       1\n",
       "1       1\n",
       "2       1\n",
       "3       0\n",
       "4       0\n",
       "       ..\n",
       "5968    1\n",
       "5969    0\n",
       "5970    1\n",
       "5971    1\n",
       "5972    0\n",
       "Name: am_len, Length: 5973, dtype: int64"
      ]
     },
     "execution_count": 32,
     "metadata": {},
     "output_type": "execute_result"
    }
   ],
   "source": [
    "dataset_df['am_len']"
   ]
  },
  {
   "cell_type": "code",
   "execution_count": 33,
   "metadata": {},
   "outputs": [
    {
     "data": {
      "text/plain": [
       "0    3130\n",
       "1    2843\n",
       "Name: am_len, dtype: int64"
      ]
     },
     "execution_count": 33,
     "metadata": {},
     "output_type": "execute_result"
    }
   ],
   "source": [
    "dataset_df['am_len'].value_counts()"
   ]
  },
  {
   "cell_type": "code",
   "execution_count": 34,
   "metadata": {},
   "outputs": [],
   "source": [
    "# ok among multiple, we select the first from ones with multiple AMs"
   ]
  },
  {
   "cell_type": "code",
   "execution_count": null,
   "metadata": {},
   "outputs": [],
   "source": []
  },
  {
   "cell_type": "code",
   "execution_count": null,
   "metadata": {},
   "outputs": [],
   "source": []
  },
  {
   "cell_type": "code",
   "execution_count": null,
   "metadata": {},
   "outputs": [],
   "source": []
  },
  {
   "cell_type": "code",
   "execution_count": null,
   "metadata": {},
   "outputs": [],
   "source": []
  },
  {
   "cell_type": "code",
   "execution_count": null,
   "metadata": {},
   "outputs": [],
   "source": []
  },
  {
   "cell_type": "code",
   "execution_count": null,
   "metadata": {},
   "outputs": [],
   "source": []
  },
  {
   "cell_type": "code",
   "execution_count": null,
   "metadata": {},
   "outputs": [],
   "source": []
  },
  {
   "cell_type": "code",
   "execution_count": null,
   "metadata": {},
   "outputs": [],
   "source": []
  },
  {
   "cell_type": "code",
   "execution_count": null,
   "metadata": {},
   "outputs": [],
   "source": []
  },
  {
   "cell_type": "code",
   "execution_count": null,
   "metadata": {},
   "outputs": [],
   "source": []
  },
  {
   "cell_type": "code",
   "execution_count": 141,
   "metadata": {},
   "outputs": [],
   "source": [
    "dataset_by_paras = dataset_df.groupby(by=['paragraph'], sort=False, as_index=False)"
   ]
  },
  {
   "cell_type": "code",
   "execution_count": 144,
   "metadata": {},
   "outputs": [
    {
     "data": {
      "text/html": [
       "<div>\n",
       "<style scoped>\n",
       "    .dataframe tbody tr th:only-of-type {\n",
       "        vertical-align: middle;\n",
       "    }\n",
       "\n",
       "    .dataframe tbody tr th {\n",
       "        vertical-align: top;\n",
       "    }\n",
       "\n",
       "    .dataframe thead th {\n",
       "        text-align: right;\n",
       "    }\n",
       "</style>\n",
       "<table border=\"1\" class=\"dataframe\">\n",
       "  <thead>\n",
       "    <tr style=\"text-align: right;\">\n",
       "      <th></th>\n",
       "      <th>paragraph</th>\n",
       "      <th>essay_nr</th>\n",
       "      <th>component_id</th>\n",
       "      <th>label_and_comp_idxs</th>\n",
       "      <th>text</th>\n",
       "      <th>label_x</th>\n",
       "      <th>label_ComponentType</th>\n",
       "      <th>relation_SupportAttack</th>\n",
       "      <th>label_RelationType</th>\n",
       "      <th>label_LinkedNotLinked</th>\n",
       "      <th>...</th>\n",
       "      <th>nr_following_comps_in_para</th>\n",
       "      <th>structural_fts_as_text</th>\n",
       "      <th>structural_fts_as_text_combined</th>\n",
       "      <th>para_ratio</th>\n",
       "      <th>first_or_last</th>\n",
       "      <th>strct_fts_w_position_in_essay</th>\n",
       "      <th>component_pos_tags</th>\n",
       "      <th>strct_fts_essay_position_pos_tags</th>\n",
       "      <th>am_flag</th>\n",
       "      <th>am_span</th>\n",
       "    </tr>\n",
       "  </thead>\n",
       "  <tbody>\n",
       "    <tr>\n",
       "      <th>0</th>\n",
       "      <td>It is always said that competition can effecti...</td>\n",
       "      <td>essay001</td>\n",
       "      <td>T1</td>\n",
       "      <td>MajorClaim 503 575</td>\n",
       "      <td>we should attach more importance to cooperatio...</td>\n",
       "      <td>MajorClaim</td>\n",
       "      <td>MajorClaim</td>\n",
       "      <td>[]</td>\n",
       "      <td></td>\n",
       "      <td>Linked</td>\n",
       "      <td>...</td>\n",
       "      <td>0</td>\n",
       "      <td>Topic: Should students be taught to compete or...</td>\n",
       "      <td>Topic: Should students be taught to compete or...</td>\n",
       "      <td>0.25</td>\n",
       "      <td>1</td>\n",
       "      <td>Topic: Should students be taught to compete or...</td>\n",
       "      <td>Part Of Speech tags: PRON, VERB, VERB, ADJ, NO...</td>\n",
       "      <td>Topic: Should students be taught to compete or...</td>\n",
       "      <td>1</td>\n",
       "      <td>[]</td>\n",
       "    </tr>\n",
       "    <tr>\n",
       "      <th>1</th>\n",
       "      <td>Consequently, no matter from the view of indiv...</td>\n",
       "      <td>essay001</td>\n",
       "      <td>T2</td>\n",
       "      <td>MajorClaim 2154 2231</td>\n",
       "      <td>a more cooperative attitudes towards life is m...</td>\n",
       "      <td>MajorClaim</td>\n",
       "      <td>MajorClaim</td>\n",
       "      <td>[]</td>\n",
       "      <td></td>\n",
       "      <td>Linked</td>\n",
       "      <td>...</td>\n",
       "      <td>0</td>\n",
       "      <td>Topic: Should students be taught to compete or...</td>\n",
       "      <td>Topic: Should students be taught to compete or...</td>\n",
       "      <td>1.00</td>\n",
       "      <td>1</td>\n",
       "      <td>Topic: Should students be taught to compete or...</td>\n",
       "      <td>Part Of Speech tags: DET, ADV, ADJ, NOUN, ADP,...</td>\n",
       "      <td>Topic: Should students be taught to compete or...</td>\n",
       "      <td>1</td>\n",
       "      <td>[]</td>\n",
       "    </tr>\n",
       "    <tr>\n",
       "      <th>2</th>\n",
       "      <td>First of all, through cooperation, children ca...</td>\n",
       "      <td>essay001</td>\n",
       "      <td>T3</td>\n",
       "      <td>Claim 591 714</td>\n",
       "      <td>through cooperation, children can learn about ...</td>\n",
       "      <td>Claim</td>\n",
       "      <td>Claim</td>\n",
       "      <td>[]</td>\n",
       "      <td>Support</td>\n",
       "      <td>Linked</td>\n",
       "      <td>...</td>\n",
       "      <td>3</td>\n",
       "      <td>Topic: Should students be taught to compete or...</td>\n",
       "      <td>Topic: Should students be taught to compete or...</td>\n",
       "      <td>0.50</td>\n",
       "      <td>0</td>\n",
       "      <td>Topic: Should students be taught to compete or...</td>\n",
       "      <td>Part Of Speech tags: ADP, NOUN, PUNCT, NOUN, V...</td>\n",
       "      <td>Topic: Should students be taught to compete or...</td>\n",
       "      <td>1</td>\n",
       "      <td>[]</td>\n",
       "    </tr>\n",
       "    <tr>\n",
       "      <th>3</th>\n",
       "      <td>On the other hand, the significance of competi...</td>\n",
       "      <td>essay001</td>\n",
       "      <td>T7</td>\n",
       "      <td>Claim 1332 1376</td>\n",
       "      <td>competition makes the society more effective</td>\n",
       "      <td>Claim</td>\n",
       "      <td>Claim</td>\n",
       "      <td>[]</td>\n",
       "      <td>Attack</td>\n",
       "      <td>Linked</td>\n",
       "      <td>...</td>\n",
       "      <td>3</td>\n",
       "      <td>Topic: Should students be taught to compete or...</td>\n",
       "      <td>Topic: Should students be taught to compete or...</td>\n",
       "      <td>0.75</td>\n",
       "      <td>0</td>\n",
       "      <td>Topic: Should students be taught to compete or...</td>\n",
       "      <td>Part Of Speech tags: NOUN, VERB, DET, NOUN, AD...</td>\n",
       "      <td>Topic: Should students be taught to compete or...</td>\n",
       "      <td>1</td>\n",
       "      <td>[(0, 0)]</td>\n",
       "    </tr>\n",
       "    <tr>\n",
       "      <th>4</th>\n",
       "      <td>The last 50 years have seen an increasing numb...</td>\n",
       "      <td>essay002</td>\n",
       "      <td>T1</td>\n",
       "      <td>MajorClaim 391 489</td>\n",
       "      <td>they are able to sustain their cultural identi...</td>\n",
       "      <td>MajorClaim</td>\n",
       "      <td>MajorClaim</td>\n",
       "      <td>[]</td>\n",
       "      <td></td>\n",
       "      <td>Linked</td>\n",
       "      <td>...</td>\n",
       "      <td>0</td>\n",
       "      <td>Topic: More people are migrating to other coun...</td>\n",
       "      <td>Topic: More people are migrating to other coun...</td>\n",
       "      <td>0.25</td>\n",
       "      <td>1</td>\n",
       "      <td>Topic: More people are migrating to other coun...</td>\n",
       "      <td>Part Of Speech tags: PRON, AUX, ADJ, PART, VER...</td>\n",
       "      <td>Topic: More people are migrating to other coun...</td>\n",
       "      <td>1</td>\n",
       "      <td>[(0, 0)]</td>\n",
       "    </tr>\n",
       "    <tr>\n",
       "      <th>...</th>\n",
       "      <td>...</td>\n",
       "      <td>...</td>\n",
       "      <td>...</td>\n",
       "      <td>...</td>\n",
       "      <td>...</td>\n",
       "      <td>...</td>\n",
       "      <td>...</td>\n",
       "      <td>...</td>\n",
       "      <td>...</td>\n",
       "      <td>...</td>\n",
       "      <td>...</td>\n",
       "      <td>...</td>\n",
       "      <td>...</td>\n",
       "      <td>...</td>\n",
       "      <td>...</td>\n",
       "      <td>...</td>\n",
       "      <td>...</td>\n",
       "      <td>...</td>\n",
       "      <td>...</td>\n",
       "      <td>...</td>\n",
       "      <td>...</td>\n",
       "    </tr>\n",
       "    <tr>\n",
       "      <th>1714</th>\n",
       "      <td>The second reason why I believe that fatherood...</td>\n",
       "      <td>essay401</td>\n",
       "      <td>T6</td>\n",
       "      <td>Premise 954 1087</td>\n",
       "      <td>we are living in a society that puts a signifi...</td>\n",
       "      <td>Premise</td>\n",
       "      <td>Premise</td>\n",
       "      <td>[]</td>\n",
       "      <td>Support</td>\n",
       "      <td>Linked</td>\n",
       "      <td>...</td>\n",
       "      <td>3</td>\n",
       "      <td>Topic: Fatherhood should be as present as moth...</td>\n",
       "      <td>Topic: Fatherhood should be as present as moth...</td>\n",
       "      <td>0.75</td>\n",
       "      <td>0</td>\n",
       "      <td>Topic: Fatherhood should be as present as moth...</td>\n",
       "      <td>Part Of Speech tags: PRON, AUX, VERB, ADP, DET...</td>\n",
       "      <td>Topic: Fatherhood should be as present as moth...</td>\n",
       "      <td>1</td>\n",
       "      <td>[]</td>\n",
       "    </tr>\n",
       "    <tr>\n",
       "      <th>1715</th>\n",
       "      <td>Some people believe that studying hard is esse...</td>\n",
       "      <td>essay402</td>\n",
       "      <td>T1</td>\n",
       "      <td>MajorClaim 238 307</td>\n",
       "      <td>both of studying hard and playing sports are p...</td>\n",
       "      <td>MajorClaim</td>\n",
       "      <td>MajorClaim</td>\n",
       "      <td>[]</td>\n",
       "      <td></td>\n",
       "      <td>Linked</td>\n",
       "      <td>...</td>\n",
       "      <td>0</td>\n",
       "      <td>Topic: Children should studying hard or playin...</td>\n",
       "      <td>Topic: Children should studying hard or playin...</td>\n",
       "      <td>0.25</td>\n",
       "      <td>1</td>\n",
       "      <td>Topic: Children should studying hard or playin...</td>\n",
       "      <td>Part Of Speech tags: DET, ADP, VERB, ADJ, CCON...</td>\n",
       "      <td>Topic: Children should studying hard or playin...</td>\n",
       "      <td>1</td>\n",
       "      <td>[]</td>\n",
       "    </tr>\n",
       "    <tr>\n",
       "      <th>1716</th>\n",
       "      <td>In conclusion, both studying hard at school an...</td>\n",
       "      <td>essay402</td>\n",
       "      <td>T2</td>\n",
       "      <td>MajorClaim 1543 1620</td>\n",
       "      <td>both studying hard at school and playing sport...</td>\n",
       "      <td>MajorClaim</td>\n",
       "      <td>MajorClaim</td>\n",
       "      <td>[]</td>\n",
       "      <td></td>\n",
       "      <td>Linked</td>\n",
       "      <td>...</td>\n",
       "      <td>0</td>\n",
       "      <td>Topic: Children should studying hard or playin...</td>\n",
       "      <td>Topic: Children should studying hard or playin...</td>\n",
       "      <td>1.00</td>\n",
       "      <td>1</td>\n",
       "      <td>Topic: Children should studying hard or playin...</td>\n",
       "      <td>Part Of Speech tags: DET, VERB, ADV, ADP, NOUN...</td>\n",
       "      <td>Topic: Children should studying hard or playin...</td>\n",
       "      <td>1</td>\n",
       "      <td>[]</td>\n",
       "    </tr>\n",
       "    <tr>\n",
       "      <th>1717</th>\n",
       "      <td>On the other hand, studying hard will give chi...</td>\n",
       "      <td>essay402</td>\n",
       "      <td>T3</td>\n",
       "      <td>Premise 379 462</td>\n",
       "      <td>Studying hard gives children with a plenty of ...</td>\n",
       "      <td>Premise</td>\n",
       "      <td>Premise</td>\n",
       "      <td>[]</td>\n",
       "      <td>Support</td>\n",
       "      <td>NotLinked</td>\n",
       "      <td>...</td>\n",
       "      <td>3</td>\n",
       "      <td>Topic: Children should studying hard or playin...</td>\n",
       "      <td>Topic: Children should studying hard or playin...</td>\n",
       "      <td>0.50</td>\n",
       "      <td>0</td>\n",
       "      <td>Topic: Children should studying hard or playin...</td>\n",
       "      <td>Part Of Speech tags: VERB, ADJ, VERB, NOUN, AD...</td>\n",
       "      <td>Topic: Children should studying hard or playin...</td>\n",
       "      <td>0</td>\n",
       "      <td>[(-1, -1)]</td>\n",
       "    </tr>\n",
       "    <tr>\n",
       "      <th>1718</th>\n",
       "      <td>At the same time, playing sports will give goo...</td>\n",
       "      <td>essay402</td>\n",
       "      <td>T4</td>\n",
       "      <td>Premise 1064 1112</td>\n",
       "      <td>there are many benefit when children doing sport</td>\n",
       "      <td>Premise</td>\n",
       "      <td>Premise</td>\n",
       "      <td>[]</td>\n",
       "      <td>Support</td>\n",
       "      <td>Linked</td>\n",
       "      <td>...</td>\n",
       "      <td>6</td>\n",
       "      <td>Topic: Children should studying hard or playin...</td>\n",
       "      <td>Topic: Children should studying hard or playin...</td>\n",
       "      <td>0.75</td>\n",
       "      <td>0</td>\n",
       "      <td>Topic: Children should studying hard or playin...</td>\n",
       "      <td>Part Of Speech tags: PRON, AUX, ADJ, NOUN, ADV...</td>\n",
       "      <td>Topic: Children should studying hard or playin...</td>\n",
       "      <td>1</td>\n",
       "      <td>[]</td>\n",
       "    </tr>\n",
       "  </tbody>\n",
       "</table>\n",
       "<p>1719 rows × 41 columns</p>\n",
       "</div>"
      ],
      "text/plain": [
       "                                              paragraph  essay_nr  \\\n",
       "0     It is always said that competition can effecti...  essay001   \n",
       "1     Consequently, no matter from the view of indiv...  essay001   \n",
       "2     First of all, through cooperation, children ca...  essay001   \n",
       "3     On the other hand, the significance of competi...  essay001   \n",
       "4     The last 50 years have seen an increasing numb...  essay002   \n",
       "...                                                 ...       ...   \n",
       "1714  The second reason why I believe that fatherood...  essay401   \n",
       "1715  Some people believe that studying hard is esse...  essay402   \n",
       "1716  In conclusion, both studying hard at school an...  essay402   \n",
       "1717  On the other hand, studying hard will give chi...  essay402   \n",
       "1718  At the same time, playing sports will give goo...  essay402   \n",
       "\n",
       "     component_id   label_and_comp_idxs  \\\n",
       "0              T1    MajorClaim 503 575   \n",
       "1              T2  MajorClaim 2154 2231   \n",
       "2              T3         Claim 591 714   \n",
       "3              T7       Claim 1332 1376   \n",
       "4              T1    MajorClaim 391 489   \n",
       "...           ...                   ...   \n",
       "1714           T6      Premise 954 1087   \n",
       "1715           T1    MajorClaim 238 307   \n",
       "1716           T2  MajorClaim 1543 1620   \n",
       "1717           T3       Premise 379 462   \n",
       "1718           T4     Premise 1064 1112   \n",
       "\n",
       "                                                   text     label_x  \\\n",
       "0     we should attach more importance to cooperatio...  MajorClaim   \n",
       "1     a more cooperative attitudes towards life is m...  MajorClaim   \n",
       "2     through cooperation, children can learn about ...       Claim   \n",
       "3          competition makes the society more effective       Claim   \n",
       "4     they are able to sustain their cultural identi...  MajorClaim   \n",
       "...                                                 ...         ...   \n",
       "1714  we are living in a society that puts a signifi...     Premise   \n",
       "1715  both of studying hard and playing sports are p...  MajorClaim   \n",
       "1716  both studying hard at school and playing sport...  MajorClaim   \n",
       "1717  Studying hard gives children with a plenty of ...     Premise   \n",
       "1718   there are many benefit when children doing sport     Premise   \n",
       "\n",
       "     label_ComponentType relation_SupportAttack label_RelationType  \\\n",
       "0             MajorClaim                     []                      \n",
       "1             MajorClaim                     []                      \n",
       "2                  Claim                     []            Support   \n",
       "3                  Claim                     []             Attack   \n",
       "4             MajorClaim                     []                      \n",
       "...                  ...                    ...                ...   \n",
       "1714             Premise                     []            Support   \n",
       "1715          MajorClaim                     []                      \n",
       "1716          MajorClaim                     []                      \n",
       "1717             Premise                     []            Support   \n",
       "1718             Premise                     []            Support   \n",
       "\n",
       "     label_LinkedNotLinked  ... nr_following_comps_in_para  \\\n",
       "0                   Linked  ...                          0   \n",
       "1                   Linked  ...                          0   \n",
       "2                   Linked  ...                          3   \n",
       "3                   Linked  ...                          3   \n",
       "4                   Linked  ...                          0   \n",
       "...                    ...  ...                        ...   \n",
       "1714                Linked  ...                          3   \n",
       "1715                Linked  ...                          0   \n",
       "1716                Linked  ...                          0   \n",
       "1717             NotLinked  ...                          3   \n",
       "1718                Linked  ...                          6   \n",
       "\n",
       "                                 structural_fts_as_text  \\\n",
       "0     Topic: Should students be taught to compete or...   \n",
       "1     Topic: Should students be taught to compete or...   \n",
       "2     Topic: Should students be taught to compete or...   \n",
       "3     Topic: Should students be taught to compete or...   \n",
       "4     Topic: More people are migrating to other coun...   \n",
       "...                                                 ...   \n",
       "1714  Topic: Fatherhood should be as present as moth...   \n",
       "1715  Topic: Children should studying hard or playin...   \n",
       "1716  Topic: Children should studying hard or playin...   \n",
       "1717  Topic: Children should studying hard or playin...   \n",
       "1718  Topic: Children should studying hard or playin...   \n",
       "\n",
       "                        structural_fts_as_text_combined  para_ratio  \\\n",
       "0     Topic: Should students be taught to compete or...        0.25   \n",
       "1     Topic: Should students be taught to compete or...        1.00   \n",
       "2     Topic: Should students be taught to compete or...        0.50   \n",
       "3     Topic: Should students be taught to compete or...        0.75   \n",
       "4     Topic: More people are migrating to other coun...        0.25   \n",
       "...                                                 ...         ...   \n",
       "1714  Topic: Fatherhood should be as present as moth...        0.75   \n",
       "1715  Topic: Children should studying hard or playin...        0.25   \n",
       "1716  Topic: Children should studying hard or playin...        1.00   \n",
       "1717  Topic: Children should studying hard or playin...        0.50   \n",
       "1718  Topic: Children should studying hard or playin...        0.75   \n",
       "\n",
       "      first_or_last                      strct_fts_w_position_in_essay  \\\n",
       "0                 1  Topic: Should students be taught to compete or...   \n",
       "1                 1  Topic: Should students be taught to compete or...   \n",
       "2                 0  Topic: Should students be taught to compete or...   \n",
       "3                 0  Topic: Should students be taught to compete or...   \n",
       "4                 1  Topic: More people are migrating to other coun...   \n",
       "...             ...                                                ...   \n",
       "1714              0  Topic: Fatherhood should be as present as moth...   \n",
       "1715              1  Topic: Children should studying hard or playin...   \n",
       "1716              1  Topic: Children should studying hard or playin...   \n",
       "1717              0  Topic: Children should studying hard or playin...   \n",
       "1718              0  Topic: Children should studying hard or playin...   \n",
       "\n",
       "                                     component_pos_tags  \\\n",
       "0     Part Of Speech tags: PRON, VERB, VERB, ADJ, NO...   \n",
       "1     Part Of Speech tags: DET, ADV, ADJ, NOUN, ADP,...   \n",
       "2     Part Of Speech tags: ADP, NOUN, PUNCT, NOUN, V...   \n",
       "3     Part Of Speech tags: NOUN, VERB, DET, NOUN, AD...   \n",
       "4     Part Of Speech tags: PRON, AUX, ADJ, PART, VER...   \n",
       "...                                                 ...   \n",
       "1714  Part Of Speech tags: PRON, AUX, VERB, ADP, DET...   \n",
       "1715  Part Of Speech tags: DET, ADP, VERB, ADJ, CCON...   \n",
       "1716  Part Of Speech tags: DET, VERB, ADV, ADP, NOUN...   \n",
       "1717  Part Of Speech tags: VERB, ADJ, VERB, NOUN, AD...   \n",
       "1718  Part Of Speech tags: PRON, AUX, ADJ, NOUN, ADV...   \n",
       "\n",
       "                      strct_fts_essay_position_pos_tags  am_flag     am_span  \n",
       "0     Topic: Should students be taught to compete or...        1          []  \n",
       "1     Topic: Should students be taught to compete or...        1          []  \n",
       "2     Topic: Should students be taught to compete or...        1          []  \n",
       "3     Topic: Should students be taught to compete or...        1    [(0, 0)]  \n",
       "4     Topic: More people are migrating to other coun...        1    [(0, 0)]  \n",
       "...                                                 ...      ...         ...  \n",
       "1714  Topic: Fatherhood should be as present as moth...        1          []  \n",
       "1715  Topic: Children should studying hard or playin...        1          []  \n",
       "1716  Topic: Children should studying hard or playin...        1          []  \n",
       "1717  Topic: Children should studying hard or playin...        0  [(-1, -1)]  \n",
       "1718  Topic: Children should studying hard or playin...        1          []  \n",
       "\n",
       "[1719 rows x 41 columns]"
      ]
     },
     "execution_count": 144,
     "metadata": {},
     "output_type": "execute_result"
    }
   ],
   "source": [
    "dataset_by_paras.first()"
   ]
  },
  {
   "cell_type": "code",
   "execution_count": 14,
   "metadata": {},
   "outputs": [
    {
     "data": {
      "text/html": [
       "<div>\n",
       "<style scoped>\n",
       "    .dataframe tbody tr th:only-of-type {\n",
       "        vertical-align: middle;\n",
       "    }\n",
       "\n",
       "    .dataframe tbody tr th {\n",
       "        vertical-align: top;\n",
       "    }\n",
       "\n",
       "    .dataframe thead th {\n",
       "        text-align: right;\n",
       "    }\n",
       "</style>\n",
       "<table border=\"1\" class=\"dataframe\">\n",
       "  <thead>\n",
       "    <tr style=\"text-align: right;\">\n",
       "      <th></th>\n",
       "      <th>essay_nr</th>\n",
       "      <th>component_id</th>\n",
       "      <th>label_and_comp_idxs</th>\n",
       "      <th>text</th>\n",
       "      <th>label_x</th>\n",
       "      <th>label_ComponentType</th>\n",
       "      <th>relation_SupportAttack</th>\n",
       "      <th>label_RelationType</th>\n",
       "      <th>label_LinkedNotLinked</th>\n",
       "      <th>split_y</th>\n",
       "      <th>...</th>\n",
       "      <th>is_last_in_para</th>\n",
       "      <th>nr_preceeding_comps_in_para</th>\n",
       "      <th>nr_following_comps_in_para</th>\n",
       "      <th>structural_fts_as_text</th>\n",
       "      <th>structural_fts_as_text_combined</th>\n",
       "      <th>para_ratio</th>\n",
       "      <th>first_or_last</th>\n",
       "      <th>strct_fts_w_position_in_essay</th>\n",
       "      <th>component_pos_tags</th>\n",
       "      <th>strct_fts_essay_position_pos_tags</th>\n",
       "    </tr>\n",
       "  </thead>\n",
       "  <tbody>\n",
       "    <tr>\n",
       "      <th>0</th>\n",
       "      <td>essay001</td>\n",
       "      <td>T1</td>\n",
       "      <td>MajorClaim 503 575</td>\n",
       "      <td>we should attach more importance to cooperatio...</td>\n",
       "      <td>MajorClaim</td>\n",
       "      <td>MajorClaim</td>\n",
       "      <td>[]</td>\n",
       "      <td></td>\n",
       "      <td>Linked</td>\n",
       "      <td>TRAIN</td>\n",
       "      <td>...</td>\n",
       "      <td>1</td>\n",
       "      <td>0</td>\n",
       "      <td>0</td>\n",
       "      <td>Topic: Should students be taught to compete or...</td>\n",
       "      <td>Topic: Should students be taught to compete or...</td>\n",
       "      <td>0.25</td>\n",
       "      <td>1</td>\n",
       "      <td>Topic: Should students be taught to compete or...</td>\n",
       "      <td>Part Of Speech tags: PRON, VERB, VERB, ADJ, NO...</td>\n",
       "      <td>Topic: Should students be taught to compete or...</td>\n",
       "    </tr>\n",
       "    <tr>\n",
       "      <th>1</th>\n",
       "      <td>essay001</td>\n",
       "      <td>T2</td>\n",
       "      <td>MajorClaim 2154 2231</td>\n",
       "      <td>a more cooperative attitudes towards life is m...</td>\n",
       "      <td>MajorClaim</td>\n",
       "      <td>MajorClaim</td>\n",
       "      <td>[]</td>\n",
       "      <td></td>\n",
       "      <td>Linked</td>\n",
       "      <td>TRAIN</td>\n",
       "      <td>...</td>\n",
       "      <td>1</td>\n",
       "      <td>0</td>\n",
       "      <td>0</td>\n",
       "      <td>Topic: Should students be taught to compete or...</td>\n",
       "      <td>Topic: Should students be taught to compete or...</td>\n",
       "      <td>1.00</td>\n",
       "      <td>1</td>\n",
       "      <td>Topic: Should students be taught to compete or...</td>\n",
       "      <td>Part Of Speech tags: DET, ADV, ADJ, NOUN, ADP,...</td>\n",
       "      <td>Topic: Should students be taught to compete or...</td>\n",
       "    </tr>\n",
       "    <tr>\n",
       "      <th>2</th>\n",
       "      <td>essay001</td>\n",
       "      <td>T3</td>\n",
       "      <td>Claim 591 714</td>\n",
       "      <td>through cooperation, children can learn about ...</td>\n",
       "      <td>Claim</td>\n",
       "      <td>Claim</td>\n",
       "      <td>[]</td>\n",
       "      <td>Support</td>\n",
       "      <td>Linked</td>\n",
       "      <td>TRAIN</td>\n",
       "      <td>...</td>\n",
       "      <td>0</td>\n",
       "      <td>0</td>\n",
       "      <td>3</td>\n",
       "      <td>Topic: Should students be taught to compete or...</td>\n",
       "      <td>Topic: Should students be taught to compete or...</td>\n",
       "      <td>0.50</td>\n",
       "      <td>0</td>\n",
       "      <td>Topic: Should students be taught to compete or...</td>\n",
       "      <td>Part Of Speech tags: ADP, NOUN, PUNCT, NOUN, V...</td>\n",
       "      <td>Topic: Should students be taught to compete or...</td>\n",
       "    </tr>\n",
       "    <tr>\n",
       "      <th>3</th>\n",
       "      <td>essay001</td>\n",
       "      <td>T4</td>\n",
       "      <td>Premise 716 851</td>\n",
       "      <td>What we acquired from team work is not only ho...</td>\n",
       "      <td>Premise</td>\n",
       "      <td>Premise</td>\n",
       "      <td>[]</td>\n",
       "      <td>Support</td>\n",
       "      <td>NotLinked</td>\n",
       "      <td>TRAIN</td>\n",
       "      <td>...</td>\n",
       "      <td>0</td>\n",
       "      <td>1</td>\n",
       "      <td>2</td>\n",
       "      <td>Topic: Should students be taught to compete or...</td>\n",
       "      <td>Topic: Should students be taught to compete or...</td>\n",
       "      <td>0.50</td>\n",
       "      <td>0</td>\n",
       "      <td>Topic: Should students be taught to compete or...</td>\n",
       "      <td>Part Of Speech tags: PRON, PRON, VERB, ADP, NO...</td>\n",
       "      <td>Topic: Should students be taught to compete or...</td>\n",
       "    </tr>\n",
       "    <tr>\n",
       "      <th>4</th>\n",
       "      <td>essay001</td>\n",
       "      <td>T5</td>\n",
       "      <td>Premise 853 1086</td>\n",
       "      <td>During the process of cooperation, children ca...</td>\n",
       "      <td>Premise</td>\n",
       "      <td>Premise</td>\n",
       "      <td>[]</td>\n",
       "      <td>Support</td>\n",
       "      <td>NotLinked</td>\n",
       "      <td>TRAIN</td>\n",
       "      <td>...</td>\n",
       "      <td>0</td>\n",
       "      <td>2</td>\n",
       "      <td>1</td>\n",
       "      <td>Topic: Should students be taught to compete or...</td>\n",
       "      <td>Topic: Should students be taught to compete or...</td>\n",
       "      <td>0.50</td>\n",
       "      <td>0</td>\n",
       "      <td>Topic: Should students be taught to compete or...</td>\n",
       "      <td>Part Of Speech tags: ADP, DET, NOUN, ADP, NOUN...</td>\n",
       "      <td>Topic: Should students be taught to compete or...</td>\n",
       "    </tr>\n",
       "    <tr>\n",
       "      <th>...</th>\n",
       "      <td>...</td>\n",
       "      <td>...</td>\n",
       "      <td>...</td>\n",
       "      <td>...</td>\n",
       "      <td>...</td>\n",
       "      <td>...</td>\n",
       "      <td>...</td>\n",
       "      <td>...</td>\n",
       "      <td>...</td>\n",
       "      <td>...</td>\n",
       "      <td>...</td>\n",
       "      <td>...</td>\n",
       "      <td>...</td>\n",
       "      <td>...</td>\n",
       "      <td>...</td>\n",
       "      <td>...</td>\n",
       "      <td>...</td>\n",
       "      <td>...</td>\n",
       "      <td>...</td>\n",
       "      <td>...</td>\n",
       "      <td>...</td>\n",
       "    </tr>\n",
       "    <tr>\n",
       "      <th>5968</th>\n",
       "      <td>essay402</td>\n",
       "      <td>T11</td>\n",
       "      <td>Premise 1275 1339</td>\n",
       "      <td>indirectly they will learn how to socialize ea...</td>\n",
       "      <td>Premise</td>\n",
       "      <td>Premise</td>\n",
       "      <td>[]</td>\n",
       "      <td>Support</td>\n",
       "      <td>NotLinked</td>\n",
       "      <td>TRAIN</td>\n",
       "      <td>...</td>\n",
       "      <td>0</td>\n",
       "      <td>4</td>\n",
       "      <td>3</td>\n",
       "      <td>Topic: Children should studying hard or playin...</td>\n",
       "      <td>Topic: Children should studying hard or playin...</td>\n",
       "      <td>0.75</td>\n",
       "      <td>0</td>\n",
       "      <td>Topic: Children should studying hard or playin...</td>\n",
       "      <td>Part Of Speech tags: ADV, PRON, VERB, VERB, AD...</td>\n",
       "      <td>Topic: Children should studying hard or playin...</td>\n",
       "    </tr>\n",
       "    <tr>\n",
       "      <th>5969</th>\n",
       "      <td>essay402</td>\n",
       "      <td>T12</td>\n",
       "      <td>Premise 1341 1388</td>\n",
       "      <td>That will make children getting lots of friends</td>\n",
       "      <td>Premise</td>\n",
       "      <td>Premise</td>\n",
       "      <td>[]</td>\n",
       "      <td>Support</td>\n",
       "      <td>NotLinked</td>\n",
       "      <td>TRAIN</td>\n",
       "      <td>...</td>\n",
       "      <td>0</td>\n",
       "      <td>5</td>\n",
       "      <td>2</td>\n",
       "      <td>Topic: Children should studying hard or playin...</td>\n",
       "      <td>Topic: Children should studying hard or playin...</td>\n",
       "      <td>0.75</td>\n",
       "      <td>0</td>\n",
       "      <td>Topic: Children should studying hard or playin...</td>\n",
       "      <td>Part Of Speech tags: DET, VERB, VERB, NOUN, VE...</td>\n",
       "      <td>Topic: Children should studying hard or playin...</td>\n",
       "    </tr>\n",
       "    <tr>\n",
       "      <th>5970</th>\n",
       "      <td>essay402</td>\n",
       "      <td>T13</td>\n",
       "      <td>Premise 1393 1436</td>\n",
       "      <td>they can contribute positively to community</td>\n",
       "      <td>Premise</td>\n",
       "      <td>Premise</td>\n",
       "      <td>[]</td>\n",
       "      <td>Support</td>\n",
       "      <td>Linked</td>\n",
       "      <td>TRAIN</td>\n",
       "      <td>...</td>\n",
       "      <td>0</td>\n",
       "      <td>6</td>\n",
       "      <td>1</td>\n",
       "      <td>Topic: Children should studying hard or playin...</td>\n",
       "      <td>Topic: Children should studying hard or playin...</td>\n",
       "      <td>0.75</td>\n",
       "      <td>0</td>\n",
       "      <td>Topic: Children should studying hard or playin...</td>\n",
       "      <td>Part Of Speech tags: PRON, VERB, VERB, ADV, AD...</td>\n",
       "      <td>Topic: Children should studying hard or playin...</td>\n",
       "    </tr>\n",
       "    <tr>\n",
       "      <th>5971</th>\n",
       "      <td>essay402</td>\n",
       "      <td>T14</td>\n",
       "      <td>Premise 1448 1525</td>\n",
       "      <td>playing sport makes children getting healthy a...</td>\n",
       "      <td>Premise</td>\n",
       "      <td>Premise</td>\n",
       "      <td>[]</td>\n",
       "      <td>Support</td>\n",
       "      <td>NotLinked</td>\n",
       "      <td>TRAIN</td>\n",
       "      <td>...</td>\n",
       "      <td>1</td>\n",
       "      <td>7</td>\n",
       "      <td>0</td>\n",
       "      <td>Topic: Children should studying hard or playin...</td>\n",
       "      <td>Topic: Children should studying hard or playin...</td>\n",
       "      <td>0.75</td>\n",
       "      <td>0</td>\n",
       "      <td>Topic: Children should studying hard or playin...</td>\n",
       "      <td>Part Of Speech tags: VERB, NOUN, VERB, NOUN, V...</td>\n",
       "      <td>Topic: Children should studying hard or playin...</td>\n",
       "    </tr>\n",
       "    <tr>\n",
       "      <th>5972</th>\n",
       "      <td>essay402</td>\n",
       "      <td>T15</td>\n",
       "      <td>Claim 916 965</td>\n",
       "      <td>playing sports will give good effects on children</td>\n",
       "      <td>Claim</td>\n",
       "      <td>Claim</td>\n",
       "      <td>[]</td>\n",
       "      <td>Support</td>\n",
       "      <td>Linked</td>\n",
       "      <td>TRAIN</td>\n",
       "      <td>...</td>\n",
       "      <td>0</td>\n",
       "      <td>0</td>\n",
       "      <td>7</td>\n",
       "      <td>Topic: Children should studying hard or playin...</td>\n",
       "      <td>Topic: Children should studying hard or playin...</td>\n",
       "      <td>0.75</td>\n",
       "      <td>0</td>\n",
       "      <td>Topic: Children should studying hard or playin...</td>\n",
       "      <td>Part Of Speech tags: VERB, NOUN, VERB, VERB, A...</td>\n",
       "      <td>Topic: Children should studying hard or playin...</td>\n",
       "    </tr>\n",
       "  </tbody>\n",
       "</table>\n",
       "<p>5973 rows × 39 columns</p>\n",
       "</div>"
      ],
      "text/plain": [
       "      essay_nr component_id   label_and_comp_idxs  \\\n",
       "0     essay001           T1    MajorClaim 503 575   \n",
       "1     essay001           T2  MajorClaim 2154 2231   \n",
       "2     essay001           T3         Claim 591 714   \n",
       "3     essay001           T4       Premise 716 851   \n",
       "4     essay001           T5      Premise 853 1086   \n",
       "...        ...          ...                   ...   \n",
       "5968  essay402          T11     Premise 1275 1339   \n",
       "5969  essay402          T12     Premise 1341 1388   \n",
       "5970  essay402          T13     Premise 1393 1436   \n",
       "5971  essay402          T14     Premise 1448 1525   \n",
       "5972  essay402          T15         Claim 916 965   \n",
       "\n",
       "                                                   text     label_x  \\\n",
       "0     we should attach more importance to cooperatio...  MajorClaim   \n",
       "1     a more cooperative attitudes towards life is m...  MajorClaim   \n",
       "2     through cooperation, children can learn about ...       Claim   \n",
       "3     What we acquired from team work is not only ho...     Premise   \n",
       "4     During the process of cooperation, children ca...     Premise   \n",
       "...                                                 ...         ...   \n",
       "5968  indirectly they will learn how to socialize ea...     Premise   \n",
       "5969    That will make children getting lots of friends     Premise   \n",
       "5970        they can contribute positively to community     Premise   \n",
       "5971  playing sport makes children getting healthy a...     Premise   \n",
       "5972  playing sports will give good effects on children       Claim   \n",
       "\n",
       "     label_ComponentType relation_SupportAttack label_RelationType  \\\n",
       "0             MajorClaim                     []                      \n",
       "1             MajorClaim                     []                      \n",
       "2                  Claim                     []            Support   \n",
       "3                Premise                     []            Support   \n",
       "4                Premise                     []            Support   \n",
       "...                  ...                    ...                ...   \n",
       "5968             Premise                     []            Support   \n",
       "5969             Premise                     []            Support   \n",
       "5970             Premise                     []            Support   \n",
       "5971             Premise                     []            Support   \n",
       "5972               Claim                     []            Support   \n",
       "\n",
       "     label_LinkedNotLinked split_y  ... is_last_in_para  \\\n",
       "0                   Linked   TRAIN  ...               1   \n",
       "1                   Linked   TRAIN  ...               1   \n",
       "2                   Linked   TRAIN  ...               0   \n",
       "3                NotLinked   TRAIN  ...               0   \n",
       "4                NotLinked   TRAIN  ...               0   \n",
       "...                    ...     ...  ...             ...   \n",
       "5968             NotLinked   TRAIN  ...               0   \n",
       "5969             NotLinked   TRAIN  ...               0   \n",
       "5970                Linked   TRAIN  ...               0   \n",
       "5971             NotLinked   TRAIN  ...               1   \n",
       "5972                Linked   TRAIN  ...               0   \n",
       "\n",
       "      nr_preceeding_comps_in_para  nr_following_comps_in_para  \\\n",
       "0                               0                           0   \n",
       "1                               0                           0   \n",
       "2                               0                           3   \n",
       "3                               1                           2   \n",
       "4                               2                           1   \n",
       "...                           ...                         ...   \n",
       "5968                            4                           3   \n",
       "5969                            5                           2   \n",
       "5970                            6                           1   \n",
       "5971                            7                           0   \n",
       "5972                            0                           7   \n",
       "\n",
       "                                 structural_fts_as_text  \\\n",
       "0     Topic: Should students be taught to compete or...   \n",
       "1     Topic: Should students be taught to compete or...   \n",
       "2     Topic: Should students be taught to compete or...   \n",
       "3     Topic: Should students be taught to compete or...   \n",
       "4     Topic: Should students be taught to compete or...   \n",
       "...                                                 ...   \n",
       "5968  Topic: Children should studying hard or playin...   \n",
       "5969  Topic: Children should studying hard or playin...   \n",
       "5970  Topic: Children should studying hard or playin...   \n",
       "5971  Topic: Children should studying hard or playin...   \n",
       "5972  Topic: Children should studying hard or playin...   \n",
       "\n",
       "                        structural_fts_as_text_combined para_ratio  \\\n",
       "0     Topic: Should students be taught to compete or...       0.25   \n",
       "1     Topic: Should students be taught to compete or...       1.00   \n",
       "2     Topic: Should students be taught to compete or...       0.50   \n",
       "3     Topic: Should students be taught to compete or...       0.50   \n",
       "4     Topic: Should students be taught to compete or...       0.50   \n",
       "...                                                 ...        ...   \n",
       "5968  Topic: Children should studying hard or playin...       0.75   \n",
       "5969  Topic: Children should studying hard or playin...       0.75   \n",
       "5970  Topic: Children should studying hard or playin...       0.75   \n",
       "5971  Topic: Children should studying hard or playin...       0.75   \n",
       "5972  Topic: Children should studying hard or playin...       0.75   \n",
       "\n",
       "      first_or_last                      strct_fts_w_position_in_essay  \\\n",
       "0                 1  Topic: Should students be taught to compete or...   \n",
       "1                 1  Topic: Should students be taught to compete or...   \n",
       "2                 0  Topic: Should students be taught to compete or...   \n",
       "3                 0  Topic: Should students be taught to compete or...   \n",
       "4                 0  Topic: Should students be taught to compete or...   \n",
       "...             ...                                                ...   \n",
       "5968              0  Topic: Children should studying hard or playin...   \n",
       "5969              0  Topic: Children should studying hard or playin...   \n",
       "5970              0  Topic: Children should studying hard or playin...   \n",
       "5971              0  Topic: Children should studying hard or playin...   \n",
       "5972              0  Topic: Children should studying hard or playin...   \n",
       "\n",
       "                                     component_pos_tags  \\\n",
       "0     Part Of Speech tags: PRON, VERB, VERB, ADJ, NO...   \n",
       "1     Part Of Speech tags: DET, ADV, ADJ, NOUN, ADP,...   \n",
       "2     Part Of Speech tags: ADP, NOUN, PUNCT, NOUN, V...   \n",
       "3     Part Of Speech tags: PRON, PRON, VERB, ADP, NO...   \n",
       "4     Part Of Speech tags: ADP, DET, NOUN, ADP, NOUN...   \n",
       "...                                                 ...   \n",
       "5968  Part Of Speech tags: ADV, PRON, VERB, VERB, AD...   \n",
       "5969  Part Of Speech tags: DET, VERB, VERB, NOUN, VE...   \n",
       "5970  Part Of Speech tags: PRON, VERB, VERB, ADV, AD...   \n",
       "5971  Part Of Speech tags: VERB, NOUN, VERB, NOUN, V...   \n",
       "5972  Part Of Speech tags: VERB, NOUN, VERB, VERB, A...   \n",
       "\n",
       "                      strct_fts_essay_position_pos_tags  \n",
       "0     Topic: Should students be taught to compete or...  \n",
       "1     Topic: Should students be taught to compete or...  \n",
       "2     Topic: Should students be taught to compete or...  \n",
       "3     Topic: Should students be taught to compete or...  \n",
       "4     Topic: Should students be taught to compete or...  \n",
       "...                                                 ...  \n",
       "5968  Topic: Children should studying hard or playin...  \n",
       "5969  Topic: Children should studying hard or playin...  \n",
       "5970  Topic: Children should studying hard or playin...  \n",
       "5971  Topic: Children should studying hard or playin...  \n",
       "5972  Topic: Children should studying hard or playin...  \n",
       "\n",
       "[5973 rows x 39 columns]"
      ]
     },
     "execution_count": 14,
     "metadata": {},
     "output_type": "execute_result"
    }
   ],
   "source": [
    "dataset_df"
   ]
  },
  {
   "cell_type": "code",
   "execution_count": 15,
   "metadata": {},
   "outputs": [
    {
     "data": {
      "text/plain": [
       "0       From this point of view, I firmly believe that...\n",
       "1       Consequently, no matter from the view of indiv...\n",
       "2       First of all, through cooperation, children ca...\n",
       "3       What we acquired from team work is not only ho...\n",
       "4       During the process of cooperation, children ca...\n",
       "                              ...                        \n",
       "5968    It will be good for children, because indirect...\n",
       "5969    That will make children getting lots of friend...\n",
       "5970    That will make children getting lots of friend...\n",
       "5971    Secondly, playing sport makes children getting...\n",
       "5972    At the same time, playing sports will give goo...\n",
       "Name: sentence, Length: 5973, dtype: object"
      ]
     },
     "execution_count": 15,
     "metadata": {},
     "output_type": "execute_result"
    }
   ],
   "source": [
    "dataset_df.sentence"
   ]
  },
  {
   "cell_type": "code",
   "execution_count": 16,
   "metadata": {},
   "outputs": [],
   "source": [
    "# try to see how many sentences have AM from am_list"
   ]
  },
  {
   "cell_type": "code",
   "execution_count": 19,
   "metadata": {},
   "outputs": [],
   "source": [
    "with open(\"am_list.txt\") as file_am:\n",
    "    am_list = []\n",
    "    for line in file_am:\n",
    "        am_list.append(line.rstrip('\\n'))"
   ]
  },
  {
   "cell_type": "code",
   "execution_count": 20,
   "metadata": {
    "scrolled": true
   },
   "outputs": [
    {
     "data": {
      "text/plain": [
       "['Additionally',\n",
       " 'As a matter of fact',\n",
       " 'because',\n",
       " 'Besides',\n",
       " 'due to',\n",
       " 'Finally',\n",
       " 'First of all',\n",
       " 'Firstly',\n",
       " 'for example',\n",
       " 'For example',\n",
       " 'For instance',\n",
       " 'for instance',\n",
       " 'Furthermore,',\n",
       " 'has proved it',\n",
       " 'In addition',\n",
       " 'In addition to this',\n",
       " 'In the first place',\n",
       " 'is due to the fact that',\n",
       " 'It should also be noted',\n",
       " 'Moreover',\n",
       " 'On one hand',\n",
       " 'On the one hand',\n",
       " 'On the other hand',\n",
       " 'One of the main reasons',\n",
       " 'Secondly',\n",
       " 'Similarly',\n",
       " 'since',\n",
       " 'Since',\n",
       " 'So',\n",
       " 'The reason',\n",
       " 'To begin with',\n",
       " 'To offer an instance',\n",
       " 'What is more',\n",
       " 'As a result',\n",
       " 'As the consequence',\n",
       " 'Because',\n",
       " 'Clearly',\n",
       " 'Consequently',\n",
       " 'Considering this subject',\n",
       " 'Furthermore',\n",
       " 'Hence',\n",
       " 'leading to the consequence',\n",
       " 'so',\n",
       " 'So',\n",
       " 'taking account on this fact',\n",
       " 'That is the reason why',\n",
       " 'The reason is that',\n",
       " 'Therefore,',\n",
       " 'therefore',\n",
       " 'This means that',\n",
       " 'This shows that',\n",
       " 'This will result',\n",
       " 'Thus',\n",
       " 'thus',\n",
       " 'Thus, it is clearly seen that',\n",
       " 'Thus, it is seen',\n",
       " 'Thus, the example shows',\n",
       " 'Admittedly',\n",
       " 'although ',\n",
       " 'Although',\n",
       " 'besides these advantages',\n",
       " 'but',\n",
       " 'But',\n",
       " 'Even though',\n",
       " 'even though',\n",
       " 'However',\n",
       " 'Otherwise',\n",
       " 'All in all',\n",
       " 'All things considered',\n",
       " 'As far as I am concerned',\n",
       " 'Based on some reasons',\n",
       " 'by analyzing both the views',\n",
       " 'considering both the previous fact',\n",
       " 'Finally',\n",
       " 'For the reasons mentioned above',\n",
       " 'From explanation above',\n",
       " 'From this point of view',\n",
       " 'I agree that',\n",
       " 'I agree with',\n",
       " 'I agree with the statement that',\n",
       " 'I believe',\n",
       " 'I believe that',\n",
       " 'I do not agree with this statement',\n",
       " 'I firmly believe that',\n",
       " 'I highly advocate that',\n",
       " 'I highly recommend',\n",
       " 'I strongly believe that',\n",
       " 'I think that',\n",
       " 'I think the view is',\n",
       " 'I totally agree',\n",
       " 'I totally agree to this opinion',\n",
       " 'I would have to argue that',\n",
       " 'I would reaffirm my position that',\n",
       " 'In conclusion',\n",
       " 'in conclusion',\n",
       " 'in my opinion',\n",
       " 'In my opinion',\n",
       " 'In my personal point of view',\n",
       " 'in my point of view',\n",
       " 'In my point of view',\n",
       " 'In summary',\n",
       " 'In the light of the facts outlined above',\n",
       " 'it can be said that',\n",
       " 'it is clear that',\n",
       " 'it seems to me that',\n",
       " 'my deep conviction',\n",
       " 'My sentiments',\n",
       " 'Overall',\n",
       " 'Personally',\n",
       " 'the above explanations and example shows that,',\n",
       " 'This, however',\n",
       " 'To conclude',\n",
       " 'To my way of thinking',\n",
       " 'To sum up',\n",
       " 'Ultimately']"
      ]
     },
     "execution_count": 20,
     "metadata": {},
     "output_type": "execute_result"
    }
   ],
   "source": [
    "am_list"
   ]
  },
  {
   "cell_type": "code",
   "execution_count": 21,
   "metadata": {},
   "outputs": [
    {
     "data": {
      "text/plain": [
       "115"
      ]
     },
     "execution_count": 21,
     "metadata": {},
     "output_type": "execute_result"
    }
   ],
   "source": [
    "len(am_list)"
   ]
  },
  {
   "cell_type": "code",
   "execution_count": 62,
   "metadata": {},
   "outputs": [],
   "source": [
    "def am_exists_check(x):\n",
    "    \n",
    "    am_flag = 0\n",
    "    \n",
    "    sentence = x.sentence\n",
    "    component = x.text\n",
    "    \n",
    "    prefix = sentence[:sentence.find(component)]\n",
    "    \n",
    "    for am_word in am_list:\n",
    "        \n",
    "        if am_word.casefold() in prefix.casefold():\n",
    "            am_flag = 1\n",
    "    \n",
    "    return am_flag            "
   ]
  },
  {
   "cell_type": "code",
   "execution_count": 63,
   "metadata": {},
   "outputs": [],
   "source": [
    "dataset_df['am_flag'] = dataset_df.apply(lambda x: am_exists_check(x), axis=1)"
   ]
  },
  {
   "cell_type": "code",
   "execution_count": 64,
   "metadata": {},
   "outputs": [
    {
     "data": {
      "text/plain": [
       "0    3130\n",
       "1    2843\n",
       "Name: am_flag, dtype: int64"
      ]
     },
     "execution_count": 64,
     "metadata": {},
     "output_type": "execute_result"
    }
   ],
   "source": [
    "dataset_df['am_flag'].value_counts()"
   ]
  },
  {
   "cell_type": "code",
   "execution_count": 47,
   "metadata": {},
   "outputs": [
    {
     "data": {
      "text/plain": [
       "1"
      ]
     },
     "execution_count": 47,
     "metadata": {},
     "output_type": "execute_result"
    }
   ],
   "source": [
    "dataset_df['am_flag'][5968]"
   ]
  },
  {
   "cell_type": "code",
   "execution_count": 48,
   "metadata": {},
   "outputs": [
    {
     "data": {
      "text/plain": [
       "('It will be good for children, because indirectly they will learn how to socialize each other as a team',\n",
       " 'indirectly they will learn how to socialize each other as a team')"
      ]
     },
     "execution_count": 48,
     "metadata": {},
     "output_type": "execute_result"
    }
   ],
   "source": [
    "dataset_df['sentence'][5968], dataset_df['text'][5968]"
   ]
  },
  {
   "cell_type": "code",
   "execution_count": 87,
   "metadata": {},
   "outputs": [
    {
     "data": {
      "text/plain": [
       "1"
      ]
     },
     "execution_count": 87,
     "metadata": {},
     "output_type": "execute_result"
    }
   ],
   "source": [
    "dataset_df['am_flag'][0]"
   ]
  },
  {
   "cell_type": "code",
   "execution_count": 86,
   "metadata": {},
   "outputs": [
    {
     "data": {
      "text/plain": [
       "('From this point of view, I firmly believe that we should attach more importance to cooperation during primary education.',\n",
       " 'we should attach more importance to cooperation during primary education')"
      ]
     },
     "execution_count": 86,
     "metadata": {},
     "output_type": "execute_result"
    }
   ],
   "source": [
    "dataset_df['sentence'][0], dataset_df['text'][0]"
   ]
  },
  {
   "cell_type": "code",
   "execution_count": 117,
   "metadata": {},
   "outputs": [],
   "source": [
    "def get_am_span(x):\n",
    "    \n",
    "    span_l = []\n",
    "    \n",
    "    sentence = x.sentence\n",
    "    component = x.text\n",
    "    \n",
    "    prefix = sentence[:sentence.find(component)]\n",
    "    \n",
    "    for am_word in am_list:\n",
    "        \n",
    "        if am_word.casefold() in prefix.casefold():\n",
    "            \n",
    "            prefix_words_list = prefix.casefold().split(\" \")\n",
    "            print(prefix_words_list)\n",
    "            am_words_list = am_word.casefold().split(\" \")\n",
    "            print(am_words_list)\n",
    "            span_l = [(i, i+len(am_words_list)-1) for i in range(len(prefix_words_list)) if prefix_words_list[i:i+len(am_words_list)] == am_words_list]\n",
    "            print(span_l)\n",
    "            # break\n",
    "            \n",
    "        else:\n",
    "            \n",
    "            span_l = [(-1, -1)]\n",
    "    \n",
    "    return span_l"
   ]
  },
  {
   "cell_type": "code",
   "execution_count": 118,
   "metadata": {},
   "outputs": [
    {
     "name": "stdout",
     "output_type": "stream",
     "text": [
      "['from', 'this', 'point', 'of', 'view,', 'i', 'firmly', 'believe', 'that', '']\n",
      "['from', 'this', 'point', 'of', 'view']\n",
      "[]\n",
      "['from', 'this', 'point', 'of', 'view,', 'i', 'firmly', 'believe', 'that', '']\n",
      "['i', 'firmly', 'believe', 'that']\n",
      "[(5, 8)]\n"
     ]
    },
    {
     "data": {
      "text/plain": [
       "[(-1, -1)]"
      ]
     },
     "execution_count": 118,
     "metadata": {},
     "output_type": "execute_result"
    }
   ],
   "source": [
    "get_am_span(dataset_df.iloc[0])"
   ]
  },
  {
   "cell_type": "code",
   "execution_count": 106,
   "metadata": {
    "scrolled": true
   },
   "outputs": [],
   "source": [
    "dataset_df['am_span'] = dataset_df.apply(lambda x: get_am_span(x), axis=1)"
   ]
  },
  {
   "cell_type": "code",
   "execution_count": 107,
   "metadata": {},
   "outputs": [
    {
     "data": {
      "text/plain": [
       "0               []\n",
       "1               []\n",
       "2               []\n",
       "3       [(-1, -1)]\n",
       "4       [(-1, -1)]\n",
       "           ...    \n",
       "5968      [(6, 6)]\n",
       "5969    [(-1, -1)]\n",
       "5970      [(8, 8)]\n",
       "5971            []\n",
       "5972    [(-1, -1)]\n",
       "Name: am_span, Length: 5973, dtype: object"
      ]
     },
     "execution_count": 107,
     "metadata": {},
     "output_type": "execute_result"
    }
   ],
   "source": [
    "dataset_df['am_span']"
   ]
  },
  {
   "cell_type": "code",
   "execution_count": 120,
   "metadata": {},
   "outputs": [],
   "source": [
    "a = ['from', 'this', 'point', 'of', 'view,', 'i', 'firmly', 'believe', 'that', '']\n",
    "b = ['from', 'this', 'point', 'of', 'view']"
   ]
  },
  {
   "cell_type": "code",
   "execution_count": 125,
   "metadata": {},
   "outputs": [
    {
     "data": {
      "text/plain": [
       "[]"
      ]
     },
     "execution_count": 125,
     "metadata": {},
     "output_type": "execute_result"
    }
   ],
   "source": [
    "[(i, i+len(b)) for i in range(len(a)) if a[i:i+len(b)] == b]"
   ]
  },
  {
   "cell_type": "code",
   "execution_count": 123,
   "metadata": {},
   "outputs": [
    {
     "data": {
      "text/plain": [
       "10"
      ]
     },
     "execution_count": 123,
     "metadata": {},
     "output_type": "execute_result"
    }
   ],
   "source": [
    "len(a)"
   ]
  },
  {
   "cell_type": "code",
   "execution_count": 124,
   "metadata": {},
   "outputs": [
    {
     "data": {
      "text/plain": [
       "5"
      ]
     },
     "execution_count": 124,
     "metadata": {},
     "output_type": "execute_result"
    }
   ],
   "source": [
    "len(b)"
   ]
  },
  {
   "cell_type": "code",
   "execution_count": 127,
   "metadata": {},
   "outputs": [],
   "source": [
    "x = range(len(a))"
   ]
  },
  {
   "cell_type": "code",
   "execution_count": 128,
   "metadata": {},
   "outputs": [
    {
     "data": {
      "text/plain": [
       "range(0, 10)"
      ]
     },
     "execution_count": 128,
     "metadata": {},
     "output_type": "execute_result"
    }
   ],
   "source": [
    "x"
   ]
  },
  {
   "cell_type": "code",
   "execution_count": 132,
   "metadata": {},
   "outputs": [
    {
     "name": "stdout",
     "output_type": "stream",
     "text": [
      "['from', 'this', 'point', 'of', 'view,']\n",
      "['this', 'point', 'of', 'view,', 'i']\n",
      "['point', 'of', 'view,', 'i', 'firmly']\n",
      "['of', 'view,', 'i', 'firmly', 'believe']\n",
      "['view,', 'i', 'firmly', 'believe', 'that']\n",
      "['i', 'firmly', 'believe', 'that', '']\n",
      "['firmly', 'believe', 'that', '']\n",
      "['believe', 'that', '']\n",
      "['that', '']\n",
      "['']\n"
     ]
    }
   ],
   "source": [
    "indexes = []\n",
    "for i in range(len(a)):\n",
    "    print(a[i:i+len(b)])\n",
    "    if a[i:i+len(b)] == b:\n",
    "        indexes.append((i, i+len(b)))"
   ]
  },
  {
   "cell_type": "code",
   "execution_count": 131,
   "metadata": {},
   "outputs": [
    {
     "data": {
      "text/plain": [
       "[]"
      ]
     },
     "execution_count": 131,
     "metadata": {},
     "output_type": "execute_result"
    }
   ],
   "source": [
    "indexes"
   ]
  },
  {
   "cell_type": "code",
   "execution_count": null,
   "metadata": {},
   "outputs": [],
   "source": [
    "# include the commas in the argumetn markers\n",
    "# update the am_list in the file."
   ]
  },
  {
   "cell_type": "code",
   "execution_count": null,
   "metadata": {},
   "outputs": [],
   "source": []
  },
  {
   "cell_type": "code",
   "execution_count": null,
   "metadata": {},
   "outputs": [],
   "source": []
  },
  {
   "cell_type": "code",
   "execution_count": null,
   "metadata": {},
   "outputs": [],
   "source": []
  },
  {
   "cell_type": "code",
   "execution_count": null,
   "metadata": {},
   "outputs": [],
   "source": []
  },
  {
   "cell_type": "code",
   "execution_count": 74,
   "metadata": {},
   "outputs": [],
   "source": [
    "a = [2, 5, 6, 7, 0, 2, 19]"
   ]
  },
  {
   "cell_type": "code",
   "execution_count": 75,
   "metadata": {},
   "outputs": [],
   "source": [
    "b = [0, 2]"
   ]
  },
  {
   "cell_type": "code",
   "execution_count": 76,
   "metadata": {},
   "outputs": [],
   "source": [
    "z = [(i, i+len(b)-1) for i in range(len(a)) if a[i:i+len(b)] == b]"
   ]
  },
  {
   "cell_type": "code",
   "execution_count": 77,
   "metadata": {},
   "outputs": [
    {
     "data": {
      "text/plain": [
       "(4, 5)"
      ]
     },
     "execution_count": 77,
     "metadata": {},
     "output_type": "execute_result"
    }
   ],
   "source": [
    "z[0]"
   ]
  },
  {
   "cell_type": "code",
   "execution_count": null,
   "metadata": {},
   "outputs": [],
   "source": []
  },
  {
   "cell_type": "code",
   "execution_count": null,
   "metadata": {},
   "outputs": [],
   "source": []
  },
  {
   "cell_type": "code",
   "execution_count": null,
   "metadata": {},
   "outputs": [],
   "source": []
  },
  {
   "cell_type": "code",
   "execution_count": 22,
   "metadata": {},
   "outputs": [],
   "source": [
    "s = 'hello i am umer'\n",
    "x = 'i am umer'"
   ]
  },
  {
   "cell_type": "code",
   "execution_count": 23,
   "metadata": {},
   "outputs": [
    {
     "data": {
      "text/plain": [
       "6"
      ]
     },
     "execution_count": 23,
     "metadata": {},
     "output_type": "execute_result"
    }
   ],
   "source": [
    "s.find(x)"
   ]
  },
  {
   "cell_type": "code",
   "execution_count": 25,
   "metadata": {},
   "outputs": [
    {
     "data": {
      "text/plain": [
       "'hello '"
      ]
     },
     "execution_count": 25,
     "metadata": {},
     "output_type": "execute_result"
    }
   ],
   "source": [
    "s[:s.find(x)]"
   ]
  },
  {
   "cell_type": "code",
   "execution_count": null,
   "metadata": {},
   "outputs": [],
   "source": []
  },
  {
   "cell_type": "code",
   "execution_count": null,
   "metadata": {},
   "outputs": [],
   "source": []
  },
  {
   "cell_type": "code",
   "execution_count": null,
   "metadata": {},
   "outputs": [],
   "source": []
  },
  {
   "cell_type": "code",
   "execution_count": null,
   "metadata": {},
   "outputs": [],
   "source": []
  },
  {
   "cell_type": "code",
   "execution_count": null,
   "metadata": {},
   "outputs": [],
   "source": []
  },
  {
   "cell_type": "code",
   "execution_count": null,
   "metadata": {},
   "outputs": [],
   "source": []
  },
  {
   "cell_type": "code",
   "execution_count": 8,
   "metadata": {
    "gradient": {
     "editing": false,
     "id": "ce62f1fa-3fbf-4d33-82e4-0f13ebefdc02",
     "kernelId": ""
    }
   },
   "outputs": [],
   "source": [
    "dataset_df = dataset_df.reset_index(drop=True)"
   ]
  },
  {
   "cell_type": "code",
   "execution_count": 9,
   "metadata": {},
   "outputs": [
    {
     "data": {
      "text/html": [
       "<div>\n",
       "<style scoped>\n",
       "    .dataframe tbody tr th:only-of-type {\n",
       "        vertical-align: middle;\n",
       "    }\n",
       "\n",
       "    .dataframe tbody tr th {\n",
       "        vertical-align: top;\n",
       "    }\n",
       "\n",
       "    .dataframe thead th {\n",
       "        text-align: right;\n",
       "    }\n",
       "</style>\n",
       "<table border=\"1\" class=\"dataframe\">\n",
       "  <thead>\n",
       "    <tr style=\"text-align: right;\">\n",
       "      <th></th>\n",
       "      <th>essay_nr</th>\n",
       "      <th>component_id</th>\n",
       "      <th>label_and_comp_idxs</th>\n",
       "      <th>text</th>\n",
       "      <th>label_x</th>\n",
       "      <th>label_ComponentType</th>\n",
       "      <th>relation_SupportAttack</th>\n",
       "      <th>label_RelationType</th>\n",
       "      <th>label_LinkedNotLinked</th>\n",
       "      <th>split_y</th>\n",
       "      <th>...</th>\n",
       "      <th>is_last_in_para</th>\n",
       "      <th>nr_preceeding_comps_in_para</th>\n",
       "      <th>nr_following_comps_in_para</th>\n",
       "      <th>structural_fts_as_text</th>\n",
       "      <th>structural_fts_as_text_combined</th>\n",
       "      <th>para_ratio</th>\n",
       "      <th>first_or_last</th>\n",
       "      <th>strct_fts_w_position_in_essay</th>\n",
       "      <th>component_pos_tags</th>\n",
       "      <th>strct_fts_essay_position_pos_tags</th>\n",
       "    </tr>\n",
       "  </thead>\n",
       "  <tbody>\n",
       "    <tr>\n",
       "      <th>0</th>\n",
       "      <td>essay001</td>\n",
       "      <td>T1</td>\n",
       "      <td>MajorClaim 503 575</td>\n",
       "      <td>we should attach more importance to cooperatio...</td>\n",
       "      <td>MajorClaim</td>\n",
       "      <td>MajorClaim</td>\n",
       "      <td>[]</td>\n",
       "      <td></td>\n",
       "      <td>Linked</td>\n",
       "      <td>TRAIN</td>\n",
       "      <td>...</td>\n",
       "      <td>1</td>\n",
       "      <td>0</td>\n",
       "      <td>0</td>\n",
       "      <td>Topic: Should students be taught to compete or...</td>\n",
       "      <td>Topic: Should students be taught to compete or...</td>\n",
       "      <td>0.25</td>\n",
       "      <td>1</td>\n",
       "      <td>Topic: Should students be taught to compete or...</td>\n",
       "      <td>Part Of Speech tags: PRON, VERB, VERB, ADJ, NO...</td>\n",
       "      <td>Topic: Should students be taught to compete or...</td>\n",
       "    </tr>\n",
       "    <tr>\n",
       "      <th>1</th>\n",
       "      <td>essay001</td>\n",
       "      <td>T2</td>\n",
       "      <td>MajorClaim 2154 2231</td>\n",
       "      <td>a more cooperative attitudes towards life is m...</td>\n",
       "      <td>MajorClaim</td>\n",
       "      <td>MajorClaim</td>\n",
       "      <td>[]</td>\n",
       "      <td></td>\n",
       "      <td>Linked</td>\n",
       "      <td>TRAIN</td>\n",
       "      <td>...</td>\n",
       "      <td>1</td>\n",
       "      <td>0</td>\n",
       "      <td>0</td>\n",
       "      <td>Topic: Should students be taught to compete or...</td>\n",
       "      <td>Topic: Should students be taught to compete or...</td>\n",
       "      <td>1.00</td>\n",
       "      <td>1</td>\n",
       "      <td>Topic: Should students be taught to compete or...</td>\n",
       "      <td>Part Of Speech tags: DET, ADV, ADJ, NOUN, ADP,...</td>\n",
       "      <td>Topic: Should students be taught to compete or...</td>\n",
       "    </tr>\n",
       "    <tr>\n",
       "      <th>2</th>\n",
       "      <td>essay001</td>\n",
       "      <td>T3</td>\n",
       "      <td>Claim 591 714</td>\n",
       "      <td>through cooperation, children can learn about ...</td>\n",
       "      <td>Claim</td>\n",
       "      <td>Claim</td>\n",
       "      <td>[]</td>\n",
       "      <td>Support</td>\n",
       "      <td>Linked</td>\n",
       "      <td>TRAIN</td>\n",
       "      <td>...</td>\n",
       "      <td>0</td>\n",
       "      <td>0</td>\n",
       "      <td>3</td>\n",
       "      <td>Topic: Should students be taught to compete or...</td>\n",
       "      <td>Topic: Should students be taught to compete or...</td>\n",
       "      <td>0.50</td>\n",
       "      <td>0</td>\n",
       "      <td>Topic: Should students be taught to compete or...</td>\n",
       "      <td>Part Of Speech tags: ADP, NOUN, PUNCT, NOUN, V...</td>\n",
       "      <td>Topic: Should students be taught to compete or...</td>\n",
       "    </tr>\n",
       "    <tr>\n",
       "      <th>3</th>\n",
       "      <td>essay001</td>\n",
       "      <td>T4</td>\n",
       "      <td>Premise 716 851</td>\n",
       "      <td>What we acquired from team work is not only ho...</td>\n",
       "      <td>Premise</td>\n",
       "      <td>Premise</td>\n",
       "      <td>[]</td>\n",
       "      <td>Support</td>\n",
       "      <td>NotLinked</td>\n",
       "      <td>TRAIN</td>\n",
       "      <td>...</td>\n",
       "      <td>0</td>\n",
       "      <td>1</td>\n",
       "      <td>2</td>\n",
       "      <td>Topic: Should students be taught to compete or...</td>\n",
       "      <td>Topic: Should students be taught to compete or...</td>\n",
       "      <td>0.50</td>\n",
       "      <td>0</td>\n",
       "      <td>Topic: Should students be taught to compete or...</td>\n",
       "      <td>Part Of Speech tags: PRON, PRON, VERB, ADP, NO...</td>\n",
       "      <td>Topic: Should students be taught to compete or...</td>\n",
       "    </tr>\n",
       "    <tr>\n",
       "      <th>4</th>\n",
       "      <td>essay001</td>\n",
       "      <td>T5</td>\n",
       "      <td>Premise 853 1086</td>\n",
       "      <td>During the process of cooperation, children ca...</td>\n",
       "      <td>Premise</td>\n",
       "      <td>Premise</td>\n",
       "      <td>[]</td>\n",
       "      <td>Support</td>\n",
       "      <td>NotLinked</td>\n",
       "      <td>TRAIN</td>\n",
       "      <td>...</td>\n",
       "      <td>0</td>\n",
       "      <td>2</td>\n",
       "      <td>1</td>\n",
       "      <td>Topic: Should students be taught to compete or...</td>\n",
       "      <td>Topic: Should students be taught to compete or...</td>\n",
       "      <td>0.50</td>\n",
       "      <td>0</td>\n",
       "      <td>Topic: Should students be taught to compete or...</td>\n",
       "      <td>Part Of Speech tags: ADP, DET, NOUN, ADP, NOUN...</td>\n",
       "      <td>Topic: Should students be taught to compete or...</td>\n",
       "    </tr>\n",
       "    <tr>\n",
       "      <th>...</th>\n",
       "      <td>...</td>\n",
       "      <td>...</td>\n",
       "      <td>...</td>\n",
       "      <td>...</td>\n",
       "      <td>...</td>\n",
       "      <td>...</td>\n",
       "      <td>...</td>\n",
       "      <td>...</td>\n",
       "      <td>...</td>\n",
       "      <td>...</td>\n",
       "      <td>...</td>\n",
       "      <td>...</td>\n",
       "      <td>...</td>\n",
       "      <td>...</td>\n",
       "      <td>...</td>\n",
       "      <td>...</td>\n",
       "      <td>...</td>\n",
       "      <td>...</td>\n",
       "      <td>...</td>\n",
       "      <td>...</td>\n",
       "      <td>...</td>\n",
       "    </tr>\n",
       "    <tr>\n",
       "      <th>5968</th>\n",
       "      <td>essay402</td>\n",
       "      <td>T11</td>\n",
       "      <td>Premise 1275 1339</td>\n",
       "      <td>indirectly they will learn how to socialize ea...</td>\n",
       "      <td>Premise</td>\n",
       "      <td>Premise</td>\n",
       "      <td>[]</td>\n",
       "      <td>Support</td>\n",
       "      <td>NotLinked</td>\n",
       "      <td>TRAIN</td>\n",
       "      <td>...</td>\n",
       "      <td>0</td>\n",
       "      <td>4</td>\n",
       "      <td>3</td>\n",
       "      <td>Topic: Children should studying hard or playin...</td>\n",
       "      <td>Topic: Children should studying hard or playin...</td>\n",
       "      <td>0.75</td>\n",
       "      <td>0</td>\n",
       "      <td>Topic: Children should studying hard or playin...</td>\n",
       "      <td>Part Of Speech tags: ADV, PRON, VERB, VERB, AD...</td>\n",
       "      <td>Topic: Children should studying hard or playin...</td>\n",
       "    </tr>\n",
       "    <tr>\n",
       "      <th>5969</th>\n",
       "      <td>essay402</td>\n",
       "      <td>T12</td>\n",
       "      <td>Premise 1341 1388</td>\n",
       "      <td>That will make children getting lots of friends</td>\n",
       "      <td>Premise</td>\n",
       "      <td>Premise</td>\n",
       "      <td>[]</td>\n",
       "      <td>Support</td>\n",
       "      <td>NotLinked</td>\n",
       "      <td>TRAIN</td>\n",
       "      <td>...</td>\n",
       "      <td>0</td>\n",
       "      <td>5</td>\n",
       "      <td>2</td>\n",
       "      <td>Topic: Children should studying hard or playin...</td>\n",
       "      <td>Topic: Children should studying hard or playin...</td>\n",
       "      <td>0.75</td>\n",
       "      <td>0</td>\n",
       "      <td>Topic: Children should studying hard or playin...</td>\n",
       "      <td>Part Of Speech tags: DET, VERB, VERB, NOUN, VE...</td>\n",
       "      <td>Topic: Children should studying hard or playin...</td>\n",
       "    </tr>\n",
       "    <tr>\n",
       "      <th>5970</th>\n",
       "      <td>essay402</td>\n",
       "      <td>T13</td>\n",
       "      <td>Premise 1393 1436</td>\n",
       "      <td>they can contribute positively to community</td>\n",
       "      <td>Premise</td>\n",
       "      <td>Premise</td>\n",
       "      <td>[]</td>\n",
       "      <td>Support</td>\n",
       "      <td>Linked</td>\n",
       "      <td>TRAIN</td>\n",
       "      <td>...</td>\n",
       "      <td>0</td>\n",
       "      <td>6</td>\n",
       "      <td>1</td>\n",
       "      <td>Topic: Children should studying hard or playin...</td>\n",
       "      <td>Topic: Children should studying hard or playin...</td>\n",
       "      <td>0.75</td>\n",
       "      <td>0</td>\n",
       "      <td>Topic: Children should studying hard or playin...</td>\n",
       "      <td>Part Of Speech tags: PRON, VERB, VERB, ADV, AD...</td>\n",
       "      <td>Topic: Children should studying hard or playin...</td>\n",
       "    </tr>\n",
       "    <tr>\n",
       "      <th>5971</th>\n",
       "      <td>essay402</td>\n",
       "      <td>T14</td>\n",
       "      <td>Premise 1448 1525</td>\n",
       "      <td>playing sport makes children getting healthy a...</td>\n",
       "      <td>Premise</td>\n",
       "      <td>Premise</td>\n",
       "      <td>[]</td>\n",
       "      <td>Support</td>\n",
       "      <td>NotLinked</td>\n",
       "      <td>TRAIN</td>\n",
       "      <td>...</td>\n",
       "      <td>1</td>\n",
       "      <td>7</td>\n",
       "      <td>0</td>\n",
       "      <td>Topic: Children should studying hard or playin...</td>\n",
       "      <td>Topic: Children should studying hard or playin...</td>\n",
       "      <td>0.75</td>\n",
       "      <td>0</td>\n",
       "      <td>Topic: Children should studying hard or playin...</td>\n",
       "      <td>Part Of Speech tags: VERB, NOUN, VERB, NOUN, V...</td>\n",
       "      <td>Topic: Children should studying hard or playin...</td>\n",
       "    </tr>\n",
       "    <tr>\n",
       "      <th>5972</th>\n",
       "      <td>essay402</td>\n",
       "      <td>T15</td>\n",
       "      <td>Claim 916 965</td>\n",
       "      <td>playing sports will give good effects on children</td>\n",
       "      <td>Claim</td>\n",
       "      <td>Claim</td>\n",
       "      <td>[]</td>\n",
       "      <td>Support</td>\n",
       "      <td>Linked</td>\n",
       "      <td>TRAIN</td>\n",
       "      <td>...</td>\n",
       "      <td>0</td>\n",
       "      <td>0</td>\n",
       "      <td>7</td>\n",
       "      <td>Topic: Children should studying hard or playin...</td>\n",
       "      <td>Topic: Children should studying hard or playin...</td>\n",
       "      <td>0.75</td>\n",
       "      <td>0</td>\n",
       "      <td>Topic: Children should studying hard or playin...</td>\n",
       "      <td>Part Of Speech tags: VERB, NOUN, VERB, VERB, A...</td>\n",
       "      <td>Topic: Children should studying hard or playin...</td>\n",
       "    </tr>\n",
       "  </tbody>\n",
       "</table>\n",
       "<p>5973 rows × 39 columns</p>\n",
       "</div>"
      ],
      "text/plain": [
       "      essay_nr component_id   label_and_comp_idxs  \\\n",
       "0     essay001           T1    MajorClaim 503 575   \n",
       "1     essay001           T2  MajorClaim 2154 2231   \n",
       "2     essay001           T3         Claim 591 714   \n",
       "3     essay001           T4       Premise 716 851   \n",
       "4     essay001           T5      Premise 853 1086   \n",
       "...        ...          ...                   ...   \n",
       "5968  essay402          T11     Premise 1275 1339   \n",
       "5969  essay402          T12     Premise 1341 1388   \n",
       "5970  essay402          T13     Premise 1393 1436   \n",
       "5971  essay402          T14     Premise 1448 1525   \n",
       "5972  essay402          T15         Claim 916 965   \n",
       "\n",
       "                                                   text     label_x  \\\n",
       "0     we should attach more importance to cooperatio...  MajorClaim   \n",
       "1     a more cooperative attitudes towards life is m...  MajorClaim   \n",
       "2     through cooperation, children can learn about ...       Claim   \n",
       "3     What we acquired from team work is not only ho...     Premise   \n",
       "4     During the process of cooperation, children ca...     Premise   \n",
       "...                                                 ...         ...   \n",
       "5968  indirectly they will learn how to socialize ea...     Premise   \n",
       "5969    That will make children getting lots of friends     Premise   \n",
       "5970        they can contribute positively to community     Premise   \n",
       "5971  playing sport makes children getting healthy a...     Premise   \n",
       "5972  playing sports will give good effects on children       Claim   \n",
       "\n",
       "     label_ComponentType relation_SupportAttack label_RelationType  \\\n",
       "0             MajorClaim                     []                      \n",
       "1             MajorClaim                     []                      \n",
       "2                  Claim                     []            Support   \n",
       "3                Premise                     []            Support   \n",
       "4                Premise                     []            Support   \n",
       "...                  ...                    ...                ...   \n",
       "5968             Premise                     []            Support   \n",
       "5969             Premise                     []            Support   \n",
       "5970             Premise                     []            Support   \n",
       "5971             Premise                     []            Support   \n",
       "5972               Claim                     []            Support   \n",
       "\n",
       "     label_LinkedNotLinked split_y  ... is_last_in_para  \\\n",
       "0                   Linked   TRAIN  ...               1   \n",
       "1                   Linked   TRAIN  ...               1   \n",
       "2                   Linked   TRAIN  ...               0   \n",
       "3                NotLinked   TRAIN  ...               0   \n",
       "4                NotLinked   TRAIN  ...               0   \n",
       "...                    ...     ...  ...             ...   \n",
       "5968             NotLinked   TRAIN  ...               0   \n",
       "5969             NotLinked   TRAIN  ...               0   \n",
       "5970                Linked   TRAIN  ...               0   \n",
       "5971             NotLinked   TRAIN  ...               1   \n",
       "5972                Linked   TRAIN  ...               0   \n",
       "\n",
       "      nr_preceeding_comps_in_para  nr_following_comps_in_para  \\\n",
       "0                               0                           0   \n",
       "1                               0                           0   \n",
       "2                               0                           3   \n",
       "3                               1                           2   \n",
       "4                               2                           1   \n",
       "...                           ...                         ...   \n",
       "5968                            4                           3   \n",
       "5969                            5                           2   \n",
       "5970                            6                           1   \n",
       "5971                            7                           0   \n",
       "5972                            0                           7   \n",
       "\n",
       "                                 structural_fts_as_text  \\\n",
       "0     Topic: Should students be taught to compete or...   \n",
       "1     Topic: Should students be taught to compete or...   \n",
       "2     Topic: Should students be taught to compete or...   \n",
       "3     Topic: Should students be taught to compete or...   \n",
       "4     Topic: Should students be taught to compete or...   \n",
       "...                                                 ...   \n",
       "5968  Topic: Children should studying hard or playin...   \n",
       "5969  Topic: Children should studying hard or playin...   \n",
       "5970  Topic: Children should studying hard or playin...   \n",
       "5971  Topic: Children should studying hard or playin...   \n",
       "5972  Topic: Children should studying hard or playin...   \n",
       "\n",
       "                        structural_fts_as_text_combined para_ratio  \\\n",
       "0     Topic: Should students be taught to compete or...       0.25   \n",
       "1     Topic: Should students be taught to compete or...       1.00   \n",
       "2     Topic: Should students be taught to compete or...       0.50   \n",
       "3     Topic: Should students be taught to compete or...       0.50   \n",
       "4     Topic: Should students be taught to compete or...       0.50   \n",
       "...                                                 ...        ...   \n",
       "5968  Topic: Children should studying hard or playin...       0.75   \n",
       "5969  Topic: Children should studying hard or playin...       0.75   \n",
       "5970  Topic: Children should studying hard or playin...       0.75   \n",
       "5971  Topic: Children should studying hard or playin...       0.75   \n",
       "5972  Topic: Children should studying hard or playin...       0.75   \n",
       "\n",
       "      first_or_last                      strct_fts_w_position_in_essay  \\\n",
       "0                 1  Topic: Should students be taught to compete or...   \n",
       "1                 1  Topic: Should students be taught to compete or...   \n",
       "2                 0  Topic: Should students be taught to compete or...   \n",
       "3                 0  Topic: Should students be taught to compete or...   \n",
       "4                 0  Topic: Should students be taught to compete or...   \n",
       "...             ...                                                ...   \n",
       "5968              0  Topic: Children should studying hard or playin...   \n",
       "5969              0  Topic: Children should studying hard or playin...   \n",
       "5970              0  Topic: Children should studying hard or playin...   \n",
       "5971              0  Topic: Children should studying hard or playin...   \n",
       "5972              0  Topic: Children should studying hard or playin...   \n",
       "\n",
       "                                     component_pos_tags  \\\n",
       "0     Part Of Speech tags: PRON, VERB, VERB, ADJ, NO...   \n",
       "1     Part Of Speech tags: DET, ADV, ADJ, NOUN, ADP,...   \n",
       "2     Part Of Speech tags: ADP, NOUN, PUNCT, NOUN, V...   \n",
       "3     Part Of Speech tags: PRON, PRON, VERB, ADP, NO...   \n",
       "4     Part Of Speech tags: ADP, DET, NOUN, ADP, NOUN...   \n",
       "...                                                 ...   \n",
       "5968  Part Of Speech tags: ADV, PRON, VERB, VERB, AD...   \n",
       "5969  Part Of Speech tags: DET, VERB, VERB, NOUN, VE...   \n",
       "5970  Part Of Speech tags: PRON, VERB, VERB, ADV, AD...   \n",
       "5971  Part Of Speech tags: VERB, NOUN, VERB, NOUN, V...   \n",
       "5972  Part Of Speech tags: VERB, NOUN, VERB, VERB, A...   \n",
       "\n",
       "                      strct_fts_essay_position_pos_tags  \n",
       "0     Topic: Should students be taught to compete or...  \n",
       "1     Topic: Should students be taught to compete or...  \n",
       "2     Topic: Should students be taught to compete or...  \n",
       "3     Topic: Should students be taught to compete or...  \n",
       "4     Topic: Should students be taught to compete or...  \n",
       "...                                                 ...  \n",
       "5968  Topic: Children should studying hard or playin...  \n",
       "5969  Topic: Children should studying hard or playin...  \n",
       "5970  Topic: Children should studying hard or playin...  \n",
       "5971  Topic: Children should studying hard or playin...  \n",
       "5972  Topic: Children should studying hard or playin...  \n",
       "\n",
       "[5973 rows x 39 columns]"
      ]
     },
     "execution_count": 9,
     "metadata": {},
     "output_type": "execute_result"
    }
   ],
   "source": [
    "dataset_df"
   ]
  },
  {
   "cell_type": "code",
   "execution_count": 10,
   "metadata": {},
   "outputs": [],
   "source": [
    "dataset_df = dataset_df.rename(columns={\"split_y\": \"split\"})"
   ]
  },
  {
   "cell_type": "code",
   "execution_count": 11,
   "metadata": {},
   "outputs": [
    {
     "data": {
      "text/plain": [
       "Index(['essay_nr', 'component_id', 'label_and_comp_idxs', 'text', 'label_x',\n",
       "       'label_ComponentType', 'relation_SupportAttack', 'label_RelationType',\n",
       "       'label_LinkedNotLinked', 'split', 'essay', 'argument_bound_1',\n",
       "       'argument_bound_2', 'argument_id', 'sentence', 'paragraph', 'para_nr',\n",
       "       'total_paras', 'token_count', 'token_count_covering_para',\n",
       "       'tokens_count_covering_sentence', 'preceeding_tokens_in_sentence_count',\n",
       "       'succeeding_tokens_in_sentence_count', 'token_ratio',\n",
       "       'relative_position_in_para_char', 'is_in_intro',\n",
       "       'relative_position_in_para_token', 'is_in_conclusion',\n",
       "       'is_first_in_para', 'is_last_in_para', 'nr_preceeding_comps_in_para',\n",
       "       'nr_following_comps_in_para', 'structural_fts_as_text',\n",
       "       'structural_fts_as_text_combined', 'para_ratio', 'first_or_last',\n",
       "       'strct_fts_w_position_in_essay', 'component_pos_tags',\n",
       "       'strct_fts_essay_position_pos_tags'],\n",
       "      dtype='object')"
      ]
     },
     "execution_count": 11,
     "metadata": {},
     "output_type": "execute_result"
    }
   ],
   "source": [
    "dataset_df.columns"
   ]
  },
  {
   "cell_type": "code",
   "execution_count": 14,
   "metadata": {},
   "outputs": [
    {
     "data": {
      "text/plain": [
       "\"It is always said that competition can effectively promote the development of economy. In order to survive in the competition, companies continue to improve their products and service, and as a result, the whole society prospers. However, when we discuss the issue of competition or cooperation, what we are concerned about is not the whole society, but the development of an individual's whole life. From this point of view, I firmly believe that we should attach more importance to cooperation during primary education.\""
      ]
     },
     "execution_count": 14,
     "metadata": {},
     "output_type": "execute_result"
    }
   ],
   "source": [
    "dataset_df['paragraph'][0]"
   ]
  },
  {
   "cell_type": "code",
   "execution_count": 16,
   "metadata": {},
   "outputs": [
    {
     "data": {
      "text/plain": [
       "\"Consequently, no matter from the view of individual development or the relationship between competition and cooperation we can receive the same conclusion that a more cooperative attitudes towards life is more profitable in one's success.\""
      ]
     },
     "execution_count": 16,
     "metadata": {},
     "output_type": "execute_result"
    }
   ],
   "source": [
    "dataset_df['paragraph'][1]"
   ]
  },
  {
   "cell_type": "code",
   "execution_count": 23,
   "metadata": {},
   "outputs": [
    {
     "data": {
      "text/plain": [
       "'From this point of view, I firmly believe that we should attach more importance to cooperation during primary education.'"
      ]
     },
     "execution_count": 23,
     "metadata": {},
     "output_type": "execute_result"
    }
   ],
   "source": [
    "dataset_df['sentence'][0]"
   ]
  },
  {
   "cell_type": "code",
   "execution_count": 24,
   "metadata": {},
   "outputs": [
    {
     "data": {
      "text/plain": [
       "\"Consequently, no matter from the view of individual development or the relationship between competition and cooperation we can receive the same conclusion that a more cooperative attitudes towards life is more profitable in one's success.\""
      ]
     },
     "execution_count": 24,
     "metadata": {},
     "output_type": "execute_result"
    }
   ],
   "source": [
    "dataset_df['sentence'][1]"
   ]
  },
  {
   "cell_type": "code",
   "execution_count": 26,
   "metadata": {},
   "outputs": [
    {
     "data": {
      "text/plain": [
       "'we should attach more importance to cooperation during primary education'"
      ]
     },
     "execution_count": 26,
     "metadata": {},
     "output_type": "execute_result"
    }
   ],
   "source": [
    "dataset_df['text'][0]"
   ]
  },
  {
   "cell_type": "code",
   "execution_count": 27,
   "metadata": {},
   "outputs": [
    {
     "data": {
      "text/plain": [
       "\"a more cooperative attitudes towards life is more profitable in one's success\""
      ]
     },
     "execution_count": 27,
     "metadata": {},
     "output_type": "execute_result"
    }
   ],
   "source": [
    "dataset_df['text'][1]"
   ]
  },
  {
   "cell_type": "code",
   "execution_count": 28,
   "metadata": {},
   "outputs": [
    {
     "data": {
      "text/plain": [
       "'First of all, through cooperation, children can learn about interpersonal skills which are significant in the future life of all students. What we acquired from team work is not only how to achieve the same goal with others but more importantly, how to get along with others. During the process of cooperation, children can learn about how to listen to opinions of others, how to communicate with others, how to think comprehensively, and even how to compromise with other team members when conflicts occurred. All of these skills help them to get on well with other people and will benefit them for the whole life.'"
      ]
     },
     "execution_count": 28,
     "metadata": {},
     "output_type": "execute_result"
    }
   ],
   "source": [
    "dataset_df['paragraph'][2]"
   ]
  },
  {
   "cell_type": "code",
   "execution_count": 29,
   "metadata": {},
   "outputs": [
    {
     "data": {
      "text/plain": [
       "'First of all, through cooperation, children can learn about interpersonal skills which are significant in the future life of all students'"
      ]
     },
     "execution_count": 29,
     "metadata": {},
     "output_type": "execute_result"
    }
   ],
   "source": [
    "dataset_df['sentence'][2]"
   ]
  },
  {
   "cell_type": "code",
   "execution_count": 30,
   "metadata": {},
   "outputs": [
    {
     "data": {
      "text/plain": [
       "'through cooperation, children can learn about interpersonal skills which are significant in the future life of all students'"
      ]
     },
     "execution_count": 30,
     "metadata": {},
     "output_type": "execute_result"
    }
   ],
   "source": [
    "dataset_df['text'][2]"
   ]
  },
  {
   "cell_type": "code",
   "execution_count": 31,
   "metadata": {},
   "outputs": [
    {
     "data": {
      "text/plain": [
       "'What we acquired from team work is not only how to achieve the same goal with others but more importantly, how to get along with others'"
      ]
     },
     "execution_count": 31,
     "metadata": {},
     "output_type": "execute_result"
    }
   ],
   "source": [
    "dataset_df['text'][3]"
   ]
  },
  {
   "cell_type": "code",
   "execution_count": 32,
   "metadata": {},
   "outputs": [
    {
     "data": {
      "text/plain": [
       "'During the process of cooperation, children can learn about how to listen to opinions of others, how to communicate with others, how to think comprehensively, and even how to compromise with other team members when conflicts occurred'"
      ]
     },
     "execution_count": 32,
     "metadata": {},
     "output_type": "execute_result"
    }
   ],
   "source": [
    "dataset_df['text'][4]"
   ]
  },
  {
   "cell_type": "code",
   "execution_count": 33,
   "metadata": {},
   "outputs": [
    {
     "data": {
      "text/plain": [
       "'All of these skills help them to get on well with other people and will benefit them for the whole life'"
      ]
     },
     "execution_count": 33,
     "metadata": {},
     "output_type": "execute_result"
    }
   ],
   "source": [
    "dataset_df['text'][5]"
   ]
  },
  {
   "cell_type": "markdown",
   "metadata": {},
   "source": [
    "## train_test_split"
   ]
  },
  {
   "cell_type": "code",
   "execution_count": 32,
   "metadata": {},
   "outputs": [],
   "source": [
    "train_df = dataset_df[dataset_df.split=='TRAIN'].reset_index(drop=True)\n",
    "test_df = dataset_df[dataset_df.split=='TEST'].reset_index(drop=True)\n",
    "\n",
    "\n",
    "\n",
    "# for example\n",
    "\n",
    "# val_df = dataset_df[dataset_df.split=='VALIDATION'].reset_index(drop=True)"
   ]
  },
  {
   "cell_type": "markdown",
   "metadata": {
    "gradient": {
     "editing": false,
     "id": "41d56883-23e9-4722-9298-bc70f438ed0d",
     "kernelId": ""
    }
   },
   "source": [
    "## Prepare Dataset object"
   ]
  },
  {
   "cell_type": "code",
   "execution_count": 33,
   "metadata": {},
   "outputs": [],
   "source": [
    "dataset_train = Dataset.from_pandas(train_df)\n",
    "dataset_test = Dataset.from_pandas(test_df)"
   ]
  },
  {
   "cell_type": "code",
   "execution_count": 34,
   "metadata": {},
   "outputs": [],
   "source": [
    "train_val_datasets = dataset_train.train_test_split(train_size=0.8)\n",
    "dataset_train = train_val_datasets['train']\n",
    "dataset_val = train_val_datasets['test']"
   ]
  },
  {
   "cell_type": "code",
   "execution_count": null,
   "metadata": {},
   "outputs": [],
   "source": []
  },
  {
   "cell_type": "code",
   "execution_count": 35,
   "metadata": {
    "gradient": {
     "editing": false,
     "id": "e260bb57-be23-441a-a38f-f0598f773f9c",
     "kernelId": ""
    }
   },
   "outputs": [],
   "source": [
    "dataset = DatasetDict({\"train\": dataset_train, \"test\": dataset_test, \"validation\": dataset_val})"
   ]
  },
  {
   "cell_type": "code",
   "execution_count": 36,
   "metadata": {
    "gradient": {
     "editing": false,
     "id": "b8ec2355-2e51-4cf6-ad2b-0ae3e6e52419",
     "kernelId": ""
    }
   },
   "outputs": [
    {
     "data": {
      "text/plain": [
       "DatasetDict({\n",
       "    train: Dataset({\n",
       "        features: ['essay_nr', 'component_id', 'label_and_comp_idxs', 'text', 'label_x', 'label_ComponentType', 'relation_SupportAttack', 'label_RelationType', 'label_LinkedNotLinked', 'split', 'essay', 'argument_bound_1', 'argument_bound_2', 'argument_id', 'sentence', 'paragraph', 'para_nr', 'total_paras', 'token_count', 'token_count_covering_para', 'tokens_count_covering_sentence', 'preceeding_tokens_in_sentence_count', 'succeeding_tokens_in_sentence_count', 'token_ratio', 'relative_position_in_para_char', 'is_in_intro', 'relative_position_in_para_token', 'is_in_conclusion', 'is_first_in_para', 'is_last_in_para', 'nr_preceeding_comps_in_para', 'nr_following_comps_in_para', 'structural_fts_as_text', 'structural_fts_as_text_combined', 'para_ratio', 'first_or_last', 'strct_fts_w_position_in_essay', 'component_pos_tags', 'strct_fts_essay_position_pos_tags', 'strct_fts_essay_position_combined', 'strct_fts_essay_position_pos_tagscombined', 'ner_list', 'fts_essayposition_ostags_nerstatus', 'fts_essaypos_postags_nerentities'],\n",
       "        num_rows: 3770\n",
       "    })\n",
       "    test: Dataset({\n",
       "        features: ['essay_nr', 'component_id', 'label_and_comp_idxs', 'text', 'label_x', 'label_ComponentType', 'relation_SupportAttack', 'label_RelationType', 'label_LinkedNotLinked', 'split', 'essay', 'argument_bound_1', 'argument_bound_2', 'argument_id', 'sentence', 'paragraph', 'para_nr', 'total_paras', 'token_count', 'token_count_covering_para', 'tokens_count_covering_sentence', 'preceeding_tokens_in_sentence_count', 'succeeding_tokens_in_sentence_count', 'token_ratio', 'relative_position_in_para_char', 'is_in_intro', 'relative_position_in_para_token', 'is_in_conclusion', 'is_first_in_para', 'is_last_in_para', 'nr_preceeding_comps_in_para', 'nr_following_comps_in_para', 'structural_fts_as_text', 'structural_fts_as_text_combined', 'para_ratio', 'first_or_last', 'strct_fts_w_position_in_essay', 'component_pos_tags', 'strct_fts_essay_position_pos_tags', 'strct_fts_essay_position_combined', 'strct_fts_essay_position_pos_tagscombined', 'ner_list', 'fts_essayposition_ostags_nerstatus', 'fts_essaypos_postags_nerentities'],\n",
       "        num_rows: 1260\n",
       "    })\n",
       "    validation: Dataset({\n",
       "        features: ['essay_nr', 'component_id', 'label_and_comp_idxs', 'text', 'label_x', 'label_ComponentType', 'relation_SupportAttack', 'label_RelationType', 'label_LinkedNotLinked', 'split', 'essay', 'argument_bound_1', 'argument_bound_2', 'argument_id', 'sentence', 'paragraph', 'para_nr', 'total_paras', 'token_count', 'token_count_covering_para', 'tokens_count_covering_sentence', 'preceeding_tokens_in_sentence_count', 'succeeding_tokens_in_sentence_count', 'token_ratio', 'relative_position_in_para_char', 'is_in_intro', 'relative_position_in_para_token', 'is_in_conclusion', 'is_first_in_para', 'is_last_in_para', 'nr_preceeding_comps_in_para', 'nr_following_comps_in_para', 'structural_fts_as_text', 'structural_fts_as_text_combined', 'para_ratio', 'first_or_last', 'strct_fts_w_position_in_essay', 'component_pos_tags', 'strct_fts_essay_position_pos_tags', 'strct_fts_essay_position_combined', 'strct_fts_essay_position_pos_tagscombined', 'ner_list', 'fts_essayposition_ostags_nerstatus', 'fts_essaypos_postags_nerentities'],\n",
       "        num_rows: 943\n",
       "    })\n",
       "})"
      ]
     },
     "execution_count": 36,
     "metadata": {},
     "output_type": "execute_result"
    }
   ],
   "source": [
    "dataset"
   ]
  },
  {
   "cell_type": "code",
   "execution_count": 37,
   "metadata": {
    "gradient": {
     "editing": false,
     "id": "b7e61d38-7343-4e99-830c-54f683dde1a2",
     "kernelId": ""
    }
   },
   "outputs": [
    {
     "data": {
      "text/plain": [
       "({'TRAIN'}, {'TEST'}, {'TRAIN'})"
      ]
     },
     "execution_count": 37,
     "metadata": {},
     "output_type": "execute_result"
    }
   ],
   "source": [
    "# sanity check\n",
    "set(dataset['train']['split']), set(dataset['test']['split']), set(dataset['validation']['split'])"
   ]
  },
  {
   "cell_type": "markdown",
   "metadata": {
    "gradient": {
     "editing": false,
     "id": "8ab4f270-c88d-4519-bc7b-83705dd28808",
     "kernelId": ""
    }
   },
   "source": [
    "## Save dataset"
   ]
  },
  {
   "cell_type": "code",
   "execution_count": 38,
   "metadata": {
    "gradient": {
     "editing": false,
     "id": "6dadff8a-16ab-4dbc-bd1a-36e1d65db632",
     "kernelId": ""
    }
   },
   "outputs": [],
   "source": [
    "torch.save(dataset, os.path.join(\"/notebooks/linguistic_features/data/hf_datasets\", 'pe_dataset_w_ner_entities.pt'))"
   ]
  },
  {
   "cell_type": "code",
   "execution_count": null,
   "metadata": {
    "gradient": {
     "editing": false,
     "id": "114ceb65-ef65-4431-ae93-4755977cf350",
     "kernelId": ""
    }
   },
   "outputs": [],
   "source": []
  },
  {
   "cell_type": "code",
   "execution_count": null,
   "metadata": {
    "gradient": {
     "editing": false,
     "id": "9ac6231d-871f-411c-8e9b-51dd7fa2e32e",
     "kernelId": ""
    }
   },
   "outputs": [],
   "source": []
  }
 ],
 "metadata": {
  "kernelspec": {
   "display_name": "Python 3 (ipykernel)",
   "language": "python",
   "name": "python3"
  },
  "language_info": {
   "codemirror_mode": {
    "name": "ipython",
    "version": 3
   },
   "file_extension": ".py",
   "mimetype": "text/x-python",
   "name": "python",
   "nbconvert_exporter": "python",
   "pygments_lexer": "ipython3",
   "version": "3.8.12"
  }
 },
 "nbformat": 4,
 "nbformat_minor": 4
}
