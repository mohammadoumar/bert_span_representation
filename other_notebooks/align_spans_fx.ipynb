{
 "cells": [
  {
   "cell_type": "code",
   "execution_count": 28,
   "id": "25fbf1aa",
   "metadata": {
    "scrolled": true
   },
   "outputs": [
    {
     "name": "stdout",
     "output_type": "stream",
     "text": [
      "Looking in indexes: https://pypi.org/simple, https://pypi.ngc.nvidia.com\n",
      "Requirement already satisfied: transformers in /opt/conda/lib/python3.8/site-packages (4.12.5)\n",
      "Requirement already satisfied: tokenizers<0.11,>=0.10.1 in /opt/conda/lib/python3.8/site-packages (from transformers) (0.10.3)\n",
      "Requirement already satisfied: sacremoses in /opt/conda/lib/python3.8/site-packages (from transformers) (0.0.46)\n",
      "Requirement already satisfied: filelock in /opt/conda/lib/python3.8/site-packages (from transformers) (3.3.0)\n",
      "Requirement already satisfied: huggingface-hub<1.0,>=0.1.0 in /opt/conda/lib/python3.8/site-packages (from transformers) (0.10.0)\n",
      "Requirement already satisfied: packaging>=20.0 in /opt/conda/lib/python3.8/site-packages (from transformers) (21.0)\n",
      "Requirement already satisfied: pyyaml>=5.1 in /opt/conda/lib/python3.8/site-packages (from transformers) (5.4.1)\n",
      "Requirement already satisfied: numpy>=1.17 in /opt/conda/lib/python3.8/site-packages (from transformers) (1.21.2)\n",
      "Requirement already satisfied: regex!=2019.12.17 in /opt/conda/lib/python3.8/site-packages (from transformers) (2021.10.8)\n",
      "Requirement already satisfied: requests in /opt/conda/lib/python3.8/site-packages (from transformers) (2.26.0)\n",
      "Requirement already satisfied: tqdm>=4.27 in /opt/conda/lib/python3.8/site-packages (from transformers) (4.62.3)\n",
      "Requirement already satisfied: typing-extensions>=3.7.4.3 in /opt/conda/lib/python3.8/site-packages (from huggingface-hub<1.0,>=0.1.0->transformers) (3.10.0.2)\n",
      "Requirement already satisfied: pyparsing>=2.0.2 in /opt/conda/lib/python3.8/site-packages (from packaging>=20.0->transformers) (2.4.7)\n",
      "Requirement already satisfied: idna<4,>=2.5 in /opt/conda/lib/python3.8/site-packages (from requests->transformers) (3.1)\n",
      "Requirement already satisfied: certifi>=2017.4.17 in /opt/conda/lib/python3.8/site-packages (from requests->transformers) (2021.5.30)\n",
      "Requirement already satisfied: urllib3<1.27,>=1.21.1 in /opt/conda/lib/python3.8/site-packages (from requests->transformers) (1.26.7)\n",
      "Requirement already satisfied: charset-normalizer~=2.0.0 in /opt/conda/lib/python3.8/site-packages (from requests->transformers) (2.0.0)\n",
      "Requirement already satisfied: click in /opt/conda/lib/python3.8/site-packages (from sacremoses->transformers) (8.0.1)\n",
      "Requirement already satisfied: joblib in /opt/conda/lib/python3.8/site-packages (from sacremoses->transformers) (1.1.0)\n",
      "Requirement already satisfied: six in /opt/conda/lib/python3.8/site-packages (from sacremoses->transformers) (1.16.0)\n",
      "\u001b[33mWARNING: Running pip as the 'root' user can result in broken permissions and conflicting behaviour with the system package manager. It is recommended to use a virtual environment instead: https://pip.pypa.io/warnings/venv\u001b[0m\n",
      "Looking in indexes: https://pypi.org/simple, https://pypi.ngc.nvidia.com\n",
      "Requirement already satisfied: ipywidgets in /opt/conda/lib/python3.8/site-packages (8.0.2)\n",
      "Requirement already satisfied: ipython>=6.1.0 in /opt/conda/lib/python3.8/site-packages (from ipywidgets) (7.28.0)\n",
      "Requirement already satisfied: ipykernel>=4.5.1 in /opt/conda/lib/python3.8/site-packages (from ipywidgets) (6.4.1)\n",
      "Requirement already satisfied: widgetsnbextension~=4.0 in /opt/conda/lib/python3.8/site-packages (from ipywidgets) (4.0.3)\n",
      "Requirement already satisfied: traitlets>=4.3.1 in /opt/conda/lib/python3.8/site-packages (from ipywidgets) (5.1.0)\n",
      "Requirement already satisfied: jupyterlab-widgets~=3.0 in /opt/conda/lib/python3.8/site-packages (from ipywidgets) (3.0.3)\n",
      "Requirement already satisfied: tornado<7.0,>=4.2 in /opt/conda/lib/python3.8/site-packages (from ipykernel>=4.5.1->ipywidgets) (6.1)\n",
      "Requirement already satisfied: jupyter-client<8.0 in /opt/conda/lib/python3.8/site-packages (from ipykernel>=4.5.1->ipywidgets) (7.0.6)\n",
      "Requirement already satisfied: matplotlib-inline<0.2.0,>=0.1.0 in /opt/conda/lib/python3.8/site-packages (from ipykernel>=4.5.1->ipywidgets) (0.1.3)\n",
      "Requirement already satisfied: debugpy<2.0,>=1.0.0 in /opt/conda/lib/python3.8/site-packages (from ipykernel>=4.5.1->ipywidgets) (1.5.0)\n",
      "Requirement already satisfied: ipython-genutils in /opt/conda/lib/python3.8/site-packages (from ipykernel>=4.5.1->ipywidgets) (0.2.0)\n",
      "Requirement already satisfied: backcall in /opt/conda/lib/python3.8/site-packages (from ipython>=6.1.0->ipywidgets) (0.2.0)\n",
      "Requirement already satisfied: pickleshare in /opt/conda/lib/python3.8/site-packages (from ipython>=6.1.0->ipywidgets) (0.7.5)\n",
      "Requirement already satisfied: jedi>=0.16 in /opt/conda/lib/python3.8/site-packages (from ipython>=6.1.0->ipywidgets) (0.18.0)\n",
      "Requirement already satisfied: pexpect>4.3 in /opt/conda/lib/python3.8/site-packages (from ipython>=6.1.0->ipywidgets) (4.8.0)\n",
      "Requirement already satisfied: decorator in /opt/conda/lib/python3.8/site-packages (from ipython>=6.1.0->ipywidgets) (5.1.0)\n",
      "Requirement already satisfied: prompt-toolkit!=3.0.0,!=3.0.1,<3.1.0,>=2.0.0 in /opt/conda/lib/python3.8/site-packages (from ipython>=6.1.0->ipywidgets) (3.0.20)\n",
      "Requirement already satisfied: setuptools>=18.5 in /opt/conda/lib/python3.8/site-packages (from ipython>=6.1.0->ipywidgets) (58.2.0)\n",
      "Requirement already satisfied: pygments in /opt/conda/lib/python3.8/site-packages (from ipython>=6.1.0->ipywidgets) (2.10.0)\n",
      "Requirement already satisfied: parso<0.9.0,>=0.8.0 in /opt/conda/lib/python3.8/site-packages (from jedi>=0.16->ipython>=6.1.0->ipywidgets) (0.8.2)\n",
      "Requirement already satisfied: jupyter-core>=4.6.0 in /opt/conda/lib/python3.8/site-packages (from jupyter-client<8.0->ipykernel>=4.5.1->ipywidgets) (4.8.1)\n",
      "Requirement already satisfied: entrypoints in /opt/conda/lib/python3.8/site-packages (from jupyter-client<8.0->ipykernel>=4.5.1->ipywidgets) (0.3)\n",
      "Requirement already satisfied: python-dateutil>=2.1 in /opt/conda/lib/python3.8/site-packages (from jupyter-client<8.0->ipykernel>=4.5.1->ipywidgets) (2.8.2)\n",
      "Requirement already satisfied: pyzmq>=13 in /opt/conda/lib/python3.8/site-packages (from jupyter-client<8.0->ipykernel>=4.5.1->ipywidgets) (22.3.0)\n",
      "Requirement already satisfied: nest-asyncio>=1.5 in /opt/conda/lib/python3.8/site-packages (from jupyter-client<8.0->ipykernel>=4.5.1->ipywidgets) (1.5.1)\n",
      "Requirement already satisfied: ptyprocess>=0.5 in /opt/conda/lib/python3.8/site-packages (from pexpect>4.3->ipython>=6.1.0->ipywidgets) (0.7.0)\n",
      "Requirement already satisfied: wcwidth in /opt/conda/lib/python3.8/site-packages (from prompt-toolkit!=3.0.0,!=3.0.1,<3.1.0,>=2.0.0->ipython>=6.1.0->ipywidgets) (0.2.5)\n",
      "Requirement already satisfied: six>=1.5 in /opt/conda/lib/python3.8/site-packages (from python-dateutil>=2.1->jupyter-client<8.0->ipykernel>=4.5.1->ipywidgets) (1.16.0)\n",
      "\u001b[33mWARNING: Running pip as the 'root' user can result in broken permissions and conflicting behaviour with the system package manager. It is recommended to use a virtual environment instead: https://pip.pypa.io/warnings/venv\u001b[0m\n",
      "Looking in indexes: https://pypi.org/simple, https://pypi.ngc.nvidia.com\n",
      "Requirement already satisfied: IProgress in /opt/conda/lib/python3.8/site-packages (0.4)\n",
      "Requirement already satisfied: six in /opt/conda/lib/python3.8/site-packages (from IProgress) (1.16.0)\n",
      "\u001b[33mWARNING: Running pip as the 'root' user can result in broken permissions and conflicting behaviour with the system package manager. It is recommended to use a virtual environment instead: https://pip.pypa.io/warnings/venv\u001b[0m\n",
      "Looking in indexes: https://pypi.org/simple, https://pypi.ngc.nvidia.com\n",
      "Requirement already satisfied: datasets in /opt/conda/lib/python3.8/site-packages (1.15.1)\n",
      "Requirement already satisfied: xxhash in /opt/conda/lib/python3.8/site-packages (from datasets) (3.0.0)\n",
      "Requirement already satisfied: aiohttp in /opt/conda/lib/python3.8/site-packages (from datasets) (3.8.3)\n",
      "Requirement already satisfied: numpy>=1.17 in /opt/conda/lib/python3.8/site-packages (from datasets) (1.21.2)\n",
      "Requirement already satisfied: multiprocess in /opt/conda/lib/python3.8/site-packages (from datasets) (0.70.13)\n",
      "Requirement already satisfied: dill in /opt/conda/lib/python3.8/site-packages (from datasets) (0.3.5.1)\n",
      "Requirement already satisfied: pyarrow!=4.0.0,>=1.0.0 in /opt/conda/lib/python3.8/site-packages (from datasets) (9.0.0)\n",
      "Requirement already satisfied: pandas in /opt/conda/lib/python3.8/site-packages (from datasets) (1.3.4)\n",
      "Requirement already satisfied: packaging in /opt/conda/lib/python3.8/site-packages (from datasets) (21.0)\n",
      "Requirement already satisfied: tqdm>=4.62.1 in /opt/conda/lib/python3.8/site-packages (from datasets) (4.62.3)\n",
      "Requirement already satisfied: huggingface-hub<1.0.0,>=0.1.0 in /opt/conda/lib/python3.8/site-packages (from datasets) (0.10.0)\n",
      "Requirement already satisfied: requests>=2.19.0 in /opt/conda/lib/python3.8/site-packages (from datasets) (2.26.0)\n",
      "Requirement already satisfied: fsspec[http]>=2021.05.0 in /opt/conda/lib/python3.8/site-packages (from datasets) (2022.8.2)\n",
      "Requirement already satisfied: aiosignal>=1.1.2 in /opt/conda/lib/python3.8/site-packages (from aiohttp->datasets) (1.2.0)\n",
      "Requirement already satisfied: multidict<7.0,>=4.5 in /opt/conda/lib/python3.8/site-packages (from aiohttp->datasets) (6.0.2)\n",
      "Requirement already satisfied: attrs>=17.3.0 in /opt/conda/lib/python3.8/site-packages (from aiohttp->datasets) (21.2.0)\n",
      "Requirement already satisfied: async-timeout<5.0,>=4.0.0a3 in /opt/conda/lib/python3.8/site-packages (from aiohttp->datasets) (4.0.2)\n",
      "Requirement already satisfied: charset-normalizer<3.0,>=2.0 in /opt/conda/lib/python3.8/site-packages (from aiohttp->datasets) (2.0.0)\n",
      "Requirement already satisfied: yarl<2.0,>=1.0 in /opt/conda/lib/python3.8/site-packages (from aiohttp->datasets) (1.8.1)\n",
      "Requirement already satisfied: frozenlist>=1.1.1 in /opt/conda/lib/python3.8/site-packages (from aiohttp->datasets) (1.3.1)\n",
      "Requirement already satisfied: typing-extensions>=3.7.4.3 in /opt/conda/lib/python3.8/site-packages (from huggingface-hub<1.0.0,>=0.1.0->datasets) (3.10.0.2)\n",
      "Requirement already satisfied: filelock in /opt/conda/lib/python3.8/site-packages (from huggingface-hub<1.0.0,>=0.1.0->datasets) (3.3.0)\n",
      "Requirement already satisfied: pyyaml>=5.1 in /opt/conda/lib/python3.8/site-packages (from huggingface-hub<1.0.0,>=0.1.0->datasets) (5.4.1)\n",
      "Requirement already satisfied: pyparsing>=2.0.2 in /opt/conda/lib/python3.8/site-packages (from packaging->datasets) (2.4.7)\n",
      "Requirement already satisfied: urllib3<1.27,>=1.21.1 in /opt/conda/lib/python3.8/site-packages (from requests>=2.19.0->datasets) (1.26.7)\n",
      "Requirement already satisfied: idna<4,>=2.5 in /opt/conda/lib/python3.8/site-packages (from requests>=2.19.0->datasets) (3.1)\n",
      "Requirement already satisfied: certifi>=2017.4.17 in /opt/conda/lib/python3.8/site-packages (from requests>=2.19.0->datasets) (2021.5.30)\n",
      "Requirement already satisfied: pytz>=2017.3 in /opt/conda/lib/python3.8/site-packages (from pandas->datasets) (2021.3)\n",
      "Requirement already satisfied: python-dateutil>=2.7.3 in /opt/conda/lib/python3.8/site-packages (from pandas->datasets) (2.8.2)\n",
      "Requirement already satisfied: six>=1.5 in /opt/conda/lib/python3.8/site-packages (from python-dateutil>=2.7.3->pandas->datasets) (1.16.0)\n",
      "\u001b[33mWARNING: Running pip as the 'root' user can result in broken permissions and conflicting behaviour with the system package manager. It is recommended to use a virtual environment instead: https://pip.pypa.io/warnings/venv\u001b[0m\n"
     ]
    }
   ],
   "source": [
    "!pip install transformers\n",
    "!pip install ipywidgets\n",
    "!pip install IProgress\n",
    "!pip install datasets"
   ]
  },
  {
   "cell_type": "code",
   "execution_count": 29,
   "id": "4e411de7",
   "metadata": {},
   "outputs": [],
   "source": [
    "import transformers\n",
    "from transformers import BertTokenizer, BertConfig\n",
    "from transformers import BertModel, BertForSequenceClassification\n",
    "from transformers import BatchEncoding\n",
    "\n",
    "import torch\n",
    "import torch.nn as nn\n",
    "\n",
    "import datasets"
   ]
  },
  {
   "cell_type": "markdown",
   "id": "6eae45ed",
   "metadata": {},
   "source": [
    "## tokenizer"
   ]
  },
  {
   "cell_type": "code",
   "execution_count": 30,
   "id": "4f5de92c",
   "metadata": {
    "scrolled": true
   },
   "outputs": [],
   "source": [
    "tokenizer = BertTokenizer.from_pretrained(\"bert-base-uncased\")"
   ]
  },
  {
   "cell_type": "markdown",
   "id": "c211d344",
   "metadata": {},
   "source": [
    "## data pre-processing"
   ]
  },
  {
   "cell_type": "code",
   "execution_count": 31,
   "id": "1906ed7e",
   "metadata": {},
   "outputs": [],
   "source": [
    "batch_size = 2 \n",
    "# for now. will be globalized. "
   ]
  },
  {
   "cell_type": "markdown",
   "id": "3f080dcd",
   "metadata": {},
   "source": [
    "#### batch 1"
   ]
  },
  {
   "cell_type": "code",
   "execution_count": 32,
   "id": "739fd784",
   "metadata": {},
   "outputs": [],
   "source": [
    "paragraph_1 = \"\"\"\n",
    "Some people may argue that children will be more material,\n",
    "neglect their study for earning money or be exploited by the\n",
    "employers. However, if children get good care and\n",
    "instructions from their parents, they can take advantages of the\n",
    "work to learn valuable things and avoid going in a wrong way.\n",
    "\"\"\""
   ]
  },
  {
   "cell_type": "code",
   "execution_count": 33,
   "id": "fb3128e3",
   "metadata": {},
   "outputs": [],
   "source": [
    "paragraph_2 = \"\"\"\n",
    "Take Thailand for example, in the Vietnam War, many American soldiers came to Thailand for a break and involved in sexual and drug activities, \n",
    "these huge demands caused many local businesses opened and expanded, even illegally involved in under-age prostitutes to maximize their profits. \n",
    "\"\"\""
   ]
  },
  {
   "cell_type": "code",
   "execution_count": 34,
   "id": "fe502781",
   "metadata": {},
   "outputs": [],
   "source": [
    "batch_texts = []\n",
    "batch_texts.append(paragraph_1)\n",
    "batch_texts.append(paragraph_2)"
   ]
  },
  {
   "cell_type": "code",
   "execution_count": 35,
   "id": "ce2119f2",
   "metadata": {},
   "outputs": [],
   "source": [
    "# define spans\n",
    "# these spans are inclusive\n",
    "\n",
    "span_1 = []\n",
    "\n",
    "am_1_span = (0, 4)\n",
    "ac_1_span = (5, 23)\n",
    "\n",
    "am_2_span = (24, 25)\n",
    "ac_2_span = (26, 55)\n",
    "\n",
    "span_1.append(am_1_span)\n",
    "span_1.append(ac_1_span)\n",
    "span_1.append(am_2_span)\n",
    "span_1.append(ac_2_span)"
   ]
  },
  {
   "cell_type": "code",
   "execution_count": 36,
   "id": "756d93db",
   "metadata": {},
   "outputs": [],
   "source": [
    "span_2 = []\n",
    "\n",
    "am_1_span = (0, 6)\n",
    "ac_1_span = (7, 23)\n",
    "\n",
    "am_2_span = (24, 26)\n",
    "ac_2_span = (27, 48)\n",
    "\n",
    "span_2.append(am_1_span)\n",
    "span_2.append(ac_1_span)\n",
    "span_2.append(am_2_span)\n",
    "span_2.append(ac_2_span)\n",
    "# span_2.append((34, 189))"
   ]
  },
  {
   "cell_type": "code",
   "execution_count": 37,
   "id": "013c14b0",
   "metadata": {},
   "outputs": [],
   "source": [
    "batch_spans = []\n",
    "batch_spans.append(span_1)\n",
    "batch_spans.append(span_2)"
   ]
  },
  {
   "cell_type": "code",
   "execution_count": 38,
   "id": "66fae486",
   "metadata": {},
   "outputs": [
    {
     "data": {
      "text/plain": [
       "[[(0, 4), (5, 23), (24, 25), (26, 55)], [(0, 6), (7, 23), (24, 26), (27, 48)]]"
      ]
     },
     "execution_count": 38,
     "metadata": {},
     "output_type": "execute_result"
    }
   ],
   "source": [
    "batch_spans"
   ]
  },
  {
   "cell_type": "code",
   "execution_count": 39,
   "id": "499a3536",
   "metadata": {},
   "outputs": [
    {
     "data": {
      "text/plain": [
       "['\\nSome people may argue that children will be more material,\\nneglect their study for earning money or be exploited by the\\nemployers. However, if children get good care and\\ninstructions from their parents, they can take advantages of the\\nwork to learn valuable things and avoid going in a wrong way.\\n',\n",
       " '\\nTake Thailand for example, in the Vietnam War, many American soldiers came to Thailand for a break and involved in sexual and drug activities, \\nthese huge demands caused many local businesses opened and expanded, even illegally involved in under-age prostitutes to maximize their profits. \\n']"
      ]
     },
     "execution_count": 39,
     "metadata": {},
     "output_type": "execute_result"
    }
   ],
   "source": [
    "batch_texts"
   ]
  },
  {
   "cell_type": "code",
   "execution_count": 40,
   "id": "977a17f9",
   "metadata": {},
   "outputs": [],
   "source": [
    "labels_1 = [1,2]\n",
    "labels_2 = [1,0]\n",
    "batch_labels = [labels_1, labels_2]"
   ]
  },
  {
   "cell_type": "markdown",
   "id": "19182a40",
   "metadata": {},
   "source": [
    "## dataset"
   ]
  },
  {
   "cell_type": "code",
   "execution_count": 41,
   "id": "14045938",
   "metadata": {},
   "outputs": [],
   "source": [
    "dataset_d = {\n",
    "    'texts' : batch_texts,\n",
    "    'spans' : batch_spans,\n",
    "    'labels' : batch_labels\n",
    "}"
   ]
  },
  {
   "cell_type": "code",
   "execution_count": 42,
   "id": "2ad9d789",
   "metadata": {},
   "outputs": [],
   "source": [
    "dataset = datasets.Dataset.from_dict(dataset_d)"
   ]
  },
  {
   "cell_type": "code",
   "execution_count": 43,
   "id": "d4f00db5",
   "metadata": {},
   "outputs": [
    {
     "data": {
      "text/plain": [
       "Dataset({\n",
       "    features: ['texts', 'spans', 'labels'],\n",
       "    num_rows: 2\n",
       "})"
      ]
     },
     "execution_count": 43,
     "metadata": {},
     "output_type": "execute_result"
    }
   ],
   "source": [
    "dataset"
   ]
  },
  {
   "cell_type": "code",
   "execution_count": 44,
   "id": "1787ba48",
   "metadata": {},
   "outputs": [
    {
     "data": {
      "text/plain": [
       "['\\nSome people may argue that children will be more material,\\nneglect their study for earning money or be exploited by the\\nemployers. However, if children get good care and\\ninstructions from their parents, they can take advantages of the\\nwork to learn valuable things and avoid going in a wrong way.\\n',\n",
       " '\\nTake Thailand for example, in the Vietnam War, many American soldiers came to Thailand for a break and involved in sexual and drug activities, \\nthese huge demands caused many local businesses opened and expanded, even illegally involved in under-age prostitutes to maximize their profits. \\n']"
      ]
     },
     "execution_count": 44,
     "metadata": {},
     "output_type": "execute_result"
    }
   ],
   "source": [
    "dataset['texts']"
   ]
  },
  {
   "cell_type": "code",
   "execution_count": 45,
   "id": "53768c0d",
   "metadata": {},
   "outputs": [
    {
     "data": {
      "text/plain": [
       "[[[0, 4], [5, 23], [24, 25], [26, 55]], [[0, 6], [7, 23], [24, 26], [27, 48]]]"
      ]
     },
     "execution_count": 45,
     "metadata": {},
     "output_type": "execute_result"
    }
   ],
   "source": [
    "dataset['spans']"
   ]
  },
  {
   "cell_type": "code",
   "execution_count": 46,
   "id": "7ae4e033",
   "metadata": {},
   "outputs": [
    {
     "data": {
      "text/plain": [
       "[[1, 2], [1, 0]]"
      ]
     },
     "execution_count": 46,
     "metadata": {},
     "output_type": "execute_result"
    }
   ],
   "source": [
    "dataset['labels']"
   ]
  },
  {
   "cell_type": "code",
   "execution_count": 47,
   "id": "8ac3840f",
   "metadata": {},
   "outputs": [],
   "source": [
    "def tokenize(dataset):\n",
    "    \n",
    "    tokenized_text = tokenizer(dataset['texts'], padding=True, return_tensors=\"pt\")\n",
    "    max_length = max([len(l) for l in dataset['spans']])\n",
    "    span_ll = []\n",
    "    \n",
    "    for idx, span in enumerate(dataset['spans']):\n",
    "        \n",
    "        tmp_l = dataset['spans'][idx] + (max_length - len(span)) * [[0,0]]\n",
    "        span_ll.append(tmp_l)\n",
    "\n",
    "    tokenized_text['spans'] = torch.tensor(span_ll)\n",
    "    tokenized_text['labels'] = torch.tensor(dataset['labels'])\n",
    "    return tokenized_text"
   ]
  },
  {
   "cell_type": "code",
   "execution_count": 48,
   "id": "dbddf3b1",
   "metadata": {},
   "outputs": [],
   "source": [
    "tokenized_input = tokenize(dataset)"
   ]
  },
  {
   "cell_type": "code",
   "execution_count": 49,
   "id": "189fd98a",
   "metadata": {},
   "outputs": [
    {
     "data": {
      "text/plain": [
       "{'input_ids': tensor([[  101,  2070,  2111,  2089,  7475,  2008,  2336,  2097,  2022,  2062,\n",
       "          3430,  1010, 19046,  2037,  2817,  2005,  7414,  2769,  2030,  2022,\n",
       "         18516,  2011,  1996, 12433,  1012,  2174,  1010,  2065,  2336,  2131,\n",
       "          2204,  2729,  1998,  8128,  2013,  2037,  3008,  1010,  2027,  2064,\n",
       "          2202, 12637,  1997,  1996,  2147,  2000,  4553,  7070,  2477,  1998,\n",
       "          4468,  2183,  1999,  1037,  3308,  2126,  1012,   102],\n",
       "        [  101,  2202,  6504,  2005,  2742,  1010,  1999,  1996,  5148,  2162,\n",
       "          1010,  2116,  2137,  3548,  2234,  2000,  6504,  2005,  1037,  3338,\n",
       "          1998,  2920,  1999,  4424,  1998,  4319,  3450,  1010,  2122,  4121,\n",
       "          7670,  3303,  2116,  2334,  5661,  2441,  1998,  4423,  1010,  2130,\n",
       "         17800,  2920,  1999,  2104,  1011,  2287, 20833,  2000, 25845,  2037,\n",
       "         11372,  1012,   102,     0,     0,     0,     0,     0]]), 'token_type_ids': tensor([[0, 0, 0, 0, 0, 0, 0, 0, 0, 0, 0, 0, 0, 0, 0, 0, 0, 0, 0, 0, 0, 0, 0, 0,\n",
       "         0, 0, 0, 0, 0, 0, 0, 0, 0, 0, 0, 0, 0, 0, 0, 0, 0, 0, 0, 0, 0, 0, 0, 0,\n",
       "         0, 0, 0, 0, 0, 0, 0, 0, 0, 0],\n",
       "        [0, 0, 0, 0, 0, 0, 0, 0, 0, 0, 0, 0, 0, 0, 0, 0, 0, 0, 0, 0, 0, 0, 0, 0,\n",
       "         0, 0, 0, 0, 0, 0, 0, 0, 0, 0, 0, 0, 0, 0, 0, 0, 0, 0, 0, 0, 0, 0, 0, 0,\n",
       "         0, 0, 0, 0, 0, 0, 0, 0, 0, 0]]), 'attention_mask': tensor([[1, 1, 1, 1, 1, 1, 1, 1, 1, 1, 1, 1, 1, 1, 1, 1, 1, 1, 1, 1, 1, 1, 1, 1,\n",
       "         1, 1, 1, 1, 1, 1, 1, 1, 1, 1, 1, 1, 1, 1, 1, 1, 1, 1, 1, 1, 1, 1, 1, 1,\n",
       "         1, 1, 1, 1, 1, 1, 1, 1, 1, 1],\n",
       "        [1, 1, 1, 1, 1, 1, 1, 1, 1, 1, 1, 1, 1, 1, 1, 1, 1, 1, 1, 1, 1, 1, 1, 1,\n",
       "         1, 1, 1, 1, 1, 1, 1, 1, 1, 1, 1, 1, 1, 1, 1, 1, 1, 1, 1, 1, 1, 1, 1, 1,\n",
       "         1, 1, 1, 1, 1, 0, 0, 0, 0, 0]]), 'spans': tensor([[[ 0,  4],\n",
       "         [ 5, 23],\n",
       "         [24, 25],\n",
       "         [26, 55]],\n",
       "\n",
       "        [[ 0,  6],\n",
       "         [ 7, 23],\n",
       "         [24, 26],\n",
       "         [27, 48]]]), 'labels': tensor([[1, 2],\n",
       "        [1, 0]])}"
      ]
     },
     "execution_count": 49,
     "metadata": {},
     "output_type": "execute_result"
    }
   ],
   "source": [
    "tokenized_input"
   ]
  },
  {
   "cell_type": "code",
   "execution_count": 50,
   "id": "e27be869",
   "metadata": {},
   "outputs": [
    {
     "data": {
      "text/plain": [
       "(58, 58)"
      ]
     },
     "execution_count": 50,
     "metadata": {},
     "output_type": "execute_result"
    }
   ],
   "source": [
    "len(tokenized_input['input_ids'][0]), len(tokenized_input['input_ids'][1])"
   ]
  },
  {
   "cell_type": "code",
   "execution_count": 51,
   "id": "378885be",
   "metadata": {},
   "outputs": [
    {
     "data": {
      "text/plain": [
       "tensor([  101,  2070,  2111,  2089,  7475,  2008,  2336,  2097,  2022,  2062,\n",
       "         3430,  1010, 19046,  2037,  2817,  2005,  7414,  2769,  2030,  2022,\n",
       "        18516,  2011,  1996, 12433,  1012,  2174,  1010,  2065,  2336,  2131,\n",
       "         2204,  2729,  1998,  8128,  2013,  2037,  3008,  1010,  2027,  2064,\n",
       "         2202, 12637,  1997,  1996,  2147,  2000,  4553,  7070,  2477,  1998,\n",
       "         4468,  2183,  1999,  1037,  3308,  2126,  1012,   102])"
      ]
     },
     "execution_count": 51,
     "metadata": {},
     "output_type": "execute_result"
    }
   ],
   "source": [
    "tokenized_input['input_ids'][0]"
   ]
  },
  {
   "cell_type": "code",
   "execution_count": 52,
   "id": "f5244a47",
   "metadata": {},
   "outputs": [],
   "source": [
    "text_tokenized = tokenizer.tokenize(paragraph_2)"
   ]
  },
  {
   "cell_type": "code",
   "execution_count": 53,
   "id": "23bcf450",
   "metadata": {},
   "outputs": [
    {
     "data": {
      "text/plain": [
       "['take',\n",
       " 'thailand',\n",
       " 'for',\n",
       " 'example',\n",
       " ',',\n",
       " 'in',\n",
       " 'the',\n",
       " 'vietnam',\n",
       " 'war',\n",
       " ',',\n",
       " 'many',\n",
       " 'american',\n",
       " 'soldiers',\n",
       " 'came',\n",
       " 'to',\n",
       " 'thailand',\n",
       " 'for',\n",
       " 'a',\n",
       " 'break',\n",
       " 'and',\n",
       " 'involved',\n",
       " 'in',\n",
       " 'sexual',\n",
       " 'and',\n",
       " 'drug',\n",
       " 'activities',\n",
       " ',',\n",
       " 'these',\n",
       " 'huge',\n",
       " 'demands',\n",
       " 'caused',\n",
       " 'many',\n",
       " 'local',\n",
       " 'businesses',\n",
       " 'opened',\n",
       " 'and',\n",
       " 'expanded',\n",
       " ',',\n",
       " 'even',\n",
       " 'illegally',\n",
       " 'involved',\n",
       " 'in',\n",
       " 'under',\n",
       " '-',\n",
       " 'age',\n",
       " 'prostitutes',\n",
       " 'to',\n",
       " 'maximize',\n",
       " 'their',\n",
       " 'profits',\n",
       " '.']"
      ]
     },
     "execution_count": 53,
     "metadata": {},
     "output_type": "execute_result"
    }
   ],
   "source": [
    "text_tokenized"
   ]
  },
  {
   "cell_type": "code",
   "execution_count": 72,
   "id": "58420362",
   "metadata": {},
   "outputs": [],
   "source": [
    "text = 'To conclude, I strongly believe that the tourism has created undeniable and threatening pressure on both the sociocultural, legal and natural environments.'"
   ]
  },
  {
   "cell_type": "code",
   "execution_count": 73,
   "id": "eb458dd9",
   "metadata": {},
   "outputs": [],
   "source": [
    "text_tokenized = tokenizer.tokenize(text)"
   ]
  },
  {
   "cell_type": "code",
   "execution_count": 74,
   "id": "f8d537d0",
   "metadata": {},
   "outputs": [
    {
     "data": {
      "text/plain": [
       "['to',\n",
       " 'conclude',\n",
       " ',',\n",
       " 'i',\n",
       " 'strongly',\n",
       " 'believe',\n",
       " 'that',\n",
       " 'the',\n",
       " 'tourism',\n",
       " 'has',\n",
       " 'created',\n",
       " 'und',\n",
       " '##enia',\n",
       " '##ble',\n",
       " 'and',\n",
       " 'threatening',\n",
       " 'pressure',\n",
       " 'on',\n",
       " 'both',\n",
       " 'the',\n",
       " 'socio',\n",
       " '##cultural',\n",
       " ',',\n",
       " 'legal',\n",
       " 'and',\n",
       " 'natural',\n",
       " 'environments',\n",
       " '.']"
      ]
     },
     "execution_count": 74,
     "metadata": {},
     "output_type": "execute_result"
    }
   ],
   "source": [
    "text_tokenized"
   ]
  },
  {
   "cell_type": "code",
   "execution_count": 75,
   "id": "e94c60f0",
   "metadata": {},
   "outputs": [],
   "source": [
    "span = (3, 24)"
   ]
  },
  {
   "cell_type": "code",
   "execution_count": 76,
   "id": "bb1893a9",
   "metadata": {},
   "outputs": [
    {
     "data": {
      "text/plain": [
       "(3, 24)"
      ]
     },
     "execution_count": 76,
     "metadata": {},
     "output_type": "execute_result"
    }
   ],
   "source": [
    "span"
   ]
  },
  {
   "cell_type": "code",
   "execution_count": 82,
   "id": "a291b509",
   "metadata": {},
   "outputs": [
    {
     "data": {
      "text/plain": [
       "(3, 24)"
      ]
     },
     "execution_count": 82,
     "metadata": {},
     "output_type": "execute_result"
    }
   ],
   "source": [
    "span[0], span[1]"
   ]
  },
  {
   "cell_type": "code",
   "execution_count": 83,
   "id": "dd392f53",
   "metadata": {},
   "outputs": [
    {
     "data": {
      "text/plain": [
       "28"
      ]
     },
     "execution_count": 83,
     "metadata": {},
     "output_type": "execute_result"
    }
   ],
   "source": [
    "len(text_tokenized)"
   ]
  },
  {
   "cell_type": "code",
   "execution_count": 84,
   "id": "6fb38390",
   "metadata": {},
   "outputs": [
    {
     "data": {
      "text/plain": [
       "155"
      ]
     },
     "execution_count": 84,
     "metadata": {},
     "output_type": "execute_result"
    }
   ],
   "source": [
    "len(text)"
   ]
  },
  {
   "cell_type": "code",
   "execution_count": 88,
   "id": "44667c07",
   "metadata": {},
   "outputs": [
    {
     "name": "stderr",
     "output_type": "stream",
     "text": [
      "[nltk_data] Downloading package punkt to /root/nltk_data...\n",
      "[nltk_data]   Unzipping tokenizers/punkt.zip.\n"
     ]
    },
    {
     "data": {
      "text/plain": [
       "True"
      ]
     },
     "execution_count": 88,
     "metadata": {},
     "output_type": "execute_result"
    }
   ],
   "source": [
    "import nltk\n",
    "nltk.download('punkt')"
   ]
  },
  {
   "cell_type": "code",
   "execution_count": 89,
   "id": "c669bc3a",
   "metadata": {},
   "outputs": [],
   "source": [
    "from nltk.tokenize import word_tokenize"
   ]
  },
  {
   "cell_type": "code",
   "execution_count": 91,
   "id": "504bc790",
   "metadata": {},
   "outputs": [],
   "source": [
    "nltk_text = word_tokenize(text)"
   ]
  },
  {
   "cell_type": "code",
   "execution_count": 92,
   "id": "40258534",
   "metadata": {},
   "outputs": [
    {
     "data": {
      "text/plain": [
       "25"
      ]
     },
     "execution_count": 92,
     "metadata": {},
     "output_type": "execute_result"
    }
   ],
   "source": [
    "len(nltk_text)"
   ]
  },
  {
   "cell_type": "code",
   "execution_count": 1,
   "id": "a4cee828",
   "metadata": {},
   "outputs": [],
   "source": [
    "def get_span(paragraph, marker_component):\n",
    "    \n",
    "    paragraph_tokenized = tokenizer(paragraph)\n",
    "    marker_component_tokenized = tokenize(marker_component)\n",
    "    \n",
    "    span_l = [(i, i+len(marker_component_tokenized)-1) for i in range(len(paragraph_tokenized)) if paragraph_tokenized[i:i+len(marker_component_tokenized)] == marker_component_tokenized]\n",
    "    \n",
    "    return span_l[0]"
   ]
  },
  {
   "cell_type": "code",
   "execution_count": null,
   "id": "4e74b51e",
   "metadata": {},
   "outputs": [],
   "source": []
  }
 ],
 "metadata": {
  "kernelspec": {
   "display_name": "Python 3 (ipykernel)",
   "language": "python",
   "name": "python3"
  },
  "language_info": {
   "codemirror_mode": {
    "name": "ipython",
    "version": 3
   },
   "file_extension": ".py",
   "mimetype": "text/x-python",
   "name": "python",
   "nbconvert_exporter": "python",
   "pygments_lexer": "ipython3",
   "version": "3.8.12"
  }
 },
 "nbformat": 4,
 "nbformat_minor": 5
}
