{
 "cells": [
  {
   "cell_type": "code",
   "execution_count": 1,
   "id": "b636f65e",
   "metadata": {
    "gradient": {
     "editing": false,
     "id": "7008b3a2-1f1f-432b-a232-71b4d9af1246",
     "kernelId": ""
    },
    "scrolled": true
   },
   "outputs": [
    {
     "name": "stdout",
     "output_type": "stream",
     "text": [
      "Looking in indexes: https://pypi.org/simple, https://pypi.ngc.nvidia.com\n",
      "Collecting pandas==1.3.4\n",
      "  Downloading pandas-1.3.4-cp38-cp38-manylinux_2_17_x86_64.manylinux2014_x86_64.whl (11.5 MB)\n",
      "\u001b[K     |████████████████████████████████| 11.5 MB 2.5 MB/s eta 0:00:01\n",
      "\u001b[?25hRequirement already satisfied: pytz>=2017.3 in /opt/conda/lib/python3.8/site-packages (from pandas==1.3.4) (2021.3)\n",
      "Requirement already satisfied: numpy>=1.17.3 in /opt/conda/lib/python3.8/site-packages (from pandas==1.3.4) (1.21.2)\n",
      "Requirement already satisfied: python-dateutil>=2.7.3 in /opt/conda/lib/python3.8/site-packages (from pandas==1.3.4) (2.8.2)\n",
      "Requirement already satisfied: six>=1.5 in /opt/conda/lib/python3.8/site-packages (from python-dateutil>=2.7.3->pandas==1.3.4) (1.16.0)\n",
      "Installing collected packages: pandas\n",
      "  Attempting uninstall: pandas\n",
      "    Found existing installation: pandas 1.5.2\n",
      "    Uninstalling pandas-1.5.2:\n",
      "      Successfully uninstalled pandas-1.5.2\n",
      "Successfully installed pandas-1.3.4\n",
      "\u001b[33mWARNING: Running pip as the 'root' user can result in broken permissions and conflicting behaviour with the system package manager. It is recommended to use a virtual environment instead: https://pip.pypa.io/warnings/venv\u001b[0m\n",
      "Looking in indexes: https://pypi.org/simple, https://pypi.ngc.nvidia.com\n",
      "Collecting transformers==4.12.5\n",
      "  Downloading transformers-4.12.5-py3-none-any.whl (3.1 MB)\n",
      "\u001b[K     |████████████████████████████████| 3.1 MB 25.2 MB/s eta 0:00:01\n",
      "\u001b[?25hRequirement already satisfied: requests in /opt/conda/lib/python3.8/site-packages (from transformers==4.12.5) (2.26.0)\n",
      "Collecting tokenizers<0.11,>=0.10.1\n",
      "  Downloading tokenizers-0.10.3-cp38-cp38-manylinux_2_5_x86_64.manylinux1_x86_64.manylinux_2_12_x86_64.manylinux2010_x86_64.whl (3.3 MB)\n",
      "\u001b[K     |████████████████████████████████| 3.3 MB 71.5 MB/s eta 0:00:01\n",
      "\u001b[?25hRequirement already satisfied: filelock in /opt/conda/lib/python3.8/site-packages (from transformers==4.12.5) (3.3.0)\n",
      "Requirement already satisfied: pyyaml>=5.1 in /opt/conda/lib/python3.8/site-packages (from transformers==4.12.5) (5.4.1)\n",
      "Requirement already satisfied: packaging>=20.0 in /opt/conda/lib/python3.8/site-packages (from transformers==4.12.5) (21.0)\n",
      "Requirement already satisfied: tqdm>=4.27 in /opt/conda/lib/python3.8/site-packages (from transformers==4.12.5) (4.62.3)\n",
      "Requirement already satisfied: huggingface-hub<1.0,>=0.1.0 in /opt/conda/lib/python3.8/site-packages (from transformers==4.12.5) (0.11.1)\n",
      "Requirement already satisfied: regex!=2019.12.17 in /opt/conda/lib/python3.8/site-packages (from transformers==4.12.5) (2021.10.8)\n",
      "Requirement already satisfied: sacremoses in /opt/conda/lib/python3.8/site-packages (from transformers==4.12.5) (0.0.46)\n",
      "Requirement already satisfied: numpy>=1.17 in /opt/conda/lib/python3.8/site-packages (from transformers==4.12.5) (1.21.2)\n",
      "Requirement already satisfied: typing-extensions>=3.7.4.3 in /opt/conda/lib/python3.8/site-packages (from huggingface-hub<1.0,>=0.1.0->transformers==4.12.5) (3.10.0.2)\n",
      "Requirement already satisfied: pyparsing>=2.0.2 in /opt/conda/lib/python3.8/site-packages (from packaging>=20.0->transformers==4.12.5) (2.4.7)\n",
      "Requirement already satisfied: urllib3<1.27,>=1.21.1 in /opt/conda/lib/python3.8/site-packages (from requests->transformers==4.12.5) (1.26.7)\n",
      "Requirement already satisfied: charset-normalizer~=2.0.0 in /opt/conda/lib/python3.8/site-packages (from requests->transformers==4.12.5) (2.0.0)\n",
      "Requirement already satisfied: idna<4,>=2.5 in /opt/conda/lib/python3.8/site-packages (from requests->transformers==4.12.5) (3.1)\n",
      "Requirement already satisfied: certifi>=2017.4.17 in /opt/conda/lib/python3.8/site-packages (from requests->transformers==4.12.5) (2021.5.30)\n",
      "Requirement already satisfied: joblib in /opt/conda/lib/python3.8/site-packages (from sacremoses->transformers==4.12.5) (1.1.0)\n",
      "Requirement already satisfied: click in /opt/conda/lib/python3.8/site-packages (from sacremoses->transformers==4.12.5) (8.0.1)\n",
      "Requirement already satisfied: six in /opt/conda/lib/python3.8/site-packages (from sacremoses->transformers==4.12.5) (1.16.0)\n",
      "Installing collected packages: tokenizers, transformers\n",
      "  Attempting uninstall: tokenizers\n",
      "    Found existing installation: tokenizers 0.13.2\n",
      "    Uninstalling tokenizers-0.13.2:\n",
      "      Successfully uninstalled tokenizers-0.13.2\n",
      "  Attempting uninstall: transformers\n",
      "    Found existing installation: transformers 4.25.1\n",
      "    Uninstalling transformers-4.25.1:\n",
      "      Successfully uninstalled transformers-4.25.1\n",
      "Successfully installed tokenizers-0.10.3 transformers-4.12.5\n",
      "\u001b[33mWARNING: Running pip as the 'root' user can result in broken permissions and conflicting behaviour with the system package manager. It is recommended to use a virtual environment instead: https://pip.pypa.io/warnings/venv\u001b[0m\n",
      "Looking in indexes: https://pypi.org/simple, https://pypi.ngc.nvidia.com\n",
      "Collecting datasets==1.15.1\n",
      "  Downloading datasets-1.15.1-py3-none-any.whl (290 kB)\n",
      "\u001b[K     |████████████████████████████████| 290 kB 19.8 MB/s eta 0:00:01\n",
      "\u001b[?25hRequirement already satisfied: fsspec[http]>=2021.05.0 in /opt/conda/lib/python3.8/site-packages (from datasets==1.15.1) (2022.11.0)\n",
      "Requirement already satisfied: pyarrow!=4.0.0,>=1.0.0 in /opt/conda/lib/python3.8/site-packages (from datasets==1.15.1) (10.0.1)\n",
      "Requirement already satisfied: huggingface-hub<1.0.0,>=0.1.0 in /opt/conda/lib/python3.8/site-packages (from datasets==1.15.1) (0.11.1)\n",
      "Requirement already satisfied: numpy>=1.17 in /opt/conda/lib/python3.8/site-packages (from datasets==1.15.1) (1.21.2)\n",
      "Requirement already satisfied: aiohttp in /opt/conda/lib/python3.8/site-packages (from datasets==1.15.1) (3.8.3)\n",
      "Requirement already satisfied: tqdm>=4.62.1 in /opt/conda/lib/python3.8/site-packages (from datasets==1.15.1) (4.62.3)\n",
      "Requirement already satisfied: pandas in /opt/conda/lib/python3.8/site-packages (from datasets==1.15.1) (1.3.4)\n",
      "Requirement already satisfied: packaging in /opt/conda/lib/python3.8/site-packages (from datasets==1.15.1) (21.0)\n",
      "Requirement already satisfied: xxhash in /opt/conda/lib/python3.8/site-packages (from datasets==1.15.1) (3.1.0)\n",
      "Requirement already satisfied: requests>=2.19.0 in /opt/conda/lib/python3.8/site-packages (from datasets==1.15.1) (2.26.0)\n",
      "Requirement already satisfied: multiprocess in /opt/conda/lib/python3.8/site-packages (from datasets==1.15.1) (0.70.14)\n",
      "Requirement already satisfied: dill in /opt/conda/lib/python3.8/site-packages (from datasets==1.15.1) (0.3.6)\n",
      "Requirement already satisfied: frozenlist>=1.1.1 in /opt/conda/lib/python3.8/site-packages (from aiohttp->datasets==1.15.1) (1.3.3)\n",
      "Requirement already satisfied: multidict<7.0,>=4.5 in /opt/conda/lib/python3.8/site-packages (from aiohttp->datasets==1.15.1) (6.0.3)\n",
      "Requirement already satisfied: attrs>=17.3.0 in /opt/conda/lib/python3.8/site-packages (from aiohttp->datasets==1.15.1) (21.2.0)\n",
      "Requirement already satisfied: yarl<2.0,>=1.0 in /opt/conda/lib/python3.8/site-packages (from aiohttp->datasets==1.15.1) (1.8.2)\n",
      "Requirement already satisfied: async-timeout<5.0,>=4.0.0a3 in /opt/conda/lib/python3.8/site-packages (from aiohttp->datasets==1.15.1) (4.0.2)\n",
      "Requirement already satisfied: aiosignal>=1.1.2 in /opt/conda/lib/python3.8/site-packages (from aiohttp->datasets==1.15.1) (1.3.1)\n",
      "Requirement already satisfied: charset-normalizer<3.0,>=2.0 in /opt/conda/lib/python3.8/site-packages (from aiohttp->datasets==1.15.1) (2.0.0)\n",
      "Requirement already satisfied: filelock in /opt/conda/lib/python3.8/site-packages (from huggingface-hub<1.0.0,>=0.1.0->datasets==1.15.1) (3.3.0)\n",
      "Requirement already satisfied: typing-extensions>=3.7.4.3 in /opt/conda/lib/python3.8/site-packages (from huggingface-hub<1.0.0,>=0.1.0->datasets==1.15.1) (3.10.0.2)\n",
      "Requirement already satisfied: pyyaml>=5.1 in /opt/conda/lib/python3.8/site-packages (from huggingface-hub<1.0.0,>=0.1.0->datasets==1.15.1) (5.4.1)\n",
      "Requirement already satisfied: pyparsing>=2.0.2 in /opt/conda/lib/python3.8/site-packages (from packaging->datasets==1.15.1) (2.4.7)\n",
      "Requirement already satisfied: idna<4,>=2.5 in /opt/conda/lib/python3.8/site-packages (from requests>=2.19.0->datasets==1.15.1) (3.1)\n",
      "Requirement already satisfied: certifi>=2017.4.17 in /opt/conda/lib/python3.8/site-packages (from requests>=2.19.0->datasets==1.15.1) (2021.5.30)\n",
      "Requirement already satisfied: urllib3<1.27,>=1.21.1 in /opt/conda/lib/python3.8/site-packages (from requests>=2.19.0->datasets==1.15.1) (1.26.7)\n",
      "Requirement already satisfied: pytz>=2017.3 in /opt/conda/lib/python3.8/site-packages (from pandas->datasets==1.15.1) (2021.3)\n",
      "Requirement already satisfied: python-dateutil>=2.7.3 in /opt/conda/lib/python3.8/site-packages (from pandas->datasets==1.15.1) (2.8.2)\n",
      "Requirement already satisfied: six>=1.5 in /opt/conda/lib/python3.8/site-packages (from python-dateutil>=2.7.3->pandas->datasets==1.15.1) (1.16.0)\n",
      "Installing collected packages: datasets\n",
      "  Attempting uninstall: datasets\n",
      "    Found existing installation: datasets 2.7.1\n",
      "    Uninstalling datasets-2.7.1:\n",
      "      Successfully uninstalled datasets-2.7.1\n",
      "Successfully installed datasets-1.15.1\n",
      "\u001b[33mWARNING: Running pip as the 'root' user can result in broken permissions and conflicting behaviour with the system package manager. It is recommended to use a virtual environment instead: https://pip.pypa.io/warnings/venv\u001b[0m\n"
     ]
    }
   ],
   "source": [
    "!pip install pandas==1.3.4\n",
    "!pip install transformers==4.12.5\n",
    "!pip install datasets==1.15.1"
   ]
  },
  {
   "cell_type": "code",
   "execution_count": 2,
   "id": "b918010d",
   "metadata": {
    "scrolled": true
   },
   "outputs": [
    {
     "name": "stdout",
     "output_type": "stream",
     "text": [
      "Looking in indexes: https://pypi.org/simple, https://pypi.ngc.nvidia.com\n",
      "Requirement already satisfied: ipywidgets in /opt/conda/lib/python3.8/site-packages (8.0.3)\n",
      "Requirement already satisfied: jupyterlab-widgets~=3.0 in /opt/conda/lib/python3.8/site-packages (from ipywidgets) (3.0.4)\n",
      "Requirement already satisfied: ipython>=6.1.0 in /opt/conda/lib/python3.8/site-packages (from ipywidgets) (7.28.0)\n",
      "Requirement already satisfied: widgetsnbextension~=4.0 in /opt/conda/lib/python3.8/site-packages (from ipywidgets) (4.0.4)\n",
      "Requirement already satisfied: ipykernel>=4.5.1 in /opt/conda/lib/python3.8/site-packages (from ipywidgets) (6.4.1)\n",
      "Requirement already satisfied: traitlets>=4.3.1 in /opt/conda/lib/python3.8/site-packages (from ipywidgets) (5.1.0)\n",
      "Requirement already satisfied: debugpy<2.0,>=1.0.0 in /opt/conda/lib/python3.8/site-packages (from ipykernel>=4.5.1->ipywidgets) (1.5.0)\n",
      "Requirement already satisfied: jupyter-client<8.0 in /opt/conda/lib/python3.8/site-packages (from ipykernel>=4.5.1->ipywidgets) (7.0.6)\n",
      "Requirement already satisfied: ipython-genutils in /opt/conda/lib/python3.8/site-packages (from ipykernel>=4.5.1->ipywidgets) (0.2.0)\n",
      "Requirement already satisfied: matplotlib-inline<0.2.0,>=0.1.0 in /opt/conda/lib/python3.8/site-packages (from ipykernel>=4.5.1->ipywidgets) (0.1.3)\n",
      "Requirement already satisfied: tornado<7.0,>=4.2 in /opt/conda/lib/python3.8/site-packages (from ipykernel>=4.5.1->ipywidgets) (6.1)\n",
      "Requirement already satisfied: decorator in /opt/conda/lib/python3.8/site-packages (from ipython>=6.1.0->ipywidgets) (5.1.0)\n",
      "Requirement already satisfied: jedi>=0.16 in /opt/conda/lib/python3.8/site-packages (from ipython>=6.1.0->ipywidgets) (0.18.0)\n",
      "Requirement already satisfied: setuptools>=18.5 in /opt/conda/lib/python3.8/site-packages (from ipython>=6.1.0->ipywidgets) (58.2.0)\n",
      "Requirement already satisfied: backcall in /opt/conda/lib/python3.8/site-packages (from ipython>=6.1.0->ipywidgets) (0.2.0)\n",
      "Requirement already satisfied: pickleshare in /opt/conda/lib/python3.8/site-packages (from ipython>=6.1.0->ipywidgets) (0.7.5)\n",
      "Requirement already satisfied: pexpect>4.3 in /opt/conda/lib/python3.8/site-packages (from ipython>=6.1.0->ipywidgets) (4.8.0)\n",
      "Requirement already satisfied: prompt-toolkit!=3.0.0,!=3.0.1,<3.1.0,>=2.0.0 in /opt/conda/lib/python3.8/site-packages (from ipython>=6.1.0->ipywidgets) (3.0.20)\n",
      "Requirement already satisfied: pygments in /opt/conda/lib/python3.8/site-packages (from ipython>=6.1.0->ipywidgets) (2.10.0)\n",
      "Requirement already satisfied: parso<0.9.0,>=0.8.0 in /opt/conda/lib/python3.8/site-packages (from jedi>=0.16->ipython>=6.1.0->ipywidgets) (0.8.2)\n",
      "Requirement already satisfied: pyzmq>=13 in /opt/conda/lib/python3.8/site-packages (from jupyter-client<8.0->ipykernel>=4.5.1->ipywidgets) (22.3.0)\n",
      "Requirement already satisfied: entrypoints in /opt/conda/lib/python3.8/site-packages (from jupyter-client<8.0->ipykernel>=4.5.1->ipywidgets) (0.3)\n",
      "Requirement already satisfied: python-dateutil>=2.1 in /opt/conda/lib/python3.8/site-packages (from jupyter-client<8.0->ipykernel>=4.5.1->ipywidgets) (2.8.2)\n",
      "Requirement already satisfied: jupyter-core>=4.6.0 in /opt/conda/lib/python3.8/site-packages (from jupyter-client<8.0->ipykernel>=4.5.1->ipywidgets) (4.8.1)\n",
      "Requirement already satisfied: nest-asyncio>=1.5 in /opt/conda/lib/python3.8/site-packages (from jupyter-client<8.0->ipykernel>=4.5.1->ipywidgets) (1.5.1)\n",
      "Requirement already satisfied: ptyprocess>=0.5 in /opt/conda/lib/python3.8/site-packages (from pexpect>4.3->ipython>=6.1.0->ipywidgets) (0.7.0)\n",
      "Requirement already satisfied: wcwidth in /opt/conda/lib/python3.8/site-packages (from prompt-toolkit!=3.0.0,!=3.0.1,<3.1.0,>=2.0.0->ipython>=6.1.0->ipywidgets) (0.2.5)\n",
      "Requirement already satisfied: six>=1.5 in /opt/conda/lib/python3.8/site-packages (from python-dateutil>=2.1->jupyter-client<8.0->ipykernel>=4.5.1->ipywidgets) (1.16.0)\n",
      "\u001b[33mWARNING: Running pip as the 'root' user can result in broken permissions and conflicting behaviour with the system package manager. It is recommended to use a virtual environment instead: https://pip.pypa.io/warnings/venv\u001b[0m\n",
      "Looking in indexes: https://pypi.org/simple, https://pypi.ngc.nvidia.com\n",
      "Requirement already satisfied: IProgress in /opt/conda/lib/python3.8/site-packages (0.4)\n",
      "Requirement already satisfied: six in /opt/conda/lib/python3.8/site-packages (from IProgress) (1.16.0)\n",
      "\u001b[33mWARNING: Running pip as the 'root' user can result in broken permissions and conflicting behaviour with the system package manager. It is recommended to use a virtual environment instead: https://pip.pypa.io/warnings/venv\u001b[0m\n"
     ]
    }
   ],
   "source": [
    "!pip install ipywidgets\n",
    "!pip install IProgress"
   ]
  },
  {
   "cell_type": "code",
   "execution_count": 3,
   "id": "746d60cd",
   "metadata": {
    "gradient": {
     "editing": false,
     "id": "a705b996-66aa-4aa6-9ce0-1edd956b8866",
     "kernelId": ""
    }
   },
   "outputs": [],
   "source": [
    "import os\n",
    "import re\n",
    "import pickle\n",
    "\n",
    "import pandas as pd\n",
    "\n",
    "import numpy as np\n",
    "import torch\n",
    "\n",
    "import transformers\n",
    "from transformers import BertTokenizer\n",
    "\n",
    "import datasets\n",
    "from datasets import concatenate_datasets\n",
    "from datasets import Dataset\n",
    "from datasets import ClassLabel\n",
    "from datasets import DatasetDict"
   ]
  },
  {
   "cell_type": "code",
   "execution_count": 4,
   "id": "a89dd661",
   "metadata": {
    "gradient": {
     "editing": false,
     "id": "a8a8872d-0a98-4bd7-b38a-37810f8cdab3",
     "kernelId": ""
    }
   },
   "outputs": [
    {
     "name": "stdout",
     "output_type": "stream",
     "text": [
      "pandas:\t\t 1.3.4\n",
      "transformers:\t 4.12.5\n",
      "datasets:\t 1.15.1\n"
     ]
    }
   ],
   "source": [
    "print('pandas:\\t\\t', pd.__version__)\n",
    "print('transformers:\\t', transformers.__version__)\n",
    "print('datasets:\\t', datasets.__version__)"
   ]
  },
  {
   "cell_type": "markdown",
   "id": "9af7686b",
   "metadata": {
    "gradient": {
     "editing": false,
     "id": "5bf6295b-ee0c-47fa-8aa7-4aa06f0bab27",
     "kernelId": ""
    }
   },
   "source": [
    "## Load Data"
   ]
  },
  {
   "cell_type": "code",
   "execution_count": 5,
   "id": "53068dc1",
   "metadata": {},
   "outputs": [],
   "source": [
    "dataset_df = pd.read_pickle(\"/notebooks/KURI-BERT/data/pe_dataset_w_essay_position_pos_tags_pickle\")"
   ]
  },
  {
   "cell_type": "code",
   "execution_count": 6,
   "id": "01d74367",
   "metadata": {},
   "outputs": [],
   "source": [
    "dataset_df = dataset_df.drop_duplicates(subset=['label_and_comp_idxs', 'text'], keep='first').reset_index(drop=True)"
   ]
  },
  {
   "cell_type": "code",
   "execution_count": 7,
   "id": "4398872d",
   "metadata": {},
   "outputs": [],
   "source": [
    "dataset_df = dataset_df.sort_values(['essay_nr', 'argument_bound_1'], ascending=[1, 1]).reset_index(drop=True)"
   ]
  },
  {
   "cell_type": "code",
   "execution_count": 8,
   "id": "5adc6189",
   "metadata": {},
   "outputs": [
    {
     "data": {
      "text/html": [
       "<div>\n",
       "<style scoped>\n",
       "    .dataframe tbody tr th:only-of-type {\n",
       "        vertical-align: middle;\n",
       "    }\n",
       "\n",
       "    .dataframe tbody tr th {\n",
       "        vertical-align: top;\n",
       "    }\n",
       "\n",
       "    .dataframe thead th {\n",
       "        text-align: right;\n",
       "    }\n",
       "</style>\n",
       "<table border=\"1\" class=\"dataframe\">\n",
       "  <thead>\n",
       "    <tr style=\"text-align: right;\">\n",
       "      <th></th>\n",
       "      <th>essay_nr</th>\n",
       "      <th>component_id</th>\n",
       "      <th>label_and_comp_idxs</th>\n",
       "      <th>text</th>\n",
       "      <th>label_x</th>\n",
       "      <th>label_ComponentType</th>\n",
       "      <th>relation_SupportAttack</th>\n",
       "      <th>label_RelationType</th>\n",
       "      <th>label_LinkedNotLinked</th>\n",
       "      <th>split_y</th>\n",
       "      <th>...</th>\n",
       "      <th>is_last_in_para</th>\n",
       "      <th>nr_preceeding_comps_in_para</th>\n",
       "      <th>nr_following_comps_in_para</th>\n",
       "      <th>structural_fts_as_text</th>\n",
       "      <th>structural_fts_as_text_combined</th>\n",
       "      <th>para_ratio</th>\n",
       "      <th>first_or_last</th>\n",
       "      <th>strct_fts_w_position_in_essay</th>\n",
       "      <th>component_pos_tags</th>\n",
       "      <th>strct_fts_essay_position_pos_tags</th>\n",
       "    </tr>\n",
       "  </thead>\n",
       "  <tbody>\n",
       "    <tr>\n",
       "      <th>0</th>\n",
       "      <td>essay001</td>\n",
       "      <td>T1</td>\n",
       "      <td>MajorClaim 503 575</td>\n",
       "      <td>we should attach more importance to cooperatio...</td>\n",
       "      <td>MajorClaim</td>\n",
       "      <td>MajorClaim</td>\n",
       "      <td>[]</td>\n",
       "      <td></td>\n",
       "      <td>Linked</td>\n",
       "      <td>TRAIN</td>\n",
       "      <td>...</td>\n",
       "      <td>1</td>\n",
       "      <td>0</td>\n",
       "      <td>0</td>\n",
       "      <td>Topic: Should students be taught to compete or...</td>\n",
       "      <td>Topic: Should students be taught to compete or...</td>\n",
       "      <td>0.25</td>\n",
       "      <td>1</td>\n",
       "      <td>Topic: Should students be taught to compete or...</td>\n",
       "      <td>Part Of Speech tags: PRON, VERB, VERB, ADJ, NO...</td>\n",
       "      <td>Topic: Should students be taught to compete or...</td>\n",
       "    </tr>\n",
       "    <tr>\n",
       "      <th>1</th>\n",
       "      <td>essay001</td>\n",
       "      <td>T3</td>\n",
       "      <td>Claim 591 714</td>\n",
       "      <td>through cooperation, children can learn about ...</td>\n",
       "      <td>Claim</td>\n",
       "      <td>Claim</td>\n",
       "      <td>[]</td>\n",
       "      <td>Support</td>\n",
       "      <td>Linked</td>\n",
       "      <td>TRAIN</td>\n",
       "      <td>...</td>\n",
       "      <td>0</td>\n",
       "      <td>0</td>\n",
       "      <td>3</td>\n",
       "      <td>Topic: Should students be taught to compete or...</td>\n",
       "      <td>Topic: Should students be taught to compete or...</td>\n",
       "      <td>0.50</td>\n",
       "      <td>0</td>\n",
       "      <td>Topic: Should students be taught to compete or...</td>\n",
       "      <td>Part Of Speech tags: ADP, NOUN, PUNCT, NOUN, V...</td>\n",
       "      <td>Topic: Should students be taught to compete or...</td>\n",
       "    </tr>\n",
       "    <tr>\n",
       "      <th>2</th>\n",
       "      <td>essay001</td>\n",
       "      <td>T4</td>\n",
       "      <td>Premise 716 851</td>\n",
       "      <td>What we acquired from team work is not only ho...</td>\n",
       "      <td>Premise</td>\n",
       "      <td>Premise</td>\n",
       "      <td>[]</td>\n",
       "      <td>Support</td>\n",
       "      <td>NotLinked</td>\n",
       "      <td>TRAIN</td>\n",
       "      <td>...</td>\n",
       "      <td>0</td>\n",
       "      <td>1</td>\n",
       "      <td>2</td>\n",
       "      <td>Topic: Should students be taught to compete or...</td>\n",
       "      <td>Topic: Should students be taught to compete or...</td>\n",
       "      <td>0.50</td>\n",
       "      <td>0</td>\n",
       "      <td>Topic: Should students be taught to compete or...</td>\n",
       "      <td>Part Of Speech tags: PRON, PRON, VERB, ADP, NO...</td>\n",
       "      <td>Topic: Should students be taught to compete or...</td>\n",
       "    </tr>\n",
       "    <tr>\n",
       "      <th>3</th>\n",
       "      <td>essay001</td>\n",
       "      <td>T5</td>\n",
       "      <td>Premise 853 1086</td>\n",
       "      <td>During the process of cooperation, children ca...</td>\n",
       "      <td>Premise</td>\n",
       "      <td>Premise</td>\n",
       "      <td>[]</td>\n",
       "      <td>Support</td>\n",
       "      <td>NotLinked</td>\n",
       "      <td>TRAIN</td>\n",
       "      <td>...</td>\n",
       "      <td>0</td>\n",
       "      <td>2</td>\n",
       "      <td>1</td>\n",
       "      <td>Topic: Should students be taught to compete or...</td>\n",
       "      <td>Topic: Should students be taught to compete or...</td>\n",
       "      <td>0.50</td>\n",
       "      <td>0</td>\n",
       "      <td>Topic: Should students be taught to compete or...</td>\n",
       "      <td>Part Of Speech tags: ADP, DET, NOUN, ADP, NOUN...</td>\n",
       "      <td>Topic: Should students be taught to compete or...</td>\n",
       "    </tr>\n",
       "    <tr>\n",
       "      <th>4</th>\n",
       "      <td>essay001</td>\n",
       "      <td>T6</td>\n",
       "      <td>Premise 1088 1191</td>\n",
       "      <td>All of these skills help them to get on well w...</td>\n",
       "      <td>Premise</td>\n",
       "      <td>Premise</td>\n",
       "      <td>[]</td>\n",
       "      <td>Support</td>\n",
       "      <td>NotLinked</td>\n",
       "      <td>TRAIN</td>\n",
       "      <td>...</td>\n",
       "      <td>1</td>\n",
       "      <td>3</td>\n",
       "      <td>0</td>\n",
       "      <td>Topic: Should students be taught to compete or...</td>\n",
       "      <td>Topic: Should students be taught to compete or...</td>\n",
       "      <td>0.50</td>\n",
       "      <td>0</td>\n",
       "      <td>Topic: Should students be taught to compete or...</td>\n",
       "      <td>Part Of Speech tags: DET, ADP, DET, NOUN, VERB...</td>\n",
       "      <td>Topic: Should students be taught to compete or...</td>\n",
       "    </tr>\n",
       "    <tr>\n",
       "      <th>...</th>\n",
       "      <td>...</td>\n",
       "      <td>...</td>\n",
       "      <td>...</td>\n",
       "      <td>...</td>\n",
       "      <td>...</td>\n",
       "      <td>...</td>\n",
       "      <td>...</td>\n",
       "      <td>...</td>\n",
       "      <td>...</td>\n",
       "      <td>...</td>\n",
       "      <td>...</td>\n",
       "      <td>...</td>\n",
       "      <td>...</td>\n",
       "      <td>...</td>\n",
       "      <td>...</td>\n",
       "      <td>...</td>\n",
       "      <td>...</td>\n",
       "      <td>...</td>\n",
       "      <td>...</td>\n",
       "      <td>...</td>\n",
       "      <td>...</td>\n",
       "    </tr>\n",
       "    <tr>\n",
       "      <th>5958</th>\n",
       "      <td>essay402</td>\n",
       "      <td>T11</td>\n",
       "      <td>Premise 1275 1339</td>\n",
       "      <td>indirectly they will learn how to socialize ea...</td>\n",
       "      <td>Premise</td>\n",
       "      <td>Premise</td>\n",
       "      <td>[]</td>\n",
       "      <td>Support</td>\n",
       "      <td>NotLinked</td>\n",
       "      <td>TRAIN</td>\n",
       "      <td>...</td>\n",
       "      <td>0</td>\n",
       "      <td>4</td>\n",
       "      <td>3</td>\n",
       "      <td>Topic: Children should studying hard or playin...</td>\n",
       "      <td>Topic: Children should studying hard or playin...</td>\n",
       "      <td>0.75</td>\n",
       "      <td>0</td>\n",
       "      <td>Topic: Children should studying hard or playin...</td>\n",
       "      <td>Part Of Speech tags: ADV, PRON, VERB, VERB, AD...</td>\n",
       "      <td>Topic: Children should studying hard or playin...</td>\n",
       "    </tr>\n",
       "    <tr>\n",
       "      <th>5959</th>\n",
       "      <td>essay402</td>\n",
       "      <td>T12</td>\n",
       "      <td>Premise 1341 1388</td>\n",
       "      <td>That will make children getting lots of friends</td>\n",
       "      <td>Premise</td>\n",
       "      <td>Premise</td>\n",
       "      <td>[]</td>\n",
       "      <td>Support</td>\n",
       "      <td>NotLinked</td>\n",
       "      <td>TRAIN</td>\n",
       "      <td>...</td>\n",
       "      <td>0</td>\n",
       "      <td>5</td>\n",
       "      <td>2</td>\n",
       "      <td>Topic: Children should studying hard or playin...</td>\n",
       "      <td>Topic: Children should studying hard or playin...</td>\n",
       "      <td>0.75</td>\n",
       "      <td>0</td>\n",
       "      <td>Topic: Children should studying hard or playin...</td>\n",
       "      <td>Part Of Speech tags: DET, VERB, VERB, NOUN, VE...</td>\n",
       "      <td>Topic: Children should studying hard or playin...</td>\n",
       "    </tr>\n",
       "    <tr>\n",
       "      <th>5960</th>\n",
       "      <td>essay402</td>\n",
       "      <td>T13</td>\n",
       "      <td>Premise 1393 1436</td>\n",
       "      <td>they can contribute positively to community</td>\n",
       "      <td>Premise</td>\n",
       "      <td>Premise</td>\n",
       "      <td>[]</td>\n",
       "      <td>Support</td>\n",
       "      <td>Linked</td>\n",
       "      <td>TRAIN</td>\n",
       "      <td>...</td>\n",
       "      <td>0</td>\n",
       "      <td>6</td>\n",
       "      <td>1</td>\n",
       "      <td>Topic: Children should studying hard or playin...</td>\n",
       "      <td>Topic: Children should studying hard or playin...</td>\n",
       "      <td>0.75</td>\n",
       "      <td>0</td>\n",
       "      <td>Topic: Children should studying hard or playin...</td>\n",
       "      <td>Part Of Speech tags: PRON, VERB, VERB, ADV, AD...</td>\n",
       "      <td>Topic: Children should studying hard or playin...</td>\n",
       "    </tr>\n",
       "    <tr>\n",
       "      <th>5961</th>\n",
       "      <td>essay402</td>\n",
       "      <td>T14</td>\n",
       "      <td>Premise 1448 1525</td>\n",
       "      <td>playing sport makes children getting healthy a...</td>\n",
       "      <td>Premise</td>\n",
       "      <td>Premise</td>\n",
       "      <td>[]</td>\n",
       "      <td>Support</td>\n",
       "      <td>NotLinked</td>\n",
       "      <td>TRAIN</td>\n",
       "      <td>...</td>\n",
       "      <td>1</td>\n",
       "      <td>7</td>\n",
       "      <td>0</td>\n",
       "      <td>Topic: Children should studying hard or playin...</td>\n",
       "      <td>Topic: Children should studying hard or playin...</td>\n",
       "      <td>0.75</td>\n",
       "      <td>0</td>\n",
       "      <td>Topic: Children should studying hard or playin...</td>\n",
       "      <td>Part Of Speech tags: VERB, NOUN, VERB, NOUN, V...</td>\n",
       "      <td>Topic: Children should studying hard or playin...</td>\n",
       "    </tr>\n",
       "    <tr>\n",
       "      <th>5962</th>\n",
       "      <td>essay402</td>\n",
       "      <td>T2</td>\n",
       "      <td>MajorClaim 1543 1620</td>\n",
       "      <td>both studying hard at school and playing sport...</td>\n",
       "      <td>MajorClaim</td>\n",
       "      <td>MajorClaim</td>\n",
       "      <td>[]</td>\n",
       "      <td></td>\n",
       "      <td>Linked</td>\n",
       "      <td>TRAIN</td>\n",
       "      <td>...</td>\n",
       "      <td>1</td>\n",
       "      <td>0</td>\n",
       "      <td>0</td>\n",
       "      <td>Topic: Children should studying hard or playin...</td>\n",
       "      <td>Topic: Children should studying hard or playin...</td>\n",
       "      <td>1.00</td>\n",
       "      <td>1</td>\n",
       "      <td>Topic: Children should studying hard or playin...</td>\n",
       "      <td>Part Of Speech tags: DET, VERB, ADV, ADP, NOUN...</td>\n",
       "      <td>Topic: Children should studying hard or playin...</td>\n",
       "    </tr>\n",
       "  </tbody>\n",
       "</table>\n",
       "<p>5963 rows × 39 columns</p>\n",
       "</div>"
      ],
      "text/plain": [
       "      essay_nr component_id   label_and_comp_idxs  \\\n",
       "0     essay001           T1    MajorClaim 503 575   \n",
       "1     essay001           T3         Claim 591 714   \n",
       "2     essay001           T4       Premise 716 851   \n",
       "3     essay001           T5      Premise 853 1086   \n",
       "4     essay001           T6     Premise 1088 1191   \n",
       "...        ...          ...                   ...   \n",
       "5958  essay402          T11     Premise 1275 1339   \n",
       "5959  essay402          T12     Premise 1341 1388   \n",
       "5960  essay402          T13     Premise 1393 1436   \n",
       "5961  essay402          T14     Premise 1448 1525   \n",
       "5962  essay402           T2  MajorClaim 1543 1620   \n",
       "\n",
       "                                                   text     label_x  \\\n",
       "0     we should attach more importance to cooperatio...  MajorClaim   \n",
       "1     through cooperation, children can learn about ...       Claim   \n",
       "2     What we acquired from team work is not only ho...     Premise   \n",
       "3     During the process of cooperation, children ca...     Premise   \n",
       "4     All of these skills help them to get on well w...     Premise   \n",
       "...                                                 ...         ...   \n",
       "5958  indirectly they will learn how to socialize ea...     Premise   \n",
       "5959    That will make children getting lots of friends     Premise   \n",
       "5960        they can contribute positively to community     Premise   \n",
       "5961  playing sport makes children getting healthy a...     Premise   \n",
       "5962  both studying hard at school and playing sport...  MajorClaim   \n",
       "\n",
       "     label_ComponentType relation_SupportAttack label_RelationType  \\\n",
       "0             MajorClaim                     []                      \n",
       "1                  Claim                     []            Support   \n",
       "2                Premise                     []            Support   \n",
       "3                Premise                     []            Support   \n",
       "4                Premise                     []            Support   \n",
       "...                  ...                    ...                ...   \n",
       "5958             Premise                     []            Support   \n",
       "5959             Premise                     []            Support   \n",
       "5960             Premise                     []            Support   \n",
       "5961             Premise                     []            Support   \n",
       "5962          MajorClaim                     []                      \n",
       "\n",
       "     label_LinkedNotLinked split_y  ... is_last_in_para  \\\n",
       "0                   Linked   TRAIN  ...               1   \n",
       "1                   Linked   TRAIN  ...               0   \n",
       "2                NotLinked   TRAIN  ...               0   \n",
       "3                NotLinked   TRAIN  ...               0   \n",
       "4                NotLinked   TRAIN  ...               1   \n",
       "...                    ...     ...  ...             ...   \n",
       "5958             NotLinked   TRAIN  ...               0   \n",
       "5959             NotLinked   TRAIN  ...               0   \n",
       "5960                Linked   TRAIN  ...               0   \n",
       "5961             NotLinked   TRAIN  ...               1   \n",
       "5962                Linked   TRAIN  ...               1   \n",
       "\n",
       "      nr_preceeding_comps_in_para  nr_following_comps_in_para  \\\n",
       "0                               0                           0   \n",
       "1                               0                           3   \n",
       "2                               1                           2   \n",
       "3                               2                           1   \n",
       "4                               3                           0   \n",
       "...                           ...                         ...   \n",
       "5958                            4                           3   \n",
       "5959                            5                           2   \n",
       "5960                            6                           1   \n",
       "5961                            7                           0   \n",
       "5962                            0                           0   \n",
       "\n",
       "                                 structural_fts_as_text  \\\n",
       "0     Topic: Should students be taught to compete or...   \n",
       "1     Topic: Should students be taught to compete or...   \n",
       "2     Topic: Should students be taught to compete or...   \n",
       "3     Topic: Should students be taught to compete or...   \n",
       "4     Topic: Should students be taught to compete or...   \n",
       "...                                                 ...   \n",
       "5958  Topic: Children should studying hard or playin...   \n",
       "5959  Topic: Children should studying hard or playin...   \n",
       "5960  Topic: Children should studying hard or playin...   \n",
       "5961  Topic: Children should studying hard or playin...   \n",
       "5962  Topic: Children should studying hard or playin...   \n",
       "\n",
       "                        structural_fts_as_text_combined para_ratio  \\\n",
       "0     Topic: Should students be taught to compete or...       0.25   \n",
       "1     Topic: Should students be taught to compete or...       0.50   \n",
       "2     Topic: Should students be taught to compete or...       0.50   \n",
       "3     Topic: Should students be taught to compete or...       0.50   \n",
       "4     Topic: Should students be taught to compete or...       0.50   \n",
       "...                                                 ...        ...   \n",
       "5958  Topic: Children should studying hard or playin...       0.75   \n",
       "5959  Topic: Children should studying hard or playin...       0.75   \n",
       "5960  Topic: Children should studying hard or playin...       0.75   \n",
       "5961  Topic: Children should studying hard or playin...       0.75   \n",
       "5962  Topic: Children should studying hard or playin...       1.00   \n",
       "\n",
       "      first_or_last                      strct_fts_w_position_in_essay  \\\n",
       "0                 1  Topic: Should students be taught to compete or...   \n",
       "1                 0  Topic: Should students be taught to compete or...   \n",
       "2                 0  Topic: Should students be taught to compete or...   \n",
       "3                 0  Topic: Should students be taught to compete or...   \n",
       "4                 0  Topic: Should students be taught to compete or...   \n",
       "...             ...                                                ...   \n",
       "5958              0  Topic: Children should studying hard or playin...   \n",
       "5959              0  Topic: Children should studying hard or playin...   \n",
       "5960              0  Topic: Children should studying hard or playin...   \n",
       "5961              0  Topic: Children should studying hard or playin...   \n",
       "5962              1  Topic: Children should studying hard or playin...   \n",
       "\n",
       "                                     component_pos_tags  \\\n",
       "0     Part Of Speech tags: PRON, VERB, VERB, ADJ, NO...   \n",
       "1     Part Of Speech tags: ADP, NOUN, PUNCT, NOUN, V...   \n",
       "2     Part Of Speech tags: PRON, PRON, VERB, ADP, NO...   \n",
       "3     Part Of Speech tags: ADP, DET, NOUN, ADP, NOUN...   \n",
       "4     Part Of Speech tags: DET, ADP, DET, NOUN, VERB...   \n",
       "...                                                 ...   \n",
       "5958  Part Of Speech tags: ADV, PRON, VERB, VERB, AD...   \n",
       "5959  Part Of Speech tags: DET, VERB, VERB, NOUN, VE...   \n",
       "5960  Part Of Speech tags: PRON, VERB, VERB, ADV, AD...   \n",
       "5961  Part Of Speech tags: VERB, NOUN, VERB, NOUN, V...   \n",
       "5962  Part Of Speech tags: DET, VERB, ADV, ADP, NOUN...   \n",
       "\n",
       "                      strct_fts_essay_position_pos_tags  \n",
       "0     Topic: Should students be taught to compete or...  \n",
       "1     Topic: Should students be taught to compete or...  \n",
       "2     Topic: Should students be taught to compete or...  \n",
       "3     Topic: Should students be taught to compete or...  \n",
       "4     Topic: Should students be taught to compete or...  \n",
       "...                                                 ...  \n",
       "5958  Topic: Children should studying hard or playin...  \n",
       "5959  Topic: Children should studying hard or playin...  \n",
       "5960  Topic: Children should studying hard or playin...  \n",
       "5961  Topic: Children should studying hard or playin...  \n",
       "5962  Topic: Children should studying hard or playin...  \n",
       "\n",
       "[5963 rows x 39 columns]"
      ]
     },
     "execution_count": 8,
     "metadata": {},
     "output_type": "execute_result"
    }
   ],
   "source": [
    "dataset_df"
   ]
  },
  {
   "cell_type": "code",
   "execution_count": 9,
   "id": "1db59d74",
   "metadata": {},
   "outputs": [
    {
     "name": "stderr",
     "output_type": "stream",
     "text": [
      "/tmp/ipykernel_157/867583492.py:1: SettingWithCopyWarning: \n",
      "A value is trying to be set on a copy of a slice from a DataFrame\n",
      "\n",
      "See the caveats in the documentation: https://pandas.pydata.org/pandas-docs/stable/user_guide/indexing.html#returning-a-view-versus-a-copy\n",
      "  dataset_df['paragraph'][1926] = 'Based on the reasons demonstrated above, I prefer to express my opinion in person because the advantages of this are qualitatively greater than that of the opposite. In other words, I think the best way of communication is by means of face-to-face. It is not to say, of course, that other points of view are completely without merit. Still, I am firmly convinced that the reasons I proposed in favor of my own sentiment are much more tenable and cogent.'\n"
     ]
    }
   ],
   "source": [
    "dataset_df['paragraph'][1926] = 'Based on the reasons demonstrated above, I prefer to express my opinion in person because the advantages of this are qualitatively greater than that of the opposite. In other words, I think the best way of communication is by means of face-to-face. It is not to say, of course, that other points of view are completely without merit. Still, I am firmly convinced that the reasons I proposed in favor of my own sentiment are much more tenable and cogent.'"
   ]
  },
  {
   "cell_type": "code",
   "execution_count": 10,
   "id": "9d6d434e",
   "metadata": {},
   "outputs": [
    {
     "name": "stderr",
     "output_type": "stream",
     "text": [
      "/tmp/ipykernel_157/3379091247.py:1: SettingWithCopyWarning: \n",
      "A value is trying to be set on a copy of a slice from a DataFrame\n",
      "\n",
      "See the caveats in the documentation: https://pandas.pydata.org/pandas-docs/stable/user_guide/indexing.html#returning-a-view-versus-a-copy\n",
      "  dataset_df['paragraph'][4831] = 'Finally, although I prefer to live in a big city, I can not help but assure that this is a matter of personal taste, to be clear, I would love to spend some days in countryside to recharge my soul and relieve myself from daily stress.'\n"
     ]
    }
   ],
   "source": [
    "dataset_df['paragraph'][4831] = 'Finally, although I prefer to live in a big city, I can not help but assure that this is a matter of personal taste, to be clear, I would love to spend some days in countryside to recharge my soul and relieve myself from daily stress.'"
   ]
  },
  {
   "cell_type": "code",
   "execution_count": 11,
   "id": "33d8b455",
   "metadata": {},
   "outputs": [
    {
     "name": "stderr",
     "output_type": "stream",
     "text": [
      "/tmp/ipykernel_157/2273872724.py:1: SettingWithCopyWarning: \n",
      "A value is trying to be set on a copy of a slice from a DataFrame\n",
      "\n",
      "See the caveats in the documentation: https://pandas.pydata.org/pandas-docs/stable/user_guide/indexing.html#returning-a-view-versus-a-copy\n",
      "  dataset_df['paragraph'][3908] = 'I do believe that great success requires taking great risks. If you want to gain very high profits in investments, you should use great and very high amounts of money in very risky financial decisions and dealings in which you may lose much amount of money. If you want to achieve a remarkable success in an important exam, you should risk studying all the time and sacrificing your free time and your favorite hobbies. The more you take risks, the greater your successes will be. If you don’t take any risks, you will have an ordinary life with average successes. That’s why it is important to take risks.'\n"
     ]
    }
   ],
   "source": [
    "dataset_df['paragraph'][3908] = 'I do believe that great success requires taking great risks. If you want to gain very high profits in investments, you should use great and very high amounts of money in very risky financial decisions and dealings in which you may lose much amount of money. If you want to achieve a remarkable success in an important exam, you should risk studying all the time and sacrificing your free time and your favorite hobbies. The more you take risks, the greater your successes will be. If you don’t take any risks, you will have an ordinary life with average successes. That’s why it is important to take risks.'"
   ]
  },
  {
   "cell_type": "code",
   "execution_count": 12,
   "id": "cf674214",
   "metadata": {},
   "outputs": [
    {
     "name": "stderr",
     "output_type": "stream",
     "text": [
      "/tmp/ipykernel_157/1196760580.py:1: SettingWithCopyWarning: \n",
      "A value is trying to be set on a copy of a slice from a DataFrame\n",
      "\n",
      "See the caveats in the documentation: https://pandas.pydata.org/pandas-docs/stable/user_guide/indexing.html#returning-a-view-versus-a-copy\n",
      "  dataset_df['paragraph'][4306] = 'In conclusion, experiences that shape my thinking and the way to live my life are teach me to be a better person. Because I could find a better way to solve problems. Besides, experiences could shape me to be more aware about my health. Moreover, these experiences could make me to make plan for my future life. These experiences taught me to change my life to be a better person.'\n"
     ]
    }
   ],
   "source": [
    "dataset_df['paragraph'][4306] = 'In conclusion, experiences that shape my thinking and the way to live my life are teach me to be a better person. Because I could find a better way to solve problems. Besides, experiences could shape me to be more aware about my health. Moreover, these experiences could make me to make plan for my future life. These experiences taught me to change my life to be a better person.'"
   ]
  },
  {
   "cell_type": "markdown",
   "id": "f746f331",
   "metadata": {},
   "source": [
    "#### get ams"
   ]
  },
  {
   "cell_type": "code",
   "execution_count": 13,
   "id": "35db373e",
   "metadata": {},
   "outputs": [
    {
     "ename": "FileNotFoundError",
     "evalue": "[Errno 2] No such file or directory: 'am_list.txt'",
     "output_type": "error",
     "traceback": [
      "\u001b[0;31m---------------------------------------------------------------------------\u001b[0m",
      "\u001b[0;31mFileNotFoundError\u001b[0m                         Traceback (most recent call last)",
      "\u001b[0;32m/tmp/ipykernel_157/1078729919.py\u001b[0m in \u001b[0;36m<module>\u001b[0;34m\u001b[0m\n\u001b[0;32m----> 1\u001b[0;31m \u001b[0;32mwith\u001b[0m \u001b[0mopen\u001b[0m\u001b[0;34m(\u001b[0m\u001b[0;34m\"am_list.txt\"\u001b[0m\u001b[0;34m)\u001b[0m \u001b[0;32mas\u001b[0m \u001b[0mfile_am\u001b[0m\u001b[0;34m:\u001b[0m\u001b[0;34m\u001b[0m\u001b[0;34m\u001b[0m\u001b[0m\n\u001b[0m\u001b[1;32m      2\u001b[0m     \u001b[0mlist_of_ams\u001b[0m \u001b[0;34m=\u001b[0m \u001b[0;34m[\u001b[0m\u001b[0;34m]\u001b[0m\u001b[0;34m\u001b[0m\u001b[0;34m\u001b[0m\u001b[0m\n\u001b[1;32m      3\u001b[0m     \u001b[0;32mfor\u001b[0m \u001b[0mline\u001b[0m \u001b[0;32min\u001b[0m \u001b[0mfile_am\u001b[0m\u001b[0;34m:\u001b[0m\u001b[0;34m\u001b[0m\u001b[0;34m\u001b[0m\u001b[0m\n\u001b[1;32m      4\u001b[0m         \u001b[0mlist_of_ams\u001b[0m\u001b[0;34m.\u001b[0m\u001b[0mappend\u001b[0m\u001b[0;34m(\u001b[0m\u001b[0mline\u001b[0m\u001b[0;34m.\u001b[0m\u001b[0mrstrip\u001b[0m\u001b[0;34m(\u001b[0m\u001b[0;34m'\\n'\u001b[0m\u001b[0;34m)\u001b[0m\u001b[0;34m)\u001b[0m\u001b[0;34m\u001b[0m\u001b[0;34m\u001b[0m\u001b[0m\n",
      "\u001b[0;31mFileNotFoundError\u001b[0m: [Errno 2] No such file or directory: 'am_list.txt'"
     ]
    }
   ],
   "source": [
    "with open(\"am_list.txt\") as file_am:\n",
    "    list_of_ams = []\n",
    "    for line in file_am:\n",
    "        list_of_ams.append(line.rstrip('\\n'))"
   ]
  },
  {
   "cell_type": "code",
   "execution_count": null,
   "id": "7eeacea6",
   "metadata": {},
   "outputs": [],
   "source": [
    "def am_in_prefix(list_a, list_b):\n",
    "    \n",
    "    equal_flag = 0\n",
    "    \n",
    "    for i in range(len(list_a)):\n",
    "        \n",
    "        sub_list = list_a[i:i+len(list_b)]\n",
    "        \n",
    "        if sub_list == list_b:\n",
    "            \n",
    "            equal_flag = 1\n",
    "            break\n",
    "        \n",
    "        else:\n",
    "            \n",
    "            equal_flag = 0\n",
    "            \n",
    "    return equal_flag"
   ]
  },
  {
   "cell_type": "code",
   "execution_count": null,
   "id": "ae71b3c8",
   "metadata": {},
   "outputs": [],
   "source": [
    "def get_am(x, list_of_ams):\n",
    "    \n",
    "    am = []\n",
    "    \n",
    "    sentence = x.sentence\n",
    "    component = x.text\n",
    "    \n",
    "    prefix = sentence[:sentence.find(component)]\n",
    "    prefix = re.findall(r'\\s|,|[^,\\s]+', prefix) \n",
    "    prefix = [item for item in prefix if item != \" \"]\n",
    "    prefix = [word.casefold() for word in prefix]\n",
    "    \n",
    "    list_of_ams = [am.casefold() for am in list_of_ams]\n",
    "    list_of_ams = list(set(list_of_ams))\n",
    "  \n",
    "    for am_phrase in list_of_ams:\n",
    "        \n",
    "        am_words_list = re.findall(r'\\s|,|[^,\\s]+', am_phrase)\n",
    "        am_words_list = [item for item in am_words_list if item != \" \"]\n",
    "        \n",
    "        if am_in_prefix(prefix, am_words_list) and len(am) == 0:\n",
    "            \n",
    "            am.append(am_phrase)\n",
    "    \n",
    "    return am         "
   ]
  },
  {
   "cell_type": "code",
   "execution_count": null,
   "id": "73433b08",
   "metadata": {},
   "outputs": [],
   "source": [
    "dataset_df['am'] = dataset_df.apply(lambda x: get_am(x, list_of_ams), axis=1)"
   ]
  },
  {
   "cell_type": "code",
   "execution_count": null,
   "id": "0d94f2c6",
   "metadata": {},
   "outputs": [],
   "source": [
    "dataset_df['am']"
   ]
  },
  {
   "cell_type": "markdown",
   "id": "d5a2d21d",
   "metadata": {},
   "source": [
    "### do group by for every required column"
   ]
  },
  {
   "cell_type": "code",
   "execution_count": null,
   "id": "d1dab5e0",
   "metadata": {},
   "outputs": [],
   "source": [
    "paras_df = dataset_df.groupby(\"paragraph\", sort=False)"
   ]
  },
  {
   "cell_type": "code",
   "execution_count": null,
   "id": "a7d65ded",
   "metadata": {},
   "outputs": [],
   "source": [
    "paras_df"
   ]
  },
  {
   "cell_type": "code",
   "execution_count": null,
   "id": "4b2554d5",
   "metadata": {},
   "outputs": [],
   "source": [
    "df_by_paras_text = paras_df[\"text\"].apply(list)"
   ]
  },
  {
   "cell_type": "code",
   "execution_count": null,
   "id": "e8eaa503",
   "metadata": {
    "scrolled": true
   },
   "outputs": [],
   "source": [
    "df_by_paras_text"
   ]
  },
  {
   "cell_type": "code",
   "execution_count": null,
   "id": "25dd54da",
   "metadata": {},
   "outputs": [],
   "source": [
    "df_by_paras_text = df_by_paras_text.reset_index()"
   ]
  },
  {
   "cell_type": "code",
   "execution_count": null,
   "id": "df477854",
   "metadata": {},
   "outputs": [],
   "source": [
    "df_by_paras_text"
   ]
  },
  {
   "cell_type": "code",
   "execution_count": null,
   "id": "7341913f",
   "metadata": {},
   "outputs": [],
   "source": [
    "df_by_paras_labels = paras_df[\"label_ComponentType\"].apply(list).reset_index()"
   ]
  },
  {
   "cell_type": "code",
   "execution_count": null,
   "id": "3cf32139",
   "metadata": {},
   "outputs": [],
   "source": [
    "# Nice."
   ]
  },
  {
   "cell_type": "code",
   "execution_count": null,
   "id": "f8b04dcd",
   "metadata": {},
   "outputs": [],
   "source": [
    "df_by_paras_split = paras_df['split_y'].first()"
   ]
  },
  {
   "cell_type": "code",
   "execution_count": null,
   "id": "d3d5983f",
   "metadata": {},
   "outputs": [],
   "source": [
    "df_by_paras_split = df_by_paras_split.reset_index()"
   ]
  },
  {
   "cell_type": "code",
   "execution_count": null,
   "id": "53a9c506",
   "metadata": {},
   "outputs": [],
   "source": [
    "df_by_paras_split"
   ]
  },
  {
   "cell_type": "code",
   "execution_count": null,
   "id": "7b983198",
   "metadata": {},
   "outputs": [],
   "source": [
    "df_by_paras_ams = paras_df[\"am\"].apply(list)"
   ]
  },
  {
   "cell_type": "code",
   "execution_count": null,
   "id": "24b9b98b",
   "metadata": {
    "scrolled": true
   },
   "outputs": [],
   "source": [
    "df_by_paras_ams"
   ]
  },
  {
   "cell_type": "code",
   "execution_count": null,
   "id": "59a83f07",
   "metadata": {},
   "outputs": [],
   "source": [
    "df_by_paras_ams = df_by_paras_ams.reset_index()"
   ]
  },
  {
   "cell_type": "code",
   "execution_count": null,
   "id": "8f33a7c9",
   "metadata": {},
   "outputs": [],
   "source": [
    "df_by_paras_ams"
   ]
  },
  {
   "cell_type": "code",
   "execution_count": null,
   "id": "72366d77",
   "metadata": {},
   "outputs": [],
   "source": [
    "# get essays"
   ]
  },
  {
   "cell_type": "code",
   "execution_count": null,
   "id": "352e2abc",
   "metadata": {},
   "outputs": [],
   "source": [
    "df_by_paras_essay = paras_df['essay_nr'].first()"
   ]
  },
  {
   "cell_type": "code",
   "execution_count": null,
   "id": "9e87434a",
   "metadata": {},
   "outputs": [],
   "source": [
    "df_by_paras_essay = df_by_paras_essay.reset_index()"
   ]
  },
  {
   "cell_type": "code",
   "execution_count": null,
   "id": "6aefd3cf",
   "metadata": {},
   "outputs": [],
   "source": [
    "df_by_paras_essay"
   ]
  },
  {
   "cell_type": "code",
   "execution_count": null,
   "id": "2d3c2c3c",
   "metadata": {},
   "outputs": [],
   "source": [
    "# make the first two DFs lists of lists"
   ]
  },
  {
   "cell_type": "code",
   "execution_count": null,
   "id": "325f51d1",
   "metadata": {},
   "outputs": [],
   "source": [
    "def make_acs_l_o_l(x):\n",
    "    \n",
    "    list_acs = x.text\n",
    "    \n",
    "    new_list = [[ac] for ac in list_acs]\n",
    "    \n",
    "    return new_list"
   ]
  },
  {
   "cell_type": "code",
   "execution_count": null,
   "id": "41f6db17",
   "metadata": {},
   "outputs": [],
   "source": [
    "df_by_paras_text['paragraph_components_list'] = df_by_paras_text.apply(lambda x: make_acs_l_o_l(x), axis=1)"
   ]
  },
  {
   "cell_type": "code",
   "execution_count": null,
   "id": "d3b4d60e",
   "metadata": {},
   "outputs": [],
   "source": [
    "# ok now for the second labels df"
   ]
  },
  {
   "cell_type": "code",
   "execution_count": null,
   "id": "3fad5edc",
   "metadata": {},
   "outputs": [],
   "source": [
    "def make_labels_l_o_l(x):\n",
    "    \n",
    "    list_labels = x.label_ComponentType\n",
    "    \n",
    "    new_list = [[label] for label in list_labels]\n",
    "    \n",
    "    return new_list"
   ]
  },
  {
   "cell_type": "code",
   "execution_count": null,
   "id": "f46a3855",
   "metadata": {},
   "outputs": [],
   "source": [
    "df_by_paras_labels['paragraph_labels_list'] = df_by_paras_labels.apply(lambda x: make_labels_l_o_l(x), axis=1)"
   ]
  },
  {
   "cell_type": "code",
   "execution_count": null,
   "id": "a996fc92",
   "metadata": {},
   "outputs": [],
   "source": [
    "# ok seems correct."
   ]
  },
  {
   "cell_type": "code",
   "execution_count": null,
   "id": "d4a90f2c",
   "metadata": {},
   "outputs": [],
   "source": [
    "# now combine the three dataframes"
   ]
  },
  {
   "cell_type": "code",
   "execution_count": null,
   "id": "8238a7ff",
   "metadata": {},
   "outputs": [],
   "source": [
    "df = pd.concat([df_by_paras_text, df_by_paras_labels, df_by_paras_ams, df_by_paras_split, df_by_paras_essay], axis=1)"
   ]
  },
  {
   "cell_type": "code",
   "execution_count": null,
   "id": "afeaf287",
   "metadata": {},
   "outputs": [],
   "source": [
    "df"
   ]
  },
  {
   "cell_type": "code",
   "execution_count": null,
   "id": "50f4a9da",
   "metadata": {},
   "outputs": [],
   "source": [
    "df = df.loc[:,~df.columns.duplicated()].copy()"
   ]
  },
  {
   "cell_type": "code",
   "execution_count": null,
   "id": "d9a59bd6",
   "metadata": {},
   "outputs": [],
   "source": [
    "df"
   ]
  },
  {
   "cell_type": "code",
   "execution_count": null,
   "id": "435e98fa",
   "metadata": {},
   "outputs": [],
   "source": [
    "df = df.drop(columns=['text', 'label_ComponentType'])"
   ]
  },
  {
   "cell_type": "code",
   "execution_count": null,
   "id": "6899b90b",
   "metadata": {},
   "outputs": [],
   "source": [
    "df = df.rename(columns={\"am\": \"paragraph_markers_list\"})"
   ]
  },
  {
   "cell_type": "code",
   "execution_count": null,
   "id": "8ae6e6c6",
   "metadata": {},
   "outputs": [],
   "source": [
    "df = df.rename(columns={\"split_y\": \"split\"})"
   ]
  },
  {
   "cell_type": "code",
   "execution_count": null,
   "id": "31dcd620",
   "metadata": {},
   "outputs": [],
   "source": [
    "df"
   ]
  },
  {
   "cell_type": "code",
   "execution_count": null,
   "id": "add6da82",
   "metadata": {},
   "outputs": [],
   "source": [
    "def is_equal(x):\n",
    "    \n",
    "    # flag = 0\n",
    "    \n",
    "    list_ac = x.paragraph_components_list\n",
    "    list_am = x.paragraph_markers_list\n",
    "    \n",
    "    return len(list_ac) == len(list_am)"
   ]
  },
  {
   "cell_type": "code",
   "execution_count": null,
   "id": "e61fa4c0",
   "metadata": {},
   "outputs": [],
   "source": [
    "df['ac=am'] = df.apply(lambda x: is_equal(x), axis=1)"
   ]
  },
  {
   "cell_type": "code",
   "execution_count": null,
   "id": "ad2907fc",
   "metadata": {},
   "outputs": [],
   "source": [
    "df['ac=am'].value_counts()"
   ]
  },
  {
   "cell_type": "code",
   "execution_count": null,
   "id": "b1b6934c",
   "metadata": {},
   "outputs": [],
   "source": [
    "def is_equal_label(x):\n",
    "    \n",
    "    flag = 0\n",
    "    \n",
    "    list_ac = x.paragraph_components_list\n",
    "    list_am = x.paragraph_labels_list\n",
    "    \n",
    "    if len(list_ac) == len(list_am):\n",
    "        \n",
    "        flag = 1\n",
    "        \n",
    "    else:\n",
    "        \n",
    "        flag = 0\n",
    "        \n",
    "    return flag"
   ]
  },
  {
   "cell_type": "code",
   "execution_count": null,
   "id": "acb897c1",
   "metadata": {},
   "outputs": [],
   "source": [
    "df['ac=lab'] = df.apply(lambda x: is_equal_label(x), axis=1)"
   ]
  },
  {
   "cell_type": "code",
   "execution_count": null,
   "id": "5931860a",
   "metadata": {},
   "outputs": [],
   "source": [
    "df['ac=lab'].value_counts()"
   ]
  },
  {
   "cell_type": "code",
   "execution_count": null,
   "id": "ac99c60f",
   "metadata": {},
   "outputs": [],
   "source": [
    "# ok both correct."
   ]
  },
  {
   "cell_type": "code",
   "execution_count": null,
   "id": "878f1a2e",
   "metadata": {},
   "outputs": [],
   "source": [
    "df = df.drop(columns=df.columns[-1])"
   ]
  },
  {
   "cell_type": "code",
   "execution_count": null,
   "id": "39664912",
   "metadata": {},
   "outputs": [],
   "source": [
    "df = df.drop(columns=df.columns[-1])"
   ]
  },
  {
   "cell_type": "code",
   "execution_count": null,
   "id": "a04083aa",
   "metadata": {},
   "outputs": [],
   "source": [
    "df"
   ]
  },
  {
   "cell_type": "code",
   "execution_count": null,
   "id": "1b602bde",
   "metadata": {},
   "outputs": [],
   "source": [
    "def get_numeric_labels(x):\n",
    "    \n",
    "    numeric_labels = []\n",
    "    \n",
    "    string_labels = x.paragraph_labels_list\n",
    "    \n",
    "    for label in string_labels:\n",
    "        \n",
    "        if label == ['MajorClaim']:\n",
    "            \n",
    "            numeric_labels.append(0)\n",
    "            \n",
    "        elif label == ['Claim']:\n",
    "            \n",
    "            numeric_labels.append(1)\n",
    "            \n",
    "        elif label == ['Premise']:\n",
    "            \n",
    "            numeric_labels.append(2)\n",
    "            \n",
    "    return numeric_labels"
   ]
  },
  {
   "cell_type": "code",
   "execution_count": null,
   "id": "03260281",
   "metadata": {},
   "outputs": [],
   "source": [
    "df['paragraph_labels_numeric'] = df.apply(lambda x: get_numeric_labels(x), axis=1)"
   ]
  },
  {
   "cell_type": "code",
   "execution_count": null,
   "id": "4cdbb87e",
   "metadata": {},
   "outputs": [],
   "source": [
    "# correct the five problematic things in the DF."
   ]
  },
  {
   "cell_type": "code",
   "execution_count": null,
   "id": "c9d81291",
   "metadata": {},
   "outputs": [],
   "source": [
    "df['paragraph_components_list'][409] = [['when children take jobs, they tend to be more responsible'],\n",
    " ['whether they can earn money or not will depend on their effectiveness and attitudes in working'],\n",
    " ['To keep their jobs, children will have to try their best to finish their duties'],\n",
    " ['if a child works as a shop assistant, he will have to keep an eye on good and products, calculate prices correctly and take responsibilities for any lost']]"
   ]
  },
  {
   "cell_type": "code",
   "execution_count": null,
   "id": "26c06187",
   "metadata": {},
   "outputs": [],
   "source": [
    "df['paragraph_components_list'][473] = [['children need human interactions'],\n",
    " ['No matter how advanced technology will be, it is clear that a computer will never be able to communicate with its pupils'],\n",
    " [\"As a recent interview with Josh Trumm – the founder of the 'Teachers Global Group'- reveals, human interactions will never be imitated by computers: 'This verbal and non-verbal communication between teachers and children is the first step towards a proper education\"],\n",
    " [\"Without someone who can explain and understand their problems, pupils cannot actually learn'\"],\n",
    " ['only a teacher can feel and connect with pupils, be a friend and a model']]"
   ]
  },
  {
   "cell_type": "code",
   "execution_count": null,
   "id": "5eae9364",
   "metadata": {},
   "outputs": [],
   "source": [
    "df['paragraph_components_list'][771] = [['the individual should finance his or her education'],\n",
    " ['it would cause too much cost from taxpayers and the government']]"
   ]
  },
  {
   "cell_type": "code",
   "execution_count": null,
   "id": "e71f30bd",
   "metadata": {},
   "outputs": [],
   "source": [
    "df['paragraph_components_list'][1061] = [['as parents are involved in the same environment'],\n",
    " ['they could thus support much more to their children, such as domain knowledge and industry-related information'],\n",
    " ['my father is a software programmer, and he indeed teaches me a lot in programming and some computer knowledge'],\n",
    " ['Whenever I met a difficulty, I would reach him for consulting'],\n",
    " ['he has many experiences'],\n",
    " ['I could save enormous time in finding solution'],\n",
    " ['This truly makes me more competitive than my colleagues'],\n",
    " ['If I worked in the different field from my father, I would have faced much difficulty than I do now']]"
   ]
  },
  {
   "cell_type": "code",
   "execution_count": null,
   "id": "15c5798c",
   "metadata": {},
   "outputs": [],
   "source": [
    "df['paragraph_components_list'][1470] = [['With rapid development of the internet, people are able to enjoy quick electronic communication via internet'],\n",
    " ['as lots of chatting apps available online such as \"Weichat\", people tend to send instant messages free of charge by using their phones rather than face to face communication'],\n",
    " ['mobile phones have shortened the distance of communication'],\n",
    " ['mobile phones have shortened the distance of communication']]"
   ]
  },
  {
   "cell_type": "code",
   "execution_count": null,
   "id": "02d2e929",
   "metadata": {},
   "outputs": [],
   "source": [
    "df['paragraph_components_list'][1470] = [['With rapid development of the internet, people are able to enjoy quick electronic communication via internet'],\n",
    "  ['as lots of chatting apps available online such as \"Weichat\", people tend to send instant messages free of charge by using their phones rather than face to face communication'],\n",
    "  ['mobile phones have shortened the distance of communication']]"
   ]
  },
  {
   "cell_type": "code",
   "execution_count": null,
   "id": "783d636e",
   "metadata": {},
   "outputs": [],
   "source": [
    "df['paragraph_markers_list'][1470] = [[], ['for instance'], ['therefore,']]"
   ]
  },
  {
   "cell_type": "code",
   "execution_count": null,
   "id": "2ab38559",
   "metadata": {},
   "outputs": [],
   "source": [
    "df"
   ]
  },
  {
   "cell_type": "code",
   "execution_count": null,
   "id": "9db3d490",
   "metadata": {},
   "outputs": [],
   "source": [
    "# get ACs"
   ]
  },
  {
   "cell_type": "code",
   "execution_count": null,
   "id": "d40652be",
   "metadata": {
    "scrolled": true
   },
   "outputs": [],
   "source": [
    "tokenizer = BertTokenizer.from_pretrained(\"bert-base-uncased\")"
   ]
  },
  {
   "cell_type": "code",
   "execution_count": null,
   "id": "75e679d0",
   "metadata": {},
   "outputs": [],
   "source": [
    "def get_ac_spans(x):\n",
    "    \n",
    "    paragraph = x.paragraph\n",
    "    paragraph_tokenized = tokenizer.tokenize(paragraph)\n",
    "    \n",
    "    ac_list = x.paragraph_components_list\n",
    "    \n",
    "    ac_spans = []        \n",
    "                \n",
    "    for ac in ac_list:            \n",
    "\n",
    "        ac_tokenized = tokenizer.tokenize(ac[0])\n",
    "        \n",
    "        for i in range(len(paragraph_tokenized)):\n",
    "            \n",
    "            span = (i, i+len(ac_tokenized)-1)\n",
    "            \n",
    "            if paragraph_tokenized[span[0]:span[1]+1] == ac_tokenized and span not in ac_spans:\n",
    "                \n",
    "                ac_spans.append(span)    \n",
    "                 \n",
    "    return ac_spans"
   ]
  },
  {
   "cell_type": "code",
   "execution_count": null,
   "id": "dc9871ce",
   "metadata": {},
   "outputs": [],
   "source": [
    "df['ac_spans'] = df.apply(lambda x: get_ac_spans(x), axis=1)"
   ]
  },
  {
   "cell_type": "code",
   "execution_count": null,
   "id": "5bb93b21",
   "metadata": {},
   "outputs": [],
   "source": [
    "ac_spans_list = df['ac_spans'].tolist()"
   ]
  },
  {
   "cell_type": "code",
   "execution_count": null,
   "id": "d846b1e6",
   "metadata": {},
   "outputs": [],
   "source": [
    "def get_inter_span_intervals(ac_spans):\n",
    "    \n",
    "    if ac_spans[0][0] == 0:\n",
    "        \n",
    "        ac_inter_spans = [(0, 0)]\n",
    "        \n",
    "    else:\n",
    "        \n",
    "        ac_inter_spans = [(0, ac_spans[0][0]-1)]\n",
    "      \n",
    "    ac_inter_spans += [(ac_spans[i][1] + 1, ac_spans[i+1][0]-1) for i in range(len(ac_spans)-1)]\n",
    "    \n",
    "    return ac_inter_spans"
   ]
  },
  {
   "cell_type": "code",
   "execution_count": null,
   "id": "eabb4a28",
   "metadata": {},
   "outputs": [],
   "source": [
    "def get_am_spans(x):\n",
    "    \n",
    "    \n",
    "    df_idx = df.index[df['paragraph'] == x.paragraph]\n",
    "    # print(df_idx[0])\n",
    "    paragraph = x.paragraph\n",
    "    paragraph_tokenized = tokenizer.tokenize(paragraph)\n",
    "    \n",
    "    am_list = x.paragraph_markers_list\n",
    "    \n",
    "    ac_spans = x.ac_spans\n",
    "    ac_inter_spans = get_inter_span_intervals(ac_spans)\n",
    "    # print(ac_inter_spans)\n",
    "    am_spans = [(-1, -1)] * len(am_list)\n",
    "                \n",
    "    for idx, am in enumerate(am_list):\n",
    "        inter_span =  ac_inter_spans[idx] \n",
    "        \n",
    "        if am:\n",
    "            \n",
    "            am_tokenized = tokenizer.tokenize(am[0])\n",
    "\n",
    "            for i in range(inter_span[0], inter_span[1]):\n",
    "\n",
    "                ac_prefix = paragraph_tokenized[inter_span[0]:inter_span[1]]\n",
    "\n",
    "                span = (i, i+len(am_tokenized)-1)\n",
    "\n",
    "                if paragraph_tokenized[span[0]:span[1]+1] == am_tokenized:\n",
    "                \n",
    "                    am_spans[idx] = span\n",
    "    \n",
    "    return am_spans"
   ]
  },
  {
   "cell_type": "code",
   "execution_count": null,
   "id": "1552e0cf",
   "metadata": {
    "scrolled": true
   },
   "outputs": [],
   "source": [
    "df['am_spans'] = df.apply(lambda x: get_am_spans(x), axis=1)"
   ]
  },
  {
   "cell_type": "code",
   "execution_count": null,
   "id": "7c0d3cef",
   "metadata": {},
   "outputs": [],
   "source": [
    "# correct! 79 to 387 is the correction work we need.\n",
    "# SANITY CHECK BELOW"
   ]
  },
  {
   "cell_type": "code",
   "execution_count": null,
   "id": "cde4047e",
   "metadata": {},
   "outputs": [],
   "source": [
    "df['am_spans'], df['ac_spans']"
   ]
  },
  {
   "cell_type": "code",
   "execution_count": null,
   "id": "299ba774",
   "metadata": {},
   "outputs": [],
   "source": [
    "def sanity_check(x):\n",
    "    \n",
    "    return len(x.ac_spans) == len(x.am_spans) "
   ]
  },
  {
   "cell_type": "code",
   "execution_count": null,
   "id": "eb88e031",
   "metadata": {},
   "outputs": [],
   "source": [
    "df['sanity'] = df.apply(lambda x: sanity_check(x), axis=1)"
   ]
  },
  {
   "cell_type": "code",
   "execution_count": null,
   "id": "b2e17efb",
   "metadata": {},
   "outputs": [],
   "source": [
    "df['sanity'].value_counts()"
   ]
  },
  {
   "cell_type": "code",
   "execution_count": null,
   "id": "d1a428c0",
   "metadata": {},
   "outputs": [],
   "source": [
    "# nice! correct. now all am_spans and ac_spans are equal in length."
   ]
  },
  {
   "cell_type": "code",
   "execution_count": null,
   "id": "4b7c022c",
   "metadata": {},
   "outputs": [],
   "source": [
    "df = df.drop(columns=df.columns[-1])"
   ]
  },
  {
   "cell_type": "code",
   "execution_count": null,
   "id": "28ae37ea",
   "metadata": {},
   "outputs": [],
   "source": [
    "df"
   ]
  },
  {
   "cell_type": "code",
   "execution_count": null,
   "id": "c935ba8f",
   "metadata": {},
   "outputs": [],
   "source": [
    "df = df.rename(columns={'am_spans' : 'paragraph_am_spans', 'ac_spans' : 'paragraph_ac_spans', 'paragraph_labels_numeric' : 'paragraph_labels'})"
   ]
  },
  {
   "cell_type": "code",
   "execution_count": null,
   "id": "98fbfcef",
   "metadata": {},
   "outputs": [],
   "source": [
    "df"
   ]
  },
  {
   "cell_type": "markdown",
   "id": "ca1850ce",
   "metadata": {},
   "source": [
    "#### dataset"
   ]
  },
  {
   "cell_type": "code",
   "execution_count": null,
   "id": "e673ef8a",
   "metadata": {},
   "outputs": [],
   "source": [
    "train_df = df[df.split=='TRAIN'].reset_index(drop=True)\n",
    "test_df = df[df.split=='TEST'].reset_index(drop=True)"
   ]
  },
  {
   "cell_type": "code",
   "execution_count": null,
   "id": "ab355136",
   "metadata": {},
   "outputs": [],
   "source": [
    "dataset_train = Dataset.from_pandas(train_df)\n",
    "dataset_test = Dataset.from_pandas(test_df)"
   ]
  },
  {
   "cell_type": "code",
   "execution_count": null,
   "id": "41fbad90",
   "metadata": {},
   "outputs": [],
   "source": [
    "train_val_datasets = dataset_train.train_test_split(train_size=0.8)\n",
    "dataset_train = train_val_datasets['train']\n",
    "dataset_val = train_val_datasets['test']"
   ]
  },
  {
   "cell_type": "code",
   "execution_count": null,
   "id": "dc8de0d8",
   "metadata": {},
   "outputs": [],
   "source": [
    "dataset = DatasetDict({\"train\": dataset_train, \"test\": dataset_test, \"validation\": dataset_val})"
   ]
  },
  {
   "cell_type": "code",
   "execution_count": null,
   "id": "ed24d02d",
   "metadata": {},
   "outputs": [],
   "source": [
    "dataset"
   ]
  },
  {
   "cell_type": "code",
   "execution_count": null,
   "id": "0718f96b",
   "metadata": {},
   "outputs": [],
   "source": [
    "torch.save(dataset, os.path.join(\"/notebooks/KURI-BERT/data\", 'pe_dataset_for_bert_minus.pt'))"
   ]
  },
  {
   "cell_type": "code",
   "execution_count": null,
   "id": "0995358f",
   "metadata": {},
   "outputs": [],
   "source": []
  }
 ],
 "metadata": {
  "kernelspec": {
   "display_name": "Python 3 (ipykernel)",
   "language": "python",
   "name": "python3"
  },
  "language_info": {
   "codemirror_mode": {
    "name": "ipython",
    "version": 3
   },
   "file_extension": ".py",
   "mimetype": "text/x-python",
   "name": "python",
   "nbconvert_exporter": "python",
   "pygments_lexer": "ipython3",
   "version": "3.8.12"
  }
 },
 "nbformat": 4,
 "nbformat_minor": 5
}
